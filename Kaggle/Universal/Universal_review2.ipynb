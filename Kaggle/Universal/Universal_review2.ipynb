{
 "cells": [
  {
   "cell_type": "code",
   "execution_count": 5,
   "id": "299d335e",
   "metadata": {},
   "outputs": [],
   "source": [
    "import numpy as np \n",
    "import pandas as pd\n",
    "import matplotlib.pyplot as plt\n",
    "import seaborn as sns\n",
    "from wordcloud import WordCloud, STOPWORDS, ImageColorGenerator\n",
    "import re \n",
    "import string\n",
    "from textblob import TextBlob"
   ]
  },
  {
   "cell_type": "code",
   "execution_count": 6,
   "id": "ef862426",
   "metadata": {},
   "outputs": [
    {
     "data": {
      "text/html": [
       "<div>\n",
       "<style scoped>\n",
       "    .dataframe tbody tr th:only-of-type {\n",
       "        vertical-align: middle;\n",
       "    }\n",
       "\n",
       "    .dataframe tbody tr th {\n",
       "        vertical-align: top;\n",
       "    }\n",
       "\n",
       "    .dataframe thead th {\n",
       "        text-align: right;\n",
       "    }\n",
       "</style>\n",
       "<table border=\"1\" class=\"dataframe\">\n",
       "  <thead>\n",
       "    <tr style=\"text-align: right;\">\n",
       "      <th></th>\n",
       "      <th>reviewer</th>\n",
       "      <th>rating</th>\n",
       "      <th>written_date</th>\n",
       "      <th>title</th>\n",
       "      <th>review_text</th>\n",
       "      <th>branch</th>\n",
       "    </tr>\n",
       "  </thead>\n",
       "  <tbody>\n",
       "    <tr>\n",
       "      <th>0</th>\n",
       "      <td>Kelly B</td>\n",
       "      <td>2.0</td>\n",
       "      <td>May 30, 2021</td>\n",
       "      <td>Universal is a complete Disaster - stick with ...</td>\n",
       "      <td>We went to Universal over Memorial Day weekend...</td>\n",
       "      <td>Universal Studios Florida</td>\n",
       "    </tr>\n",
       "    <tr>\n",
       "      <th>1</th>\n",
       "      <td>Jon</td>\n",
       "      <td>1.0</td>\n",
       "      <td>May 30, 2021</td>\n",
       "      <td>Food is hard to get.</td>\n",
       "      <td>The food service is horrible. I’m not reviewin...</td>\n",
       "      <td>Universal Studios Florida</td>\n",
       "    </tr>\n",
       "    <tr>\n",
       "      <th>2</th>\n",
       "      <td>Nerdy P</td>\n",
       "      <td>2.0</td>\n",
       "      <td>May 30, 2021</td>\n",
       "      <td>Disappointed</td>\n",
       "      <td>I booked this vacation mainly to ride Hagrid m...</td>\n",
       "      <td>Universal Studios Florida</td>\n",
       "    </tr>\n",
       "    <tr>\n",
       "      <th>3</th>\n",
       "      <td>ran101278</td>\n",
       "      <td>4.0</td>\n",
       "      <td>May 29, 2021</td>\n",
       "      <td>My opinion</td>\n",
       "      <td>When a person tries the test seat for the ride...</td>\n",
       "      <td>Universal Studios Florida</td>\n",
       "    </tr>\n",
       "    <tr>\n",
       "      <th>4</th>\n",
       "      <td>tammies20132015</td>\n",
       "      <td>5.0</td>\n",
       "      <td>May 28, 2021</td>\n",
       "      <td>The Bourne Stuntacular...MUST SEE</td>\n",
       "      <td>Ok, I can't stress enough to anyone and everyo...</td>\n",
       "      <td>Universal Studios Florida</td>\n",
       "    </tr>\n",
       "  </tbody>\n",
       "</table>\n",
       "</div>"
      ],
      "text/plain": [
       "          reviewer  rating  written_date  \\\n",
       "0          Kelly B     2.0  May 30, 2021   \n",
       "1              Jon     1.0  May 30, 2021   \n",
       "2          Nerdy P     2.0  May 30, 2021   \n",
       "3        ran101278     4.0  May 29, 2021   \n",
       "4  tammies20132015     5.0  May 28, 2021   \n",
       "\n",
       "                                               title  \\\n",
       "0  Universal is a complete Disaster - stick with ...   \n",
       "1                               Food is hard to get.   \n",
       "2                                       Disappointed   \n",
       "3                                         My opinion   \n",
       "4                  The Bourne Stuntacular...MUST SEE   \n",
       "\n",
       "                                         review_text  \\\n",
       "0  We went to Universal over Memorial Day weekend...   \n",
       "1  The food service is horrible. I’m not reviewin...   \n",
       "2  I booked this vacation mainly to ride Hagrid m...   \n",
       "3  When a person tries the test seat for the ride...   \n",
       "4  Ok, I can't stress enough to anyone and everyo...   \n",
       "\n",
       "                      branch  \n",
       "0  Universal Studios Florida  \n",
       "1  Universal Studios Florida  \n",
       "2  Universal Studios Florida  \n",
       "3  Universal Studios Florida  \n",
       "4  Universal Studios Florida  "
      ]
     },
     "execution_count": 6,
     "metadata": {},
     "output_type": "execute_result"
    }
   ],
   "source": [
    "df = pd.read_csv('universal_studio_branches.csv')\n",
    "df.head()"
   ]
  },
  {
   "cell_type": "code",
   "execution_count": 7,
   "id": "f2db22b1",
   "metadata": {},
   "outputs": [],
   "source": [
    "df['written_date'] = pd.to_datetime(df['written_date'])"
   ]
  },
  {
   "cell_type": "code",
   "execution_count": null,
   "id": "5e4aeaa8",
   "metadata": {},
   "outputs": [],
   "source": []
  }
 ],
 "metadata": {
  "kernelspec": {
   "display_name": "Python 3",
   "language": "python",
   "name": "python3"
  },
  "language_info": {
   "codemirror_mode": {
    "name": "ipython",
    "version": 3
   },
   "file_extension": ".py",
   "mimetype": "text/x-python",
   "name": "python",
   "nbconvert_exporter": "python",
   "pygments_lexer": "ipython3",
   "version": "3.8.8"
  }
 },
 "nbformat": 4,
 "nbformat_minor": 5
}
