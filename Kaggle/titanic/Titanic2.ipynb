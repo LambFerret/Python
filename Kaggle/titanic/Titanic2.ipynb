{
 "cells": [
  {
   "cell_type": "markdown",
   "id": "816ec17e",
   "metadata": {},
   "source": [
    "# 데이터 전처리 과정\n",
    "\n",
    "### Import modules"
   ]
  },
  {
   "cell_type": "code",
   "execution_count": 470,
   "id": "c1be4b74",
   "metadata": {},
   "outputs": [],
   "source": [
    "import numpy as np\n",
    "import pandas as pd \n",
    "import matplotlib.pyplot as plt\n",
    "import seaborn as sns\n",
    "\n",
    "pd.set_option('mode.chained_assignment',  None)"
   ]
  },
  {
   "cell_type": "markdown",
   "id": "8a564aae",
   "metadata": {},
   "source": [
    "### Open data and Indexing"
   ]
  },
  {
   "cell_type": "code",
   "execution_count": 471,
   "id": "56cab9af",
   "metadata": {},
   "outputs": [
    {
     "name": "stdout",
     "output_type": "stream",
     "text": [
      "Dataset complete!\n"
     ]
    }
   ],
   "source": [
    "train = pd.read_csv(\"train.csv\")\n",
    "test = pd.read_csv(\"test.csv\")\n",
    "\n",
    "total = train.append(test)\n",
    "columns_replace = {\n",
    "    'PassengerId':'Id',\n",
    "    'Embarked':'Emb',\n",
    "    'Sex':'Gender',\n",
    "              }\n",
    "total = total.rename(columns=columns_replace).set_index(\"Id\")\n",
    "print(\"Dataset complete!\")"
   ]
  },
  {
   "cell_type": "markdown",
   "id": "ec24f2f2",
   "metadata": {},
   "source": [
    "### Read Data Properly"
   ]
  },
  {
   "cell_type": "code",
   "execution_count": 472,
   "id": "0842d616",
   "metadata": {},
   "outputs": [
    {
     "data": {
      "text/html": [
       "<div>\n",
       "<style scoped>\n",
       "    .dataframe tbody tr th:only-of-type {\n",
       "        vertical-align: middle;\n",
       "    }\n",
       "\n",
       "    .dataframe tbody tr th {\n",
       "        vertical-align: top;\n",
       "    }\n",
       "\n",
       "    .dataframe thead th {\n",
       "        text-align: right;\n",
       "    }\n",
       "</style>\n",
       "<table border=\"1\" class=\"dataframe\">\n",
       "  <thead>\n",
       "    <tr style=\"text-align: right;\">\n",
       "      <th></th>\n",
       "      <th>Survived</th>\n",
       "      <th>Pclass</th>\n",
       "      <th>Name</th>\n",
       "      <th>Gender</th>\n",
       "      <th>Age</th>\n",
       "      <th>SibSp</th>\n",
       "      <th>Parch</th>\n",
       "      <th>Ticket</th>\n",
       "      <th>Fare</th>\n",
       "      <th>Cabin</th>\n",
       "      <th>Emb</th>\n",
       "    </tr>\n",
       "    <tr>\n",
       "      <th>Id</th>\n",
       "      <th></th>\n",
       "      <th></th>\n",
       "      <th></th>\n",
       "      <th></th>\n",
       "      <th></th>\n",
       "      <th></th>\n",
       "      <th></th>\n",
       "      <th></th>\n",
       "      <th></th>\n",
       "      <th></th>\n",
       "      <th></th>\n",
       "    </tr>\n",
       "  </thead>\n",
       "  <tbody>\n",
       "    <tr>\n",
       "      <th>1</th>\n",
       "      <td>0.0</td>\n",
       "      <td>3</td>\n",
       "      <td>Braund, Mr. Owen Harris</td>\n",
       "      <td>male</td>\n",
       "      <td>22.0</td>\n",
       "      <td>1</td>\n",
       "      <td>0</td>\n",
       "      <td>A/5 21171</td>\n",
       "      <td>7.2500</td>\n",
       "      <td>NaN</td>\n",
       "      <td>S</td>\n",
       "    </tr>\n",
       "    <tr>\n",
       "      <th>2</th>\n",
       "      <td>1.0</td>\n",
       "      <td>1</td>\n",
       "      <td>Cumings, Mrs. John Bradley (Florence Briggs Th...</td>\n",
       "      <td>female</td>\n",
       "      <td>38.0</td>\n",
       "      <td>1</td>\n",
       "      <td>0</td>\n",
       "      <td>PC 17599</td>\n",
       "      <td>71.2833</td>\n",
       "      <td>C85</td>\n",
       "      <td>C</td>\n",
       "    </tr>\n",
       "    <tr>\n",
       "      <th>3</th>\n",
       "      <td>1.0</td>\n",
       "      <td>3</td>\n",
       "      <td>Heikkinen, Miss. Laina</td>\n",
       "      <td>female</td>\n",
       "      <td>26.0</td>\n",
       "      <td>0</td>\n",
       "      <td>0</td>\n",
       "      <td>STON/O2. 3101282</td>\n",
       "      <td>7.9250</td>\n",
       "      <td>NaN</td>\n",
       "      <td>S</td>\n",
       "    </tr>\n",
       "  </tbody>\n",
       "</table>\n",
       "</div>"
      ],
      "text/plain": [
       "    Survived  Pclass                                               Name  \\\n",
       "Id                                                                        \n",
       "1        0.0       3                            Braund, Mr. Owen Harris   \n",
       "2        1.0       1  Cumings, Mrs. John Bradley (Florence Briggs Th...   \n",
       "3        1.0       3                             Heikkinen, Miss. Laina   \n",
       "\n",
       "    Gender   Age  SibSp  Parch            Ticket     Fare Cabin Emb  \n",
       "Id                                                                   \n",
       "1     male  22.0      1      0         A/5 21171   7.2500   NaN   S  \n",
       "2   female  38.0      1      0          PC 17599  71.2833   C85   C  \n",
       "3   female  26.0      0      0  STON/O2. 3101282   7.9250   NaN   S  "
      ]
     },
     "execution_count": 472,
     "metadata": {},
     "output_type": "execute_result"
    }
   ],
   "source": [
    "total.head(3)"
   ]
  },
  {
   "cell_type": "code",
   "execution_count": 473,
   "id": "9c7cf645",
   "metadata": {},
   "outputs": [
    {
     "data": {
      "text/html": [
       "<div>\n",
       "<style scoped>\n",
       "    .dataframe tbody tr th:only-of-type {\n",
       "        vertical-align: middle;\n",
       "    }\n",
       "\n",
       "    .dataframe tbody tr th {\n",
       "        vertical-align: top;\n",
       "    }\n",
       "\n",
       "    .dataframe thead th {\n",
       "        text-align: right;\n",
       "    }\n",
       "</style>\n",
       "<table border=\"1\" class=\"dataframe\">\n",
       "  <thead>\n",
       "    <tr style=\"text-align: right;\">\n",
       "      <th></th>\n",
       "      <th>Survived</th>\n",
       "      <th>Pclass</th>\n",
       "      <th>Age</th>\n",
       "      <th>SibSp</th>\n",
       "      <th>Parch</th>\n",
       "      <th>Fare</th>\n",
       "    </tr>\n",
       "  </thead>\n",
       "  <tbody>\n",
       "    <tr>\n",
       "      <th>count</th>\n",
       "      <td>891.000000</td>\n",
       "      <td>1309.000000</td>\n",
       "      <td>1046.000000</td>\n",
       "      <td>1309.000000</td>\n",
       "      <td>1309.000000</td>\n",
       "      <td>1308.000000</td>\n",
       "    </tr>\n",
       "    <tr>\n",
       "      <th>mean</th>\n",
       "      <td>0.383838</td>\n",
       "      <td>2.294882</td>\n",
       "      <td>29.881138</td>\n",
       "      <td>0.498854</td>\n",
       "      <td>0.385027</td>\n",
       "      <td>33.295479</td>\n",
       "    </tr>\n",
       "    <tr>\n",
       "      <th>std</th>\n",
       "      <td>0.486592</td>\n",
       "      <td>0.837836</td>\n",
       "      <td>14.413493</td>\n",
       "      <td>1.041658</td>\n",
       "      <td>0.865560</td>\n",
       "      <td>51.758668</td>\n",
       "    </tr>\n",
       "    <tr>\n",
       "      <th>min</th>\n",
       "      <td>0.000000</td>\n",
       "      <td>1.000000</td>\n",
       "      <td>0.170000</td>\n",
       "      <td>0.000000</td>\n",
       "      <td>0.000000</td>\n",
       "      <td>0.000000</td>\n",
       "    </tr>\n",
       "    <tr>\n",
       "      <th>25%</th>\n",
       "      <td>0.000000</td>\n",
       "      <td>2.000000</td>\n",
       "      <td>21.000000</td>\n",
       "      <td>0.000000</td>\n",
       "      <td>0.000000</td>\n",
       "      <td>7.895800</td>\n",
       "    </tr>\n",
       "    <tr>\n",
       "      <th>50%</th>\n",
       "      <td>0.000000</td>\n",
       "      <td>3.000000</td>\n",
       "      <td>28.000000</td>\n",
       "      <td>0.000000</td>\n",
       "      <td>0.000000</td>\n",
       "      <td>14.454200</td>\n",
       "    </tr>\n",
       "    <tr>\n",
       "      <th>75%</th>\n",
       "      <td>1.000000</td>\n",
       "      <td>3.000000</td>\n",
       "      <td>39.000000</td>\n",
       "      <td>1.000000</td>\n",
       "      <td>0.000000</td>\n",
       "      <td>31.275000</td>\n",
       "    </tr>\n",
       "    <tr>\n",
       "      <th>max</th>\n",
       "      <td>1.000000</td>\n",
       "      <td>3.000000</td>\n",
       "      <td>80.000000</td>\n",
       "      <td>8.000000</td>\n",
       "      <td>9.000000</td>\n",
       "      <td>512.329200</td>\n",
       "    </tr>\n",
       "  </tbody>\n",
       "</table>\n",
       "</div>"
      ],
      "text/plain": [
       "         Survived       Pclass          Age        SibSp        Parch  \\\n",
       "count  891.000000  1309.000000  1046.000000  1309.000000  1309.000000   \n",
       "mean     0.383838     2.294882    29.881138     0.498854     0.385027   \n",
       "std      0.486592     0.837836    14.413493     1.041658     0.865560   \n",
       "min      0.000000     1.000000     0.170000     0.000000     0.000000   \n",
       "25%      0.000000     2.000000    21.000000     0.000000     0.000000   \n",
       "50%      0.000000     3.000000    28.000000     0.000000     0.000000   \n",
       "75%      1.000000     3.000000    39.000000     1.000000     0.000000   \n",
       "max      1.000000     3.000000    80.000000     8.000000     9.000000   \n",
       "\n",
       "              Fare  \n",
       "count  1308.000000  \n",
       "mean     33.295479  \n",
       "std      51.758668  \n",
       "min       0.000000  \n",
       "25%       7.895800  \n",
       "50%      14.454200  \n",
       "75%      31.275000  \n",
       "max     512.329200  "
      ]
     },
     "execution_count": 473,
     "metadata": {},
     "output_type": "execute_result"
    }
   ],
   "source": [
    "total.describe()"
   ]
  },
  {
   "cell_type": "code",
   "execution_count": 474,
   "id": "0621cd8a",
   "metadata": {
    "scrolled": false
   },
   "outputs": [
    {
     "name": "stdout",
     "output_type": "stream",
     "text": [
      "<class 'pandas.core.frame.DataFrame'>\n",
      "Int64Index: 1309 entries, 1 to 1309\n",
      "Data columns (total 11 columns):\n",
      " #   Column    Non-Null Count  Dtype  \n",
      "---  ------    --------------  -----  \n",
      " 0   Survived  891 non-null    float64\n",
      " 1   Pclass    1309 non-null   int64  \n",
      " 2   Name      1309 non-null   object \n",
      " 3   Gender    1309 non-null   object \n",
      " 4   Age       1046 non-null   float64\n",
      " 5   SibSp     1309 non-null   int64  \n",
      " 6   Parch     1309 non-null   int64  \n",
      " 7   Ticket    1309 non-null   object \n",
      " 8   Fare      1308 non-null   float64\n",
      " 9   Cabin     295 non-null    object \n",
      " 10  Emb       1307 non-null   object \n",
      "dtypes: float64(3), int64(3), object(5)\n",
      "memory usage: 122.7+ KB\n"
     ]
    }
   ],
   "source": [
    "total.info()"
   ]
  },
  {
   "cell_type": "markdown",
   "id": "e422aa62",
   "metadata": {},
   "source": [
    "for a in total.columns:\n",
    "    print(\"----------------------------\")\n",
    "    print(total[a].value_counts())\n",
    "    print(total[a].value_counts().sum())   \n",
    "    print(\"----------------------------\")"
   ]
  },
  {
   "cell_type": "markdown",
   "id": "dbb3a56a",
   "metadata": {},
   "source": [
    "#showing columns include null value\n",
    "filtered_cols = [a for a in total.columns if total[a].isnull().sum() != 0]\n",
    "for a in filtered_cols:\n",
    "    print('----------------------------------')    \n",
    "    print(a)\n",
    "    print(total[a].value_counts())\n",
    "    print(total[a].value_counts().sum())    \n",
    "    print('----------------------------------')"
   ]
  },
  {
   "cell_type": "code",
   "execution_count": 475,
   "id": "789b77c9",
   "metadata": {},
   "outputs": [],
   "source": [
    "str_cols = [a for a in total.columns if total.dtypes[a] == 'object']\n",
    "int_cols = [b for b in total.columns if total.dtypes[b] != 'object']\n",
    "\n",
    "\n",
    "def bar_chart(feature):\n",
    "    survived = total[total['Survived']==1][feature].value_counts()\n",
    "    dead = total[total['Survived']==0][feature].value_counts()\n",
    "    df = pd.DataFrame([survived, dead])\n",
    "    df.index = ['Survived','dead']\n",
    "    df.plot(kind='bar', stacked=True)\n",
    "    plt.title(feature)\n",
    "\n",
    "\n",
    "def pie_chart(feature, surv = True):\n",
    "    survived = total[total['Survived']==1][feature].value_counts()\n",
    "    dead = total[total['Survived']==0][feature].value_counts()\n",
    "    if surv:\n",
    "        plt.pie(survived, autopct='%.1f')\n",
    "    else:\n",
    "        plt.pie(dead, autopct='%.1f')\n",
    "    plt.show()"
   ]
  },
  {
   "cell_type": "markdown",
   "id": "20b8c17b",
   "metadata": {},
   "source": [
    "# Data Preprocessing\n",
    "## Pclass : one-hot"
   ]
  },
  {
   "cell_type": "code",
   "execution_count": 476,
   "id": "dfeccb16",
   "metadata": {
    "scrolled": true
   },
   "outputs": [
    {
     "name": "stdout",
     "output_type": "stream",
     "text": [
      "3    709\n",
      "1    323\n",
      "2    277\n",
      "Name: Pclass, dtype: int64\n",
      "Null count : 0\n"
     ]
    }
   ],
   "source": [
    "print(total['Pclass'].value_counts())\n",
    "print('Null count :', total['Pclass'].isnull().sum())"
   ]
  },
  {
   "cell_type": "code",
   "execution_count": 477,
   "id": "e30febed",
   "metadata": {},
   "outputs": [],
   "source": [
    "class_mapping = {\n",
    "    1:'1st',\n",
    "    2:'2nd',\n",
    "    3:'3rd',\n",
    "}\n",
    "total['Pclass'] = total['Pclass'].map(class_mapping)"
   ]
  },
  {
   "cell_type": "code",
   "execution_count": 478,
   "id": "4d04d24a",
   "metadata": {
    "scrolled": false
   },
   "outputs": [
    {
     "data": {
      "image/png": "[encoded data removed]",
      "text/plain": [
       "<Figure size 432x288 with 1 Axes>"
      ]
     },
     "metadata": {
      "needs_background": "light"
     },
     "output_type": "display_data"
    }
   ],
   "source": [
    "bar_chart('Pclass')"
   ]
  },
  {
   "cell_type": "markdown",
   "id": "6e061de5",
   "metadata": {},
   "source": [
    "## Name : one-hot"
   ]
  },
  {
   "cell_type": "code",
   "execution_count": 479,
   "id": "8dd6160a",
   "metadata": {
    "scrolled": true
   },
   "outputs": [],
   "source": [
    "total['Name'] = total['Name'].str.split('.').str[0].str.split(', ').str[1]"
   ]
  },
  {
   "cell_type": "code",
   "execution_count": 480,
   "id": "9078d533",
   "metadata": {},
   "outputs": [
    {
     "data": {
      "text/plain": [
       "Mr              757\n",
       "Miss            260\n",
       "Mrs             197\n",
       "Master           61\n",
       "Rev               8\n",
       "Dr                8\n",
       "Col               4\n",
       "Ms                2\n",
       "Major             2\n",
       "Mlle              2\n",
       "Lady              1\n",
       "Dona              1\n",
       "Don               1\n",
       "Jonkheer          1\n",
       "the Countess      1\n",
       "Mme               1\n",
       "Capt              1\n",
       "Sir               1\n",
       "Name: Name, dtype: int64"
      ]
     },
     "execution_count": 480,
     "metadata": {},
     "output_type": "execute_result"
    }
   ],
   "source": [
    "total['Name'].value_counts()"
   ]
  },
  {
   "cell_type": "code",
   "execution_count": 481,
   "id": "de3fb03b",
   "metadata": {
    "scrolled": true
   },
   "outputs": [],
   "source": [
    "name_mapping = {\n",
    "    'Mr':'Mr',\n",
    "'Miss':'Miss',\n",
    "'Mrs':'Mrs',\n",
    "'Master':'Master',\n",
    "'Dr':'Others',\n",
    "'Rev':'Others',\n",
    "'Col':'Others',\n",
    "'Mlle':'Miss',\n",
    "'Major':'Others',\n",
    "'Ms':'Mrs',\n",
    "'the Countess':'Others',\n",
    "'Jonkheer':'Others',\n",
    "'Capt':'Others',\n",
    "'Dona':'Others',\n",
    "'Sir':'Others',\n",
    "'Lady':'Others',\n",
    "'Mme':'Miss',\n",
    "'Don':'Others',\n",
    "}\n",
    "\n",
    "total['Name'] = total['Name'].map(name_mapping)"
   ]
  },
  {
   "cell_type": "code",
   "execution_count": 482,
   "id": "98fc435b",
   "metadata": {},
   "outputs": [
    {
     "data": {
      "text/plain": [
       "Survived  Name  \n",
       "0.0       Master     17\n",
       "          Miss       55\n",
       "          Mr        436\n",
       "          Mrs        26\n",
       "          Others     15\n",
       "1.0       Master     23\n",
       "          Miss      130\n",
       "          Mr         81\n",
       "          Mrs       100\n",
       "          Others      8\n",
       "Name: Name, dtype: int64"
      ]
     },
     "execution_count": 482,
     "metadata": {},
     "output_type": "execute_result"
    }
   ],
   "source": [
    "total['Name'].groupby(total['Survived']).value_counts(sort=False)"
   ]
  },
  {
   "cell_type": "code",
   "execution_count": 483,
   "id": "6c243a5e",
   "metadata": {},
   "outputs": [
    {
     "data": {
      "text/plain": [
       "Mr        757\n",
       "Miss      263\n",
       "Mrs       199\n",
       "Master     61\n",
       "Others     29\n",
       "Name: Name, dtype: int64"
      ]
     },
     "execution_count": 483,
     "metadata": {},
     "output_type": "execute_result"
    }
   ],
   "source": [
    "total['Name'].value_counts()"
   ]
  },
  {
   "cell_type": "markdown",
   "id": "dce2c612",
   "metadata": {},
   "source": [
    "## Gender (complete)"
   ]
  },
  {
   "cell_type": "code",
   "execution_count": 484,
   "id": "d8a3719a",
   "metadata": {
    "scrolled": true
   },
   "outputs": [
    {
     "name": "stdout",
     "output_type": "stream",
     "text": [
      "male      843\n",
      "female    466\n",
      "Name: Gender, dtype: int64\n",
      "Null count : 0\n"
     ]
    }
   ],
   "source": [
    "print(total['Gender'].value_counts())\n",
    "print('Null count :', total['Gender'].isnull().sum())"
   ]
  },
  {
   "cell_type": "code",
   "execution_count": 485,
   "id": "19e63e27",
   "metadata": {},
   "outputs": [],
   "source": [
    "gender_mapping = {\n",
    "    'male':0,\n",
    "    'female':1,\n",
    "}\n",
    "\n",
    "\n",
    "total['Gender'] = total['Gender'].map(gender_mapping)"
   ]
  },
  {
   "cell_type": "code",
   "execution_count": 486,
   "id": "8f7cf9c7",
   "metadata": {
    "scrolled": true
   },
   "outputs": [
    {
     "data": {
      "image/png": "[encoded data removed]",
      "text/plain": [
       "<Figure size 432x288 with 1 Axes>"
      ]
     },
     "metadata": {
      "needs_background": "light"
     },
     "output_type": "display_data"
    }
   ],
   "source": [
    "bar_chart('Gender')"
   ]
  },
  {
   "cell_type": "markdown",
   "id": "d918f2ca",
   "metadata": {},
   "source": [
    "## Age (complete)"
   ]
  },
  {
   "cell_type": "code",
   "execution_count": 487,
   "id": "02c4bd5d",
   "metadata": {
    "scrolled": false
   },
   "outputs": [
    {
     "name": "stdout",
     "output_type": "stream",
     "text": [
      "24.00    47\n",
      "22.00    43\n",
      "21.00    41\n",
      "30.00    40\n",
      "18.00    39\n",
      "         ..\n",
      "20.50     1\n",
      "11.50     1\n",
      "22.50     1\n",
      "0.33      1\n",
      "60.50     1\n",
      "Name: Age, Length: 98, dtype: int64\n",
      "Null count : 263\n"
     ]
    }
   ],
   "source": [
    "print(total['Age'].value_counts())\n",
    "print('Null count :', total['Age'].isnull().sum())"
   ]
  },
  {
   "cell_type": "code",
   "execution_count": 488,
   "id": "3363fbe4",
   "metadata": {},
   "outputs": [],
   "source": [
    "total['Age'] = total.groupby(['Gender','Pclass'])['Age'].apply(lambda x : x.fillna(x.median()))"
   ]
  },
  {
   "cell_type": "code",
   "execution_count": 489,
   "id": "d69878e1",
   "metadata": {
    "scrolled": true
   },
   "outputs": [],
   "source": [
    "total['Age'].loc[total['Age']<=10] = 0\n",
    "total['Age'].loc[(total['Age']>10) & (total['Age']<= 20)]=1\n",
    "total['Age'].loc[(total['Age']>20) & (total['Age']<= 30)]=2\n",
    "total['Age'].loc[(total['Age']>30) & (total['Age']<= 40)]=3\n",
    "total['Age'].loc[(total['Age']>40) & (total['Age']<= 50)]=4\n",
    "total['Age'].loc[(total['Age']>50) & (total['Age']<= 60)]=5\n",
    "total['Age'].loc[(total['Age']>60)]=6\n"
   ]
  },
  {
   "cell_type": "code",
   "execution_count": 490,
   "id": "3056c263",
   "metadata": {},
   "outputs": [
    {
     "data": {
      "text/plain": [
       "2.0    585\n",
       "3.0    221\n",
       "1.0    162\n",
       "4.0    160\n",
       "0.0     86\n",
       "5.0     62\n",
       "6.0     33\n",
       "Name: Age, dtype: int64"
      ]
     },
     "execution_count": 490,
     "metadata": {},
     "output_type": "execute_result"
    }
   ],
   "source": [
    "total['Age'].value_counts()"
   ]
  },
  {
   "cell_type": "code",
   "execution_count": 491,
   "id": "026e7e63",
   "metadata": {},
   "outputs": [
    {
     "data": {
      "image/png": "[encoded data removed]",
      "text/plain": [
       "<Figure size 432x288 with 1 Axes>"
      ]
     },
     "metadata": {
      "needs_background": "light"
     },
     "output_type": "display_data"
    }
   ],
   "source": [
    "bar_chart('Age')"
   ]
  },
  {
   "cell_type": "code",
   "execution_count": 492,
   "id": "60b3f54c",
   "metadata": {},
   "outputs": [
    {
     "name": "stdout",
     "output_type": "stream",
     "text": [
      "Null count : 0\n"
     ]
    }
   ],
   "source": [
    "print('Null count :', total['Age'].isnull().sum())"
   ]
  },
  {
   "cell_type": "markdown",
   "id": "7f591d2c",
   "metadata": {},
   "source": [
    "## Ticket (X)"
   ]
  },
  {
   "cell_type": "code",
   "execution_count": 493,
   "id": "c5dba22a",
   "metadata": {
    "scrolled": true
   },
   "outputs": [
    {
     "name": "stdout",
     "output_type": "stream",
     "text": [
      "Null count : 0\n"
     ]
    }
   ],
   "source": [
    "print('Null count :', total['Ticket'].isnull().sum())"
   ]
  },
  {
   "cell_type": "code",
   "execution_count": 494,
   "id": "7bc4eec3",
   "metadata": {},
   "outputs": [],
   "source": [
    "total['Ticket'] = total.groupby('Ticket')['Ticket'].transform('count')"
   ]
  },
  {
   "cell_type": "markdown",
   "id": "71733c75",
   "metadata": {},
   "source": [
    "## Family ( = SibSp + Parch) (complete)"
   ]
  },
  {
   "cell_type": "code",
   "execution_count": 495,
   "id": "1491b9fe",
   "metadata": {
    "scrolled": true
   },
   "outputs": [
    {
     "name": "stdout",
     "output_type": "stream",
     "text": [
      "1     790\n",
      "2     235\n",
      "3     159\n",
      "4      43\n",
      "6      25\n",
      "5      22\n",
      "7      16\n",
      "11     11\n",
      "8       8\n",
      "Name: Family, dtype: int64\n",
      "Null count : 0\n"
     ]
    }
   ],
   "source": [
    "total['Family'] = total[\"SibSp\"] + total[\"Parch\"] + 1\n",
    "total= total.drop(['SibSp','Parch'], axis = 1)\n",
    "\n",
    "print(total['Family'].value_counts())\n",
    "print('Null count :', total['Family'].isnull().sum())"
   ]
  },
  {
   "cell_type": "code",
   "execution_count": 496,
   "id": "1fbd6aeb",
   "metadata": {
    "scrolled": false
   },
   "outputs": [
    {
     "data": {
      "text/plain": [
       "Survived  Family\n",
       "0.0       1         374\n",
       "          2          72\n",
       "          3          43\n",
       "          4           8\n",
       "          5          12\n",
       "          6          19\n",
       "          7           8\n",
       "          8           6\n",
       "          11          7\n",
       "1.0       1         163\n",
       "          2          89\n",
       "          3          59\n",
       "          4          21\n",
       "          5           3\n",
       "          6           3\n",
       "          7           4\n",
       "Name: Family, dtype: int64"
      ]
     },
     "execution_count": 496,
     "metadata": {},
     "output_type": "execute_result"
    }
   ],
   "source": [
    "total['Family'].groupby(total['Survived']).value_counts(sort=False)"
   ]
  },
  {
   "cell_type": "code",
   "execution_count": 497,
   "id": "619cdba6",
   "metadata": {},
   "outputs": [
    {
     "data": {
      "image/png": "[encoded data removed]",
      "text/plain": [
       "<Figure size 432x288 with 1 Axes>"
      ]
     },
     "metadata": {},
     "output_type": "display_data"
    },
    {
     "data": {
      "image/png": "[encoded data removed]",
      "text/plain": [
       "<Figure size 432x288 with 1 Axes>"
      ]
     },
     "metadata": {},
     "output_type": "display_data"
    }
   ],
   "source": [
    "pie_chart(\"Family\")\n",
    "pie_chart(\"Family\", False)"
   ]
  },
  {
   "cell_type": "markdown",
   "id": "b6b15b4f",
   "metadata": {},
   "source": [
    "## Fare (complete?)"
   ]
  },
  {
   "cell_type": "code",
   "execution_count": 498,
   "id": "0c785abc",
   "metadata": {
    "scrolled": true
   },
   "outputs": [
    {
     "name": "stdout",
     "output_type": "stream",
     "text": [
      "Null count : 1\n"
     ]
    }
   ],
   "source": [
    "print('Null count :', total['Fare'].isnull().sum())"
   ]
  },
  {
   "cell_type": "code",
   "execution_count": 499,
   "id": "5a91e4bb",
   "metadata": {},
   "outputs": [],
   "source": [
    "Fare_null = total['Fare'][(total['Gender']==0) & (total['Pclass'] == '3rd') & (total['Family']==1)].mean()"
   ]
  },
  {
   "cell_type": "code",
   "execution_count": 500,
   "id": "47670f3b",
   "metadata": {
    "scrolled": false
   },
   "outputs": [
    {
     "data": {
      "text/html": [
       "<div>\n",
       "<style scoped>\n",
       "    .dataframe tbody tr th:only-of-type {\n",
       "        vertical-align: middle;\n",
       "    }\n",
       "\n",
       "    .dataframe tbody tr th {\n",
       "        vertical-align: top;\n",
       "    }\n",
       "\n",
       "    .dataframe thead th {\n",
       "        text-align: right;\n",
       "    }\n",
       "</style>\n",
       "<table border=\"1\" class=\"dataframe\">\n",
       "  <thead>\n",
       "    <tr style=\"text-align: right;\">\n",
       "      <th></th>\n",
       "      <th>Survived</th>\n",
       "      <th>Pclass</th>\n",
       "      <th>Name</th>\n",
       "      <th>Gender</th>\n",
       "      <th>Age</th>\n",
       "      <th>Ticket</th>\n",
       "      <th>Fare</th>\n",
       "      <th>Cabin</th>\n",
       "      <th>Emb</th>\n",
       "      <th>Family</th>\n",
       "    </tr>\n",
       "    <tr>\n",
       "      <th>Id</th>\n",
       "      <th></th>\n",
       "      <th></th>\n",
       "      <th></th>\n",
       "      <th></th>\n",
       "      <th></th>\n",
       "      <th></th>\n",
       "      <th></th>\n",
       "      <th></th>\n",
       "      <th></th>\n",
       "      <th></th>\n",
       "    </tr>\n",
       "  </thead>\n",
       "  <tbody>\n",
       "    <tr>\n",
       "      <th>1044</th>\n",
       "      <td>NaN</td>\n",
       "      <td>3rd</td>\n",
       "      <td>Mr</td>\n",
       "      <td>0</td>\n",
       "      <td>6.0</td>\n",
       "      <td>1</td>\n",
       "      <td>NaN</td>\n",
       "      <td>NaN</td>\n",
       "      <td>S</td>\n",
       "      <td>1</td>\n",
       "    </tr>\n",
       "  </tbody>\n",
       "</table>\n",
       "</div>"
      ],
      "text/plain": [
       "      Survived Pclass Name  Gender  Age  Ticket  Fare Cabin Emb  Family\n",
       "Id                                                                     \n",
       "1044       NaN    3rd   Mr       0  6.0       1   NaN   NaN   S       1"
      ]
     },
     "execution_count": 500,
     "metadata": {},
     "output_type": "execute_result"
    }
   ],
   "source": [
    "total[total['Fare'].isnull()]"
   ]
  },
  {
   "cell_type": "code",
   "execution_count": 501,
   "id": "9c90310e",
   "metadata": {},
   "outputs": [],
   "source": [
    "total['Fare'].fillna(Fare_null, inplace = True)"
   ]
  },
  {
   "cell_type": "code",
   "execution_count": 502,
   "id": "b0251ab7",
   "metadata": {},
   "outputs": [],
   "source": [
    "total['Fare'] = pd.qcut(total['Fare'], 13, False)"
   ]
  },
  {
   "cell_type": "code",
   "execution_count": 503,
   "id": "3f0ae242",
   "metadata": {},
   "outputs": [
    {
     "data": {
      "text/plain": [
       "2     127\n",
       "0     117\n",
       "4     109\n",
       "8     109\n",
       "10    104\n",
       "7     101\n",
       "12    100\n",
       "11     98\n",
       "1      93\n",
       "5      92\n",
       "9      91\n",
       "3      84\n",
       "6      84\n",
       "Name: Fare, dtype: int64"
      ]
     },
     "execution_count": 503,
     "metadata": {},
     "output_type": "execute_result"
    }
   ],
   "source": [
    "total['Fare'].value_counts()"
   ]
  },
  {
   "cell_type": "markdown",
   "id": "eba5e520",
   "metadata": {},
   "source": [
    "## Cabin : one-hot (complete)"
   ]
  },
  {
   "cell_type": "code",
   "execution_count": 504,
   "id": "eba1d4e2",
   "metadata": {
    "scrolled": true
   },
   "outputs": [
    {
     "name": "stdout",
     "output_type": "stream",
     "text": [
      "Null count : 1014\n"
     ]
    }
   ],
   "source": [
    "print('Null count :', total['Cabin'].isnull().sum())"
   ]
  },
  {
   "cell_type": "code",
   "execution_count": 505,
   "id": "4f9c74d4",
   "metadata": {},
   "outputs": [],
   "source": [
    "total['Cabin'] = total['Cabin'].str[0]"
   ]
  },
  {
   "cell_type": "code",
   "execution_count": 506,
   "id": "e3b5da1f",
   "metadata": {
    "scrolled": true
   },
   "outputs": [
    {
     "data": {
      "text/plain": [
       "C    94\n",
       "B    65\n",
       "D    46\n",
       "E    41\n",
       "A    22\n",
       "F    21\n",
       "G     5\n",
       "T     1\n",
       "Name: Cabin, dtype: int64"
      ]
     },
     "execution_count": 506,
     "metadata": {},
     "output_type": "execute_result"
    }
   ],
   "source": [
    "total['Cabin'].value_counts()"
   ]
  },
  {
   "cell_type": "code",
   "execution_count": 507,
   "id": "0013277e",
   "metadata": {
    "scrolled": true
   },
   "outputs": [
    {
     "data": {
      "text/html": [
       "<div>\n",
       "<style scoped>\n",
       "    .dataframe tbody tr th:only-of-type {\n",
       "        vertical-align: middle;\n",
       "    }\n",
       "\n",
       "    .dataframe tbody tr th {\n",
       "        vertical-align: top;\n",
       "    }\n",
       "\n",
       "    .dataframe thead th {\n",
       "        text-align: right;\n",
       "    }\n",
       "</style>\n",
       "<table border=\"1\" class=\"dataframe\">\n",
       "  <thead>\n",
       "    <tr style=\"text-align: right;\">\n",
       "      <th></th>\n",
       "      <th>Survived</th>\n",
       "      <th>Pclass</th>\n",
       "      <th>Name</th>\n",
       "      <th>Gender</th>\n",
       "      <th>Age</th>\n",
       "      <th>Ticket</th>\n",
       "      <th>Fare</th>\n",
       "      <th>Cabin</th>\n",
       "      <th>Emb</th>\n",
       "      <th>Family</th>\n",
       "    </tr>\n",
       "    <tr>\n",
       "      <th>Id</th>\n",
       "      <th></th>\n",
       "      <th></th>\n",
       "      <th></th>\n",
       "      <th></th>\n",
       "      <th></th>\n",
       "      <th></th>\n",
       "      <th></th>\n",
       "      <th></th>\n",
       "      <th></th>\n",
       "      <th></th>\n",
       "    </tr>\n",
       "  </thead>\n",
       "  <tbody>\n",
       "    <tr>\n",
       "      <th>24</th>\n",
       "      <td>1.0</td>\n",
       "      <td>1st</td>\n",
       "      <td>Mr</td>\n",
       "      <td>0</td>\n",
       "      <td>2.0</td>\n",
       "      <td>1</td>\n",
       "      <td>10</td>\n",
       "      <td>A</td>\n",
       "      <td>S</td>\n",
       "      <td>1</td>\n",
       "    </tr>\n",
       "    <tr>\n",
       "      <th>1185</th>\n",
       "      <td>NaN</td>\n",
       "      <td>1st</td>\n",
       "      <td>Others</td>\n",
       "      <td>0</td>\n",
       "      <td>5.0</td>\n",
       "      <td>3</td>\n",
       "      <td>11</td>\n",
       "      <td>A</td>\n",
       "      <td>S</td>\n",
       "      <td>3</td>\n",
       "    </tr>\n",
       "    <tr>\n",
       "      <th>1100</th>\n",
       "      <td>NaN</td>\n",
       "      <td>1st</td>\n",
       "      <td>Miss</td>\n",
       "      <td>1</td>\n",
       "      <td>3.0</td>\n",
       "      <td>1</td>\n",
       "      <td>9</td>\n",
       "      <td>A</td>\n",
       "      <td>C</td>\n",
       "      <td>1</td>\n",
       "    </tr>\n",
       "    <tr>\n",
       "      <th>1004</th>\n",
       "      <td>NaN</td>\n",
       "      <td>1st</td>\n",
       "      <td>Miss</td>\n",
       "      <td>1</td>\n",
       "      <td>3.0</td>\n",
       "      <td>1</td>\n",
       "      <td>9</td>\n",
       "      <td>A</td>\n",
       "      <td>C</td>\n",
       "      <td>1</td>\n",
       "    </tr>\n",
       "    <tr>\n",
       "      <th>938</th>\n",
       "      <td>NaN</td>\n",
       "      <td>1st</td>\n",
       "      <td>Mr</td>\n",
       "      <td>0</td>\n",
       "      <td>4.0</td>\n",
       "      <td>1</td>\n",
       "      <td>9</td>\n",
       "      <td>A</td>\n",
       "      <td>C</td>\n",
       "      <td>1</td>\n",
       "    </tr>\n",
       "    <tr>\n",
       "      <th>920</th>\n",
       "      <td>NaN</td>\n",
       "      <td>1st</td>\n",
       "      <td>Mr</td>\n",
       "      <td>0</td>\n",
       "      <td>4.0</td>\n",
       "      <td>1</td>\n",
       "      <td>9</td>\n",
       "      <td>A</td>\n",
       "      <td>S</td>\n",
       "      <td>1</td>\n",
       "    </tr>\n",
       "    <tr>\n",
       "      <th>868</th>\n",
       "      <td>0.0</td>\n",
       "      <td>1st</td>\n",
       "      <td>Mr</td>\n",
       "      <td>0</td>\n",
       "      <td>3.0</td>\n",
       "      <td>1</td>\n",
       "      <td>10</td>\n",
       "      <td>A</td>\n",
       "      <td>S</td>\n",
       "      <td>1</td>\n",
       "    </tr>\n",
       "    <tr>\n",
       "      <th>807</th>\n",
       "      <td>0.0</td>\n",
       "      <td>1st</td>\n",
       "      <td>Mr</td>\n",
       "      <td>0</td>\n",
       "      <td>3.0</td>\n",
       "      <td>1</td>\n",
       "      <td>0</td>\n",
       "      <td>A</td>\n",
       "      <td>S</td>\n",
       "      <td>1</td>\n",
       "    </tr>\n",
       "    <tr>\n",
       "      <th>648</th>\n",
       "      <td>1.0</td>\n",
       "      <td>1st</td>\n",
       "      <td>Others</td>\n",
       "      <td>0</td>\n",
       "      <td>5.0</td>\n",
       "      <td>1</td>\n",
       "      <td>10</td>\n",
       "      <td>A</td>\n",
       "      <td>C</td>\n",
       "      <td>1</td>\n",
       "    </tr>\n",
       "    <tr>\n",
       "      <th>631</th>\n",
       "      <td>1.0</td>\n",
       "      <td>1st</td>\n",
       "      <td>Mr</td>\n",
       "      <td>0</td>\n",
       "      <td>6.0</td>\n",
       "      <td>1</td>\n",
       "      <td>9</td>\n",
       "      <td>A</td>\n",
       "      <td>S</td>\n",
       "      <td>1</td>\n",
       "    </tr>\n",
       "    <tr>\n",
       "      <th>600</th>\n",
       "      <td>1.0</td>\n",
       "      <td>1st</td>\n",
       "      <td>Others</td>\n",
       "      <td>0</td>\n",
       "      <td>4.0</td>\n",
       "      <td>2</td>\n",
       "      <td>11</td>\n",
       "      <td>A</td>\n",
       "      <td>C</td>\n",
       "      <td>2</td>\n",
       "    </tr>\n",
       "    <tr>\n",
       "      <th>584</th>\n",
       "      <td>0.0</td>\n",
       "      <td>1st</td>\n",
       "      <td>Mr</td>\n",
       "      <td>0</td>\n",
       "      <td>3.0</td>\n",
       "      <td>1</td>\n",
       "      <td>10</td>\n",
       "      <td>A</td>\n",
       "      <td>C</td>\n",
       "      <td>1</td>\n",
       "    </tr>\n",
       "    <tr>\n",
       "      <th>557</th>\n",
       "      <td>1.0</td>\n",
       "      <td>1st</td>\n",
       "      <td>Others</td>\n",
       "      <td>1</td>\n",
       "      <td>4.0</td>\n",
       "      <td>1</td>\n",
       "      <td>10</td>\n",
       "      <td>A</td>\n",
       "      <td>C</td>\n",
       "      <td>2</td>\n",
       "    </tr>\n",
       "    <tr>\n",
       "      <th>476</th>\n",
       "      <td>0.0</td>\n",
       "      <td>1st</td>\n",
       "      <td>Mr</td>\n",
       "      <td>0</td>\n",
       "      <td>4.0</td>\n",
       "      <td>2</td>\n",
       "      <td>10</td>\n",
       "      <td>A</td>\n",
       "      <td>S</td>\n",
       "      <td>1</td>\n",
       "    </tr>\n",
       "    <tr>\n",
       "      <th>446</th>\n",
       "      <td>1.0</td>\n",
       "      <td>1st</td>\n",
       "      <td>Master</td>\n",
       "      <td>0</td>\n",
       "      <td>0.0</td>\n",
       "      <td>3</td>\n",
       "      <td>11</td>\n",
       "      <td>A</td>\n",
       "      <td>S</td>\n",
       "      <td>3</td>\n",
       "    </tr>\n",
       "    <tr>\n",
       "      <th>285</th>\n",
       "      <td>0.0</td>\n",
       "      <td>1st</td>\n",
       "      <td>Mr</td>\n",
       "      <td>0</td>\n",
       "      <td>4.0</td>\n",
       "      <td>1</td>\n",
       "      <td>8</td>\n",
       "      <td>A</td>\n",
       "      <td>S</td>\n",
       "      <td>1</td>\n",
       "    </tr>\n",
       "    <tr>\n",
       "      <th>210</th>\n",
       "      <td>1.0</td>\n",
       "      <td>1st</td>\n",
       "      <td>Mr</td>\n",
       "      <td>0</td>\n",
       "      <td>3.0</td>\n",
       "      <td>1</td>\n",
       "      <td>9</td>\n",
       "      <td>A</td>\n",
       "      <td>C</td>\n",
       "      <td>1</td>\n",
       "    </tr>\n",
       "    <tr>\n",
       "      <th>186</th>\n",
       "      <td>0.0</td>\n",
       "      <td>1st</td>\n",
       "      <td>Mr</td>\n",
       "      <td>0</td>\n",
       "      <td>4.0</td>\n",
       "      <td>1</td>\n",
       "      <td>10</td>\n",
       "      <td>A</td>\n",
       "      <td>S</td>\n",
       "      <td>1</td>\n",
       "    </tr>\n",
       "    <tr>\n",
       "      <th>175</th>\n",
       "      <td>0.0</td>\n",
       "      <td>1st</td>\n",
       "      <td>Mr</td>\n",
       "      <td>0</td>\n",
       "      <td>5.0</td>\n",
       "      <td>1</td>\n",
       "      <td>9</td>\n",
       "      <td>A</td>\n",
       "      <td>C</td>\n",
       "      <td>1</td>\n",
       "    </tr>\n",
       "    <tr>\n",
       "      <th>97</th>\n",
       "      <td>0.0</td>\n",
       "      <td>1st</td>\n",
       "      <td>Mr</td>\n",
       "      <td>0</td>\n",
       "      <td>6.0</td>\n",
       "      <td>1</td>\n",
       "      <td>10</td>\n",
       "      <td>A</td>\n",
       "      <td>C</td>\n",
       "      <td>1</td>\n",
       "    </tr>\n",
       "    <tr>\n",
       "      <th>1223</th>\n",
       "      <td>NaN</td>\n",
       "      <td>1st</td>\n",
       "      <td>Mr</td>\n",
       "      <td>0</td>\n",
       "      <td>3.0</td>\n",
       "      <td>1</td>\n",
       "      <td>9</td>\n",
       "      <td>A</td>\n",
       "      <td>C</td>\n",
       "      <td>1</td>\n",
       "    </tr>\n",
       "    <tr>\n",
       "      <th>1266</th>\n",
       "      <td>NaN</td>\n",
       "      <td>1st</td>\n",
       "      <td>Mrs</td>\n",
       "      <td>1</td>\n",
       "      <td>5.0</td>\n",
       "      <td>3</td>\n",
       "      <td>11</td>\n",
       "      <td>A</td>\n",
       "      <td>S</td>\n",
       "      <td>3</td>\n",
       "    </tr>\n",
       "  </tbody>\n",
       "</table>\n",
       "</div>"
      ],
      "text/plain": [
       "      Survived Pclass    Name  Gender  Age  Ticket  Fare Cabin Emb  Family\n",
       "Id                                                                        \n",
       "24         1.0    1st      Mr       0  2.0       1    10     A   S       1\n",
       "1185       NaN    1st  Others       0  5.0       3    11     A   S       3\n",
       "1100       NaN    1st    Miss       1  3.0       1     9     A   C       1\n",
       "1004       NaN    1st    Miss       1  3.0       1     9     A   C       1\n",
       "938        NaN    1st      Mr       0  4.0       1     9     A   C       1\n",
       "920        NaN    1st      Mr       0  4.0       1     9     A   S       1\n",
       "868        0.0    1st      Mr       0  3.0       1    10     A   S       1\n",
       "807        0.0    1st      Mr       0  3.0       1     0     A   S       1\n",
       "648        1.0    1st  Others       0  5.0       1    10     A   C       1\n",
       "631        1.0    1st      Mr       0  6.0       1     9     A   S       1\n",
       "600        1.0    1st  Others       0  4.0       2    11     A   C       2\n",
       "584        0.0    1st      Mr       0  3.0       1    10     A   C       1\n",
       "557        1.0    1st  Others       1  4.0       1    10     A   C       2\n",
       "476        0.0    1st      Mr       0  4.0       2    10     A   S       1\n",
       "446        1.0    1st  Master       0  0.0       3    11     A   S       3\n",
       "285        0.0    1st      Mr       0  4.0       1     8     A   S       1\n",
       "210        1.0    1st      Mr       0  3.0       1     9     A   C       1\n",
       "186        0.0    1st      Mr       0  4.0       1    10     A   S       1\n",
       "175        0.0    1st      Mr       0  5.0       1     9     A   C       1\n",
       "97         0.0    1st      Mr       0  6.0       1    10     A   C       1\n",
       "1223       NaN    1st      Mr       0  3.0       1     9     A   C       1\n",
       "1266       NaN    1st     Mrs       1  5.0       3    11     A   S       3"
      ]
     },
     "execution_count": 507,
     "metadata": {},
     "output_type": "execute_result"
    }
   ],
   "source": [
    "total[(total['Cabin']=='A')].sort_values('Pclass')"
   ]
  },
  {
   "cell_type": "code",
   "execution_count": 508,
   "id": "fd7f1036",
   "metadata": {},
   "outputs": [],
   "source": [
    "total['Cabin'][total['Cabin']=='T'] = 'A'"
   ]
  },
  {
   "cell_type": "code",
   "execution_count": 509,
   "id": "b250b1db",
   "metadata": {},
   "outputs": [],
   "source": [
    "total['Cabin'] = total['Cabin'].fillna('N')"
   ]
  },
  {
   "cell_type": "code",
   "execution_count": 510,
   "id": "7cf7813e",
   "metadata": {},
   "outputs": [
    {
     "data": {
      "text/plain": [
       "N    1014\n",
       "C      94\n",
       "B      65\n",
       "D      46\n",
       "E      41\n",
       "A      23\n",
       "F      21\n",
       "G       5\n",
       "Name: Cabin, dtype: int64"
      ]
     },
     "execution_count": 510,
     "metadata": {},
     "output_type": "execute_result"
    }
   ],
   "source": [
    "total['Cabin'].value_counts()"
   ]
  },
  {
   "cell_type": "markdown",
   "id": "35a7f5d9",
   "metadata": {},
   "source": [
    "## Emb :one-hot"
   ]
  },
  {
   "cell_type": "code",
   "execution_count": 511,
   "id": "d8aa2f96",
   "metadata": {
    "scrolled": false
   },
   "outputs": [
    {
     "name": "stdout",
     "output_type": "stream",
     "text": [
      "S    914\n",
      "C    270\n",
      "Q    123\n",
      "Name: Emb, dtype: int64\n",
      "Null count : 2\n"
     ]
    },
    {
     "data": {
      "text/plain": [
       "'S'"
      ]
     },
     "execution_count": 511,
     "metadata": {},
     "output_type": "execute_result"
    }
   ],
   "source": [
    "print(total['Emb'].value_counts())\n",
    "print('Null count :', total['Emb'].isnull().sum())\n",
    "total['Emb'].mode()[0]"
   ]
  },
  {
   "cell_type": "code",
   "execution_count": 512,
   "id": "e41c5028",
   "metadata": {},
   "outputs": [
    {
     "data": {
      "text/plain": [
       "0"
      ]
     },
     "execution_count": 512,
     "metadata": {},
     "output_type": "execute_result"
    }
   ],
   "source": [
    "total['Emb'] = total['Emb'].fillna(total['Emb'].mode()[0])\n",
    "total['Emb'].isnull().sum()"
   ]
  },
  {
   "cell_type": "markdown",
   "id": "3688bb7d",
   "metadata": {},
   "source": [
    "### END"
   ]
  },
  {
   "cell_type": "code",
   "execution_count": 513,
   "id": "52fb6a3c",
   "metadata": {},
   "outputs": [
    {
     "data": {
      "text/plain": [
       "Survived    418\n",
       "Pclass        0\n",
       "Name          0\n",
       "Gender        0\n",
       "Age           0\n",
       "Ticket        0\n",
       "Fare          0\n",
       "Cabin         0\n",
       "Emb           0\n",
       "Family        0\n",
       "dtype: int64"
      ]
     },
     "execution_count": 513,
     "metadata": {},
     "output_type": "execute_result"
    }
   ],
   "source": [
    "total.isnull().sum()"
   ]
  },
  {
   "cell_type": "markdown",
   "id": "8ee228b7",
   "metadata": {},
   "source": [
    "### data split and get dummies"
   ]
  },
  {
   "cell_type": "code",
   "execution_count": 514,
   "id": "b9b92aee",
   "metadata": {},
   "outputs": [
    {
     "data": {
      "text/html": [
       "<div>\n",
       "<style scoped>\n",
       "    .dataframe tbody tr th:only-of-type {\n",
       "        vertical-align: middle;\n",
       "    }\n",
       "\n",
       "    .dataframe tbody tr th {\n",
       "        vertical-align: top;\n",
       "    }\n",
       "\n",
       "    .dataframe thead th {\n",
       "        text-align: right;\n",
       "    }\n",
       "</style>\n",
       "<table border=\"1\" class=\"dataframe\">\n",
       "  <thead>\n",
       "    <tr style=\"text-align: right;\">\n",
       "      <th></th>\n",
       "      <th>Pclass_1st</th>\n",
       "      <th>Pclass_2nd</th>\n",
       "      <th>Pclass_3rd</th>\n",
       "      <th>Name_Master</th>\n",
       "      <th>Name_Miss</th>\n",
       "      <th>Name_Mr</th>\n",
       "      <th>Name_Mrs</th>\n",
       "      <th>Name_Others</th>\n",
       "      <th>Cabin_A</th>\n",
       "      <th>Cabin_B</th>\n",
       "      <th>Cabin_C</th>\n",
       "      <th>Cabin_D</th>\n",
       "      <th>Cabin_E</th>\n",
       "      <th>Cabin_F</th>\n",
       "      <th>Cabin_G</th>\n",
       "      <th>Cabin_N</th>\n",
       "      <th>Emb_C</th>\n",
       "      <th>Emb_Q</th>\n",
       "      <th>Emb_S</th>\n",
       "    </tr>\n",
       "    <tr>\n",
       "      <th>Id</th>\n",
       "      <th></th>\n",
       "      <th></th>\n",
       "      <th></th>\n",
       "      <th></th>\n",
       "      <th></th>\n",
       "      <th></th>\n",
       "      <th></th>\n",
       "      <th></th>\n",
       "      <th></th>\n",
       "      <th></th>\n",
       "      <th></th>\n",
       "      <th></th>\n",
       "      <th></th>\n",
       "      <th></th>\n",
       "      <th></th>\n",
       "      <th></th>\n",
       "      <th></th>\n",
       "      <th></th>\n",
       "      <th></th>\n",
       "    </tr>\n",
       "  </thead>\n",
       "  <tbody>\n",
       "    <tr>\n",
       "      <th>1</th>\n",
       "      <td>0</td>\n",
       "      <td>0</td>\n",
       "      <td>1</td>\n",
       "      <td>0</td>\n",
       "      <td>0</td>\n",
       "      <td>1</td>\n",
       "      <td>0</td>\n",
       "      <td>0</td>\n",
       "      <td>0</td>\n",
       "      <td>0</td>\n",
       "      <td>0</td>\n",
       "      <td>0</td>\n",
       "      <td>0</td>\n",
       "      <td>0</td>\n",
       "      <td>0</td>\n",
       "      <td>1</td>\n",
       "      <td>0</td>\n",
       "      <td>0</td>\n",
       "      <td>1</td>\n",
       "    </tr>\n",
       "    <tr>\n",
       "      <th>2</th>\n",
       "      <td>1</td>\n",
       "      <td>0</td>\n",
       "      <td>0</td>\n",
       "      <td>0</td>\n",
       "      <td>0</td>\n",
       "      <td>0</td>\n",
       "      <td>1</td>\n",
       "      <td>0</td>\n",
       "      <td>0</td>\n",
       "      <td>0</td>\n",
       "      <td>1</td>\n",
       "      <td>0</td>\n",
       "      <td>0</td>\n",
       "      <td>0</td>\n",
       "      <td>0</td>\n",
       "      <td>0</td>\n",
       "      <td>1</td>\n",
       "      <td>0</td>\n",
       "      <td>0</td>\n",
       "    </tr>\n",
       "    <tr>\n",
       "      <th>3</th>\n",
       "      <td>0</td>\n",
       "      <td>0</td>\n",
       "      <td>1</td>\n",
       "      <td>0</td>\n",
       "      <td>1</td>\n",
       "      <td>0</td>\n",
       "      <td>0</td>\n",
       "      <td>0</td>\n",
       "      <td>0</td>\n",
       "      <td>0</td>\n",
       "      <td>0</td>\n",
       "      <td>0</td>\n",
       "      <td>0</td>\n",
       "      <td>0</td>\n",
       "      <td>0</td>\n",
       "      <td>1</td>\n",
       "      <td>0</td>\n",
       "      <td>0</td>\n",
       "      <td>1</td>\n",
       "    </tr>\n",
       "    <tr>\n",
       "      <th>4</th>\n",
       "      <td>1</td>\n",
       "      <td>0</td>\n",
       "      <td>0</td>\n",
       "      <td>0</td>\n",
       "      <td>0</td>\n",
       "      <td>0</td>\n",
       "      <td>1</td>\n",
       "      <td>0</td>\n",
       "      <td>0</td>\n",
       "      <td>0</td>\n",
       "      <td>1</td>\n",
       "      <td>0</td>\n",
       "      <td>0</td>\n",
       "      <td>0</td>\n",
       "      <td>0</td>\n",
       "      <td>0</td>\n",
       "      <td>0</td>\n",
       "      <td>0</td>\n",
       "      <td>1</td>\n",
       "    </tr>\n",
       "    <tr>\n",
       "      <th>5</th>\n",
       "      <td>0</td>\n",
       "      <td>0</td>\n",
       "      <td>1</td>\n",
       "      <td>0</td>\n",
       "      <td>0</td>\n",
       "      <td>1</td>\n",
       "      <td>0</td>\n",
       "      <td>0</td>\n",
       "      <td>0</td>\n",
       "      <td>0</td>\n",
       "      <td>0</td>\n",
       "      <td>0</td>\n",
       "      <td>0</td>\n",
       "      <td>0</td>\n",
       "      <td>0</td>\n",
       "      <td>1</td>\n",
       "      <td>0</td>\n",
       "      <td>0</td>\n",
       "      <td>1</td>\n",
       "    </tr>\n",
       "    <tr>\n",
       "      <th>...</th>\n",
       "      <td>...</td>\n",
       "      <td>...</td>\n",
       "      <td>...</td>\n",
       "      <td>...</td>\n",
       "      <td>...</td>\n",
       "      <td>...</td>\n",
       "      <td>...</td>\n",
       "      <td>...</td>\n",
       "      <td>...</td>\n",
       "      <td>...</td>\n",
       "      <td>...</td>\n",
       "      <td>...</td>\n",
       "      <td>...</td>\n",
       "      <td>...</td>\n",
       "      <td>...</td>\n",
       "      <td>...</td>\n",
       "      <td>...</td>\n",
       "      <td>...</td>\n",
       "      <td>...</td>\n",
       "    </tr>\n",
       "    <tr>\n",
       "      <th>1305</th>\n",
       "      <td>0</td>\n",
       "      <td>0</td>\n",
       "      <td>1</td>\n",
       "      <td>0</td>\n",
       "      <td>0</td>\n",
       "      <td>1</td>\n",
       "      <td>0</td>\n",
       "      <td>0</td>\n",
       "      <td>0</td>\n",
       "      <td>0</td>\n",
       "      <td>0</td>\n",
       "      <td>0</td>\n",
       "      <td>0</td>\n",
       "      <td>0</td>\n",
       "      <td>0</td>\n",
       "      <td>1</td>\n",
       "      <td>0</td>\n",
       "      <td>0</td>\n",
       "      <td>1</td>\n",
       "    </tr>\n",
       "    <tr>\n",
       "      <th>1306</th>\n",
       "      <td>1</td>\n",
       "      <td>0</td>\n",
       "      <td>0</td>\n",
       "      <td>0</td>\n",
       "      <td>0</td>\n",
       "      <td>0</td>\n",
       "      <td>0</td>\n",
       "      <td>1</td>\n",
       "      <td>0</td>\n",
       "      <td>0</td>\n",
       "      <td>1</td>\n",
       "      <td>0</td>\n",
       "      <td>0</td>\n",
       "      <td>0</td>\n",
       "      <td>0</td>\n",
       "      <td>0</td>\n",
       "      <td>1</td>\n",
       "      <td>0</td>\n",
       "      <td>0</td>\n",
       "    </tr>\n",
       "    <tr>\n",
       "      <th>1307</th>\n",
       "      <td>0</td>\n",
       "      <td>0</td>\n",
       "      <td>1</td>\n",
       "      <td>0</td>\n",
       "      <td>0</td>\n",
       "      <td>1</td>\n",
       "      <td>0</td>\n",
       "      <td>0</td>\n",
       "      <td>0</td>\n",
       "      <td>0</td>\n",
       "      <td>0</td>\n",
       "      <td>0</td>\n",
       "      <td>0</td>\n",
       "      <td>0</td>\n",
       "      <td>0</td>\n",
       "      <td>1</td>\n",
       "      <td>0</td>\n",
       "      <td>0</td>\n",
       "      <td>1</td>\n",
       "    </tr>\n",
       "    <tr>\n",
       "      <th>1308</th>\n",
       "      <td>0</td>\n",
       "      <td>0</td>\n",
       "      <td>1</td>\n",
       "      <td>0</td>\n",
       "      <td>0</td>\n",
       "      <td>1</td>\n",
       "      <td>0</td>\n",
       "      <td>0</td>\n",
       "      <td>0</td>\n",
       "      <td>0</td>\n",
       "      <td>0</td>\n",
       "      <td>0</td>\n",
       "      <td>0</td>\n",
       "      <td>0</td>\n",
       "      <td>0</td>\n",
       "      <td>1</td>\n",
       "      <td>0</td>\n",
       "      <td>0</td>\n",
       "      <td>1</td>\n",
       "    </tr>\n",
       "    <tr>\n",
       "      <th>1309</th>\n",
       "      <td>0</td>\n",
       "      <td>0</td>\n",
       "      <td>1</td>\n",
       "      <td>1</td>\n",
       "      <td>0</td>\n",
       "      <td>0</td>\n",
       "      <td>0</td>\n",
       "      <td>0</td>\n",
       "      <td>0</td>\n",
       "      <td>0</td>\n",
       "      <td>0</td>\n",
       "      <td>0</td>\n",
       "      <td>0</td>\n",
       "      <td>0</td>\n",
       "      <td>0</td>\n",
       "      <td>1</td>\n",
       "      <td>1</td>\n",
       "      <td>0</td>\n",
       "      <td>0</td>\n",
       "    </tr>\n",
       "  </tbody>\n",
       "</table>\n",
       "<p>1309 rows × 19 columns</p>\n",
       "</div>"
      ],
      "text/plain": [
       "      Pclass_1st  Pclass_2nd  Pclass_3rd  Name_Master  Name_Miss  Name_Mr  \\\n",
       "Id                                                                          \n",
       "1              0           0           1            0          0        1   \n",
       "2              1           0           0            0          0        0   \n",
       "3              0           0           1            0          1        0   \n",
       "4              1           0           0            0          0        0   \n",
       "5              0           0           1            0          0        1   \n",
       "...          ...         ...         ...          ...        ...      ...   \n",
       "1305           0           0           1            0          0        1   \n",
       "1306           1           0           0            0          0        0   \n",
       "1307           0           0           1            0          0        1   \n",
       "1308           0           0           1            0          0        1   \n",
       "1309           0           0           1            1          0        0   \n",
       "\n",
       "      Name_Mrs  Name_Others  Cabin_A  Cabin_B  Cabin_C  Cabin_D  Cabin_E  \\\n",
       "Id                                                                         \n",
       "1            0            0        0        0        0        0        0   \n",
       "2            1            0        0        0        1        0        0   \n",
       "3            0            0        0        0        0        0        0   \n",
       "4            1            0        0        0        1        0        0   \n",
       "5            0            0        0        0        0        0        0   \n",
       "...        ...          ...      ...      ...      ...      ...      ...   \n",
       "1305         0            0        0        0        0        0        0   \n",
       "1306         0            1        0        0        1        0        0   \n",
       "1307         0            0        0        0        0        0        0   \n",
       "1308         0            0        0        0        0        0        0   \n",
       "1309         0            0        0        0        0        0        0   \n",
       "\n",
       "      Cabin_F  Cabin_G  Cabin_N  Emb_C  Emb_Q  Emb_S  \n",
       "Id                                                    \n",
       "1           0        0        1      0      0      1  \n",
       "2           0        0        0      1      0      0  \n",
       "3           0        0        1      0      0      1  \n",
       "4           0        0        0      0      0      1  \n",
       "5           0        0        1      0      0      1  \n",
       "...       ...      ...      ...    ...    ...    ...  \n",
       "1305        0        0        1      0      0      1  \n",
       "1306        0        0        0      1      0      0  \n",
       "1307        0        0        1      0      0      1  \n",
       "1308        0        0        1      0      0      1  \n",
       "1309        0        0        1      1      0      0  \n",
       "\n",
       "[1309 rows x 19 columns]"
      ]
     },
     "execution_count": 514,
     "metadata": {},
     "output_type": "execute_result"
    }
   ],
   "source": [
    "onehot_feature = ['Pclass','Name','Cabin','Emb']\n",
    "numeric_feature = ['Gender','Age','Ticket','Fare','Family','Survived']\n",
    "onehot_total = pd.get_dummies(total[onehot_feature])\n",
    "numeric_total = total[numeric_feature]\n",
    "onehot_total"
   ]
  },
  {
   "cell_type": "code",
   "execution_count": 515,
   "id": "e555c085",
   "metadata": {},
   "outputs": [
    {
     "data": {
      "text/html": [
       "<div>\n",
       "<style scoped>\n",
       "    .dataframe tbody tr th:only-of-type {\n",
       "        vertical-align: middle;\n",
       "    }\n",
       "\n",
       "    .dataframe tbody tr th {\n",
       "        vertical-align: top;\n",
       "    }\n",
       "\n",
       "    .dataframe thead th {\n",
       "        text-align: right;\n",
       "    }\n",
       "</style>\n",
       "<table border=\"1\" class=\"dataframe\">\n",
       "  <thead>\n",
       "    <tr style=\"text-align: right;\">\n",
       "      <th></th>\n",
       "      <th>Gender</th>\n",
       "      <th>Age</th>\n",
       "      <th>Ticket</th>\n",
       "      <th>Fare</th>\n",
       "      <th>Family</th>\n",
       "      <th>Survived</th>\n",
       "      <th>Pclass_1st</th>\n",
       "      <th>Pclass_2nd</th>\n",
       "      <th>Pclass_3rd</th>\n",
       "      <th>Name_Master</th>\n",
       "      <th>...</th>\n",
       "      <th>Cabin_B</th>\n",
       "      <th>Cabin_C</th>\n",
       "      <th>Cabin_D</th>\n",
       "      <th>Cabin_E</th>\n",
       "      <th>Cabin_F</th>\n",
       "      <th>Cabin_G</th>\n",
       "      <th>Cabin_N</th>\n",
       "      <th>Emb_C</th>\n",
       "      <th>Emb_Q</th>\n",
       "      <th>Emb_S</th>\n",
       "    </tr>\n",
       "    <tr>\n",
       "      <th>Id</th>\n",
       "      <th></th>\n",
       "      <th></th>\n",
       "      <th></th>\n",
       "      <th></th>\n",
       "      <th></th>\n",
       "      <th></th>\n",
       "      <th></th>\n",
       "      <th></th>\n",
       "      <th></th>\n",
       "      <th></th>\n",
       "      <th></th>\n",
       "      <th></th>\n",
       "      <th></th>\n",
       "      <th></th>\n",
       "      <th></th>\n",
       "      <th></th>\n",
       "      <th></th>\n",
       "      <th></th>\n",
       "      <th></th>\n",
       "      <th></th>\n",
       "      <th></th>\n",
       "    </tr>\n",
       "  </thead>\n",
       "  <tbody>\n",
       "    <tr>\n",
       "      <th>1</th>\n",
       "      <td>0</td>\n",
       "      <td>2.0</td>\n",
       "      <td>1</td>\n",
       "      <td>0</td>\n",
       "      <td>2</td>\n",
       "      <td>0.0</td>\n",
       "      <td>0</td>\n",
       "      <td>0</td>\n",
       "      <td>1</td>\n",
       "      <td>0</td>\n",
       "      <td>...</td>\n",
       "      <td>0</td>\n",
       "      <td>0</td>\n",
       "      <td>0</td>\n",
       "      <td>0</td>\n",
       "      <td>0</td>\n",
       "      <td>0</td>\n",
       "      <td>1</td>\n",
       "      <td>0</td>\n",
       "      <td>0</td>\n",
       "      <td>1</td>\n",
       "    </tr>\n",
       "    <tr>\n",
       "      <th>2</th>\n",
       "      <td>1</td>\n",
       "      <td>3.0</td>\n",
       "      <td>2</td>\n",
       "      <td>11</td>\n",
       "      <td>2</td>\n",
       "      <td>1.0</td>\n",
       "      <td>1</td>\n",
       "      <td>0</td>\n",
       "      <td>0</td>\n",
       "      <td>0</td>\n",
       "      <td>...</td>\n",
       "      <td>0</td>\n",
       "      <td>1</td>\n",
       "      <td>0</td>\n",
       "      <td>0</td>\n",
       "      <td>0</td>\n",
       "      <td>0</td>\n",
       "      <td>0</td>\n",
       "      <td>1</td>\n",
       "      <td>0</td>\n",
       "      <td>0</td>\n",
       "    </tr>\n",
       "    <tr>\n",
       "      <th>3</th>\n",
       "      <td>1</td>\n",
       "      <td>2.0</td>\n",
       "      <td>1</td>\n",
       "      <td>3</td>\n",
       "      <td>1</td>\n",
       "      <td>1.0</td>\n",
       "      <td>0</td>\n",
       "      <td>0</td>\n",
       "      <td>1</td>\n",
       "      <td>0</td>\n",
       "      <td>...</td>\n",
       "      <td>0</td>\n",
       "      <td>0</td>\n",
       "      <td>0</td>\n",
       "      <td>0</td>\n",
       "      <td>0</td>\n",
       "      <td>0</td>\n",
       "      <td>1</td>\n",
       "      <td>0</td>\n",
       "      <td>0</td>\n",
       "      <td>1</td>\n",
       "    </tr>\n",
       "    <tr>\n",
       "      <th>4</th>\n",
       "      <td>1</td>\n",
       "      <td>3.0</td>\n",
       "      <td>2</td>\n",
       "      <td>10</td>\n",
       "      <td>2</td>\n",
       "      <td>1.0</td>\n",
       "      <td>1</td>\n",
       "      <td>0</td>\n",
       "      <td>0</td>\n",
       "      <td>0</td>\n",
       "      <td>...</td>\n",
       "      <td>0</td>\n",
       "      <td>1</td>\n",
       "      <td>0</td>\n",
       "      <td>0</td>\n",
       "      <td>0</td>\n",
       "      <td>0</td>\n",
       "      <td>0</td>\n",
       "      <td>0</td>\n",
       "      <td>0</td>\n",
       "      <td>1</td>\n",
       "    </tr>\n",
       "    <tr>\n",
       "      <th>5</th>\n",
       "      <td>0</td>\n",
       "      <td>3.0</td>\n",
       "      <td>1</td>\n",
       "      <td>3</td>\n",
       "      <td>1</td>\n",
       "      <td>0.0</td>\n",
       "      <td>0</td>\n",
       "      <td>0</td>\n",
       "      <td>1</td>\n",
       "      <td>0</td>\n",
       "      <td>...</td>\n",
       "      <td>0</td>\n",
       "      <td>0</td>\n",
       "      <td>0</td>\n",
       "      <td>0</td>\n",
       "      <td>0</td>\n",
       "      <td>0</td>\n",
       "      <td>1</td>\n",
       "      <td>0</td>\n",
       "      <td>0</td>\n",
       "      <td>1</td>\n",
       "    </tr>\n",
       "    <tr>\n",
       "      <th>...</th>\n",
       "      <td>...</td>\n",
       "      <td>...</td>\n",
       "      <td>...</td>\n",
       "      <td>...</td>\n",
       "      <td>...</td>\n",
       "      <td>...</td>\n",
       "      <td>...</td>\n",
       "      <td>...</td>\n",
       "      <td>...</td>\n",
       "      <td>...</td>\n",
       "      <td>...</td>\n",
       "      <td>...</td>\n",
       "      <td>...</td>\n",
       "      <td>...</td>\n",
       "      <td>...</td>\n",
       "      <td>...</td>\n",
       "      <td>...</td>\n",
       "      <td>...</td>\n",
       "      <td>...</td>\n",
       "      <td>...</td>\n",
       "      <td>...</td>\n",
       "    </tr>\n",
       "    <tr>\n",
       "      <th>1305</th>\n",
       "      <td>0</td>\n",
       "      <td>2.0</td>\n",
       "      <td>1</td>\n",
       "      <td>3</td>\n",
       "      <td>1</td>\n",
       "      <td>NaN</td>\n",
       "      <td>0</td>\n",
       "      <td>0</td>\n",
       "      <td>1</td>\n",
       "      <td>0</td>\n",
       "      <td>...</td>\n",
       "      <td>0</td>\n",
       "      <td>0</td>\n",
       "      <td>0</td>\n",
       "      <td>0</td>\n",
       "      <td>0</td>\n",
       "      <td>0</td>\n",
       "      <td>1</td>\n",
       "      <td>0</td>\n",
       "      <td>0</td>\n",
       "      <td>1</td>\n",
       "    </tr>\n",
       "    <tr>\n",
       "      <th>1306</th>\n",
       "      <td>1</td>\n",
       "      <td>3.0</td>\n",
       "      <td>3</td>\n",
       "      <td>12</td>\n",
       "      <td>1</td>\n",
       "      <td>NaN</td>\n",
       "      <td>1</td>\n",
       "      <td>0</td>\n",
       "      <td>0</td>\n",
       "      <td>0</td>\n",
       "      <td>...</td>\n",
       "      <td>0</td>\n",
       "      <td>1</td>\n",
       "      <td>0</td>\n",
       "      <td>0</td>\n",
       "      <td>0</td>\n",
       "      <td>0</td>\n",
       "      <td>0</td>\n",
       "      <td>1</td>\n",
       "      <td>0</td>\n",
       "      <td>0</td>\n",
       "    </tr>\n",
       "    <tr>\n",
       "      <th>1307</th>\n",
       "      <td>0</td>\n",
       "      <td>3.0</td>\n",
       "      <td>1</td>\n",
       "      <td>0</td>\n",
       "      <td>1</td>\n",
       "      <td>NaN</td>\n",
       "      <td>0</td>\n",
       "      <td>0</td>\n",
       "      <td>1</td>\n",
       "      <td>0</td>\n",
       "      <td>...</td>\n",
       "      <td>0</td>\n",
       "      <td>0</td>\n",
       "      <td>0</td>\n",
       "      <td>0</td>\n",
       "      <td>0</td>\n",
       "      <td>0</td>\n",
       "      <td>1</td>\n",
       "      <td>0</td>\n",
       "      <td>0</td>\n",
       "      <td>1</td>\n",
       "    </tr>\n",
       "    <tr>\n",
       "      <th>1308</th>\n",
       "      <td>0</td>\n",
       "      <td>2.0</td>\n",
       "      <td>1</td>\n",
       "      <td>3</td>\n",
       "      <td>1</td>\n",
       "      <td>NaN</td>\n",
       "      <td>0</td>\n",
       "      <td>0</td>\n",
       "      <td>1</td>\n",
       "      <td>0</td>\n",
       "      <td>...</td>\n",
       "      <td>0</td>\n",
       "      <td>0</td>\n",
       "      <td>0</td>\n",
       "      <td>0</td>\n",
       "      <td>0</td>\n",
       "      <td>0</td>\n",
       "      <td>1</td>\n",
       "      <td>0</td>\n",
       "      <td>0</td>\n",
       "      <td>1</td>\n",
       "    </tr>\n",
       "    <tr>\n",
       "      <th>1309</th>\n",
       "      <td>0</td>\n",
       "      <td>2.0</td>\n",
       "      <td>3</td>\n",
       "      <td>7</td>\n",
       "      <td>3</td>\n",
       "      <td>NaN</td>\n",
       "      <td>0</td>\n",
       "      <td>0</td>\n",
       "      <td>1</td>\n",
       "      <td>1</td>\n",
       "      <td>...</td>\n",
       "      <td>0</td>\n",
       "      <td>0</td>\n",
       "      <td>0</td>\n",
       "      <td>0</td>\n",
       "      <td>0</td>\n",
       "      <td>0</td>\n",
       "      <td>1</td>\n",
       "      <td>1</td>\n",
       "      <td>0</td>\n",
       "      <td>0</td>\n",
       "    </tr>\n",
       "  </tbody>\n",
       "</table>\n",
       "<p>1309 rows × 25 columns</p>\n",
       "</div>"
      ],
      "text/plain": [
       "      Gender  Age  Ticket  Fare  Family  Survived  Pclass_1st  Pclass_2nd  \\\n",
       "Id                                                                          \n",
       "1          0  2.0       1     0       2       0.0           0           0   \n",
       "2          1  3.0       2    11       2       1.0           1           0   \n",
       "3          1  2.0       1     3       1       1.0           0           0   \n",
       "4          1  3.0       2    10       2       1.0           1           0   \n",
       "5          0  3.0       1     3       1       0.0           0           0   \n",
       "...      ...  ...     ...   ...     ...       ...         ...         ...   \n",
       "1305       0  2.0       1     3       1       NaN           0           0   \n",
       "1306       1  3.0       3    12       1       NaN           1           0   \n",
       "1307       0  3.0       1     0       1       NaN           0           0   \n",
       "1308       0  2.0       1     3       1       NaN           0           0   \n",
       "1309       0  2.0       3     7       3       NaN           0           0   \n",
       "\n",
       "      Pclass_3rd  Name_Master  ...  Cabin_B  Cabin_C  Cabin_D  Cabin_E  \\\n",
       "Id                             ...                                       \n",
       "1              1            0  ...        0        0        0        0   \n",
       "2              0            0  ...        0        1        0        0   \n",
       "3              1            0  ...        0        0        0        0   \n",
       "4              0            0  ...        0        1        0        0   \n",
       "5              1            0  ...        0        0        0        0   \n",
       "...          ...          ...  ...      ...      ...      ...      ...   \n",
       "1305           1            0  ...        0        0        0        0   \n",
       "1306           0            0  ...        0        1        0        0   \n",
       "1307           1            0  ...        0        0        0        0   \n",
       "1308           1            0  ...        0        0        0        0   \n",
       "1309           1            1  ...        0        0        0        0   \n",
       "\n",
       "      Cabin_F  Cabin_G  Cabin_N  Emb_C  Emb_Q  Emb_S  \n",
       "Id                                                    \n",
       "1           0        0        1      0      0      1  \n",
       "2           0        0        0      1      0      0  \n",
       "3           0        0        1      0      0      1  \n",
       "4           0        0        0      0      0      1  \n",
       "5           0        0        1      0      0      1  \n",
       "...       ...      ...      ...    ...    ...    ...  \n",
       "1305        0        0        1      0      0      1  \n",
       "1306        0        0        0      1      0      0  \n",
       "1307        0        0        1      0      0      1  \n",
       "1308        0        0        1      0      0      1  \n",
       "1309        0        0        1      1      0      0  \n",
       "\n",
       "[1309 rows x 25 columns]"
      ]
     },
     "execution_count": 515,
     "metadata": {},
     "output_type": "execute_result"
    }
   ],
   "source": [
    "scaled_total = pd.concat([numeric_total,onehot_total],axis=1)\n",
    "scaled_total"
   ]
  },
  {
   "cell_type": "code",
   "execution_count": 516,
   "id": "a0644543",
   "metadata": {},
   "outputs": [],
   "source": [
    "#data split\n",
    "\n",
    "scaled_train = scaled_total[scaled_total[\"Survived\"].notnull()].drop('Survived',axis=1)\n",
    "scaled_test = scaled_total[scaled_total[\"Survived\"].isnull()].drop('Survived',axis=1)\n",
    "scaled_train_y = scaled_total[scaled_total[\"Survived\"].notnull()]['Survived']"
   ]
  },
  {
   "cell_type": "code",
   "execution_count": 539,
   "id": "fd082da5",
   "metadata": {},
   "outputs": [
    {
     "data": {
      "text/html": [
       "<div>\n",
       "<style scoped>\n",
       "    .dataframe tbody tr th:only-of-type {\n",
       "        vertical-align: middle;\n",
       "    }\n",
       "\n",
       "    .dataframe tbody tr th {\n",
       "        vertical-align: top;\n",
       "    }\n",
       "\n",
       "    .dataframe thead th {\n",
       "        text-align: right;\n",
       "    }\n",
       "</style>\n",
       "<table border=\"1\" class=\"dataframe\">\n",
       "  <thead>\n",
       "    <tr style=\"text-align: right;\">\n",
       "      <th></th>\n",
       "      <th>Gender</th>\n",
       "      <th>Age</th>\n",
       "      <th>Ticket</th>\n",
       "      <th>Fare</th>\n",
       "      <th>Family</th>\n",
       "      <th>Pclass_1st</th>\n",
       "      <th>Pclass_2nd</th>\n",
       "      <th>Pclass_3rd</th>\n",
       "      <th>Name_Master</th>\n",
       "      <th>Name_Miss</th>\n",
       "      <th>...</th>\n",
       "      <th>Cabin_B</th>\n",
       "      <th>Cabin_C</th>\n",
       "      <th>Cabin_D</th>\n",
       "      <th>Cabin_E</th>\n",
       "      <th>Cabin_F</th>\n",
       "      <th>Cabin_G</th>\n",
       "      <th>Cabin_N</th>\n",
       "      <th>Emb_C</th>\n",
       "      <th>Emb_Q</th>\n",
       "      <th>Emb_S</th>\n",
       "    </tr>\n",
       "    <tr>\n",
       "      <th>Id</th>\n",
       "      <th></th>\n",
       "      <th></th>\n",
       "      <th></th>\n",
       "      <th></th>\n",
       "      <th></th>\n",
       "      <th></th>\n",
       "      <th></th>\n",
       "      <th></th>\n",
       "      <th></th>\n",
       "      <th></th>\n",
       "      <th></th>\n",
       "      <th></th>\n",
       "      <th></th>\n",
       "      <th></th>\n",
       "      <th></th>\n",
       "      <th></th>\n",
       "      <th></th>\n",
       "      <th></th>\n",
       "      <th></th>\n",
       "      <th></th>\n",
       "      <th></th>\n",
       "    </tr>\n",
       "  </thead>\n",
       "  <tbody>\n",
       "    <tr>\n",
       "      <th>1</th>\n",
       "      <td>0</td>\n",
       "      <td>2.0</td>\n",
       "      <td>1</td>\n",
       "      <td>0</td>\n",
       "      <td>2</td>\n",
       "      <td>0</td>\n",
       "      <td>0</td>\n",
       "      <td>1</td>\n",
       "      <td>0</td>\n",
       "      <td>0</td>\n",
       "      <td>...</td>\n",
       "      <td>0</td>\n",
       "      <td>0</td>\n",
       "      <td>0</td>\n",
       "      <td>0</td>\n",
       "      <td>0</td>\n",
       "      <td>0</td>\n",
       "      <td>1</td>\n",
       "      <td>0</td>\n",
       "      <td>0</td>\n",
       "      <td>1</td>\n",
       "    </tr>\n",
       "    <tr>\n",
       "      <th>2</th>\n",
       "      <td>1</td>\n",
       "      <td>3.0</td>\n",
       "      <td>2</td>\n",
       "      <td>11</td>\n",
       "      <td>2</td>\n",
       "      <td>1</td>\n",
       "      <td>0</td>\n",
       "      <td>0</td>\n",
       "      <td>0</td>\n",
       "      <td>0</td>\n",
       "      <td>...</td>\n",
       "      <td>0</td>\n",
       "      <td>1</td>\n",
       "      <td>0</td>\n",
       "      <td>0</td>\n",
       "      <td>0</td>\n",
       "      <td>0</td>\n",
       "      <td>0</td>\n",
       "      <td>1</td>\n",
       "      <td>0</td>\n",
       "      <td>0</td>\n",
       "    </tr>\n",
       "    <tr>\n",
       "      <th>3</th>\n",
       "      <td>1</td>\n",
       "      <td>2.0</td>\n",
       "      <td>1</td>\n",
       "      <td>3</td>\n",
       "      <td>1</td>\n",
       "      <td>0</td>\n",
       "      <td>0</td>\n",
       "      <td>1</td>\n",
       "      <td>0</td>\n",
       "      <td>1</td>\n",
       "      <td>...</td>\n",
       "      <td>0</td>\n",
       "      <td>0</td>\n",
       "      <td>0</td>\n",
       "      <td>0</td>\n",
       "      <td>0</td>\n",
       "      <td>0</td>\n",
       "      <td>1</td>\n",
       "      <td>0</td>\n",
       "      <td>0</td>\n",
       "      <td>1</td>\n",
       "    </tr>\n",
       "    <tr>\n",
       "      <th>4</th>\n",
       "      <td>1</td>\n",
       "      <td>3.0</td>\n",
       "      <td>2</td>\n",
       "      <td>10</td>\n",
       "      <td>2</td>\n",
       "      <td>1</td>\n",
       "      <td>0</td>\n",
       "      <td>0</td>\n",
       "      <td>0</td>\n",
       "      <td>0</td>\n",
       "      <td>...</td>\n",
       "      <td>0</td>\n",
       "      <td>1</td>\n",
       "      <td>0</td>\n",
       "      <td>0</td>\n",
       "      <td>0</td>\n",
       "      <td>0</td>\n",
       "      <td>0</td>\n",
       "      <td>0</td>\n",
       "      <td>0</td>\n",
       "      <td>1</td>\n",
       "    </tr>\n",
       "    <tr>\n",
       "      <th>5</th>\n",
       "      <td>0</td>\n",
       "      <td>3.0</td>\n",
       "      <td>1</td>\n",
       "      <td>3</td>\n",
       "      <td>1</td>\n",
       "      <td>0</td>\n",
       "      <td>0</td>\n",
       "      <td>1</td>\n",
       "      <td>0</td>\n",
       "      <td>0</td>\n",
       "      <td>...</td>\n",
       "      <td>0</td>\n",
       "      <td>0</td>\n",
       "      <td>0</td>\n",
       "      <td>0</td>\n",
       "      <td>0</td>\n",
       "      <td>0</td>\n",
       "      <td>1</td>\n",
       "      <td>0</td>\n",
       "      <td>0</td>\n",
       "      <td>1</td>\n",
       "    </tr>\n",
       "  </tbody>\n",
       "</table>\n",
       "<p>5 rows × 24 columns</p>\n",
       "</div>"
      ],
      "text/plain": [
       "    Gender  Age  Ticket  Fare  Family  Pclass_1st  Pclass_2nd  Pclass_3rd  \\\n",
       "Id                                                                          \n",
       "1        0  2.0       1     0       2           0           0           1   \n",
       "2        1  3.0       2    11       2           1           0           0   \n",
       "3        1  2.0       1     3       1           0           0           1   \n",
       "4        1  3.0       2    10       2           1           0           0   \n",
       "5        0  3.0       1     3       1           0           0           1   \n",
       "\n",
       "    Name_Master  Name_Miss  ...  Cabin_B  Cabin_C  Cabin_D  Cabin_E  Cabin_F  \\\n",
       "Id                          ...                                                \n",
       "1             0          0  ...        0        0        0        0        0   \n",
       "2             0          0  ...        0        1        0        0        0   \n",
       "3             0          1  ...        0        0        0        0        0   \n",
       "4             0          0  ...        0        1        0        0        0   \n",
       "5             0          0  ...        0        0        0        0        0   \n",
       "\n",
       "    Cabin_G  Cabin_N  Emb_C  Emb_Q  Emb_S  \n",
       "Id                                         \n",
       "1         0        1      0      0      1  \n",
       "2         0        0      1      0      0  \n",
       "3         0        1      0      0      1  \n",
       "4         0        0      0      0      1  \n",
       "5         0        1      0      0      1  \n",
       "\n",
       "[5 rows x 24 columns]"
      ]
     },
     "execution_count": 539,
     "metadata": {},
     "output_type": "execute_result"
    }
   ],
   "source": [
    "scaled_train.head()"
   ]
  },
  {
   "cell_type": "markdown",
   "id": "51ac6792",
   "metadata": {},
   "source": [
    "# Scale"
   ]
  },
  {
   "cell_type": "code",
   "execution_count": 540,
   "id": "098fd132",
   "metadata": {},
   "outputs": [],
   "source": [
    "from sklearn.preprocessing import StandardScaler\n",
    "ss = StandardScaler()\n",
    "scaled_train = ss.fit_transform(scaled_train)\n",
    "scaled_test = ss.fit_transform(scaled_test)"
   ]
  },
  {
   "cell_type": "markdown",
   "id": "b69c441b",
   "metadata": {},
   "source": [
    "# Model"
   ]
  },
  {
   "cell_type": "code",
   "execution_count": 541,
   "id": "eddc2a65",
   "metadata": {},
   "outputs": [],
   "source": [
    "from sklearn.ensemble import RandomForestClassifier\n",
    "from sklearn.model_selection import train_test_split as tts\n",
    "\n",
    "x1, x2, y1, y2 = tts(scaled_train, scaled_train_y, test_size = 0.15, random_state = 11)"
   ]
  },
  {
   "cell_type": "code",
   "execution_count": 542,
   "id": "01c0a2fd",
   "metadata": {
    "scrolled": true
   },
   "outputs": [
    {
     "data": {
      "text/plain": [
       "[(0.7985074626865671, 20, 1),\n",
       " (0.7985074626865671, 30, 1),\n",
       " (0.8134328358208955, 80, 1),\n",
       " (0.8208955223880597, 40, 1),\n",
       " (0.8283582089552238, 60, 1),\n",
       " (0.8283582089552238, 70, 1),\n",
       " (0.835820895522388, 10, 2),\n",
       " (0.835820895522388, 30, 2),\n",
       " (0.8432835820895522, 10, 1),\n",
       " (0.8507462686567164, 20, 2),\n",
       " (0.8507462686567164, 40, 2),\n",
       " (0.8507462686567164, 50, 1),\n",
       " (0.8582089552238806, 50, 2),\n",
       " (0.8656716417910447, 10, 3),\n",
       " (0.8656716417910447, 70, 2),\n",
       " (0.8731343283582089, 10, 4),\n",
       " (0.8731343283582089, 30, 4),\n",
       " (0.8731343283582089, 40, 4),\n",
       " (0.8731343283582089, 50, 4),\n",
       " (0.8731343283582089, 60, 2),\n",
       " (0.8731343283582089, 60, 4),\n",
       " (0.8731343283582089, 70, 4),\n",
       " (0.8731343283582089, 80, 4),\n",
       " (0.8805970149253731, 20, 3),\n",
       " (0.8805970149253731, 20, 4),\n",
       " (0.8805970149253731, 30, 3),\n",
       " (0.8805970149253731, 80, 2),\n",
       " (0.8880597014925373, 40, 3),\n",
       " (0.8880597014925373, 70, 3),\n",
       " (0.8880597014925373, 80, 3),\n",
       " (0.8955223880597015, 50, 3),\n",
       " (0.8955223880597015, 60, 3)]"
      ]
     },
     "execution_count": 542,
     "metadata": {},
     "output_type": "execute_result"
    }
   ],
   "source": [
    "n_esti = [10*a for a in range(1,9)]\n",
    "dpth = [b for b in range(1,5)]\n",
    "scores = []\n",
    "for a in n_esti:\n",
    "    for b in dpth:\n",
    "        rfc = RandomForestClassifier(n_estimators=a, max_depth=b, random_state=11)\n",
    "        rfc.fit(x1,y1)\n",
    "        scores.append((rfc.score(x2, y2),a,b))\n",
    "sorted(scores)"
   ]
  },
  {
   "cell_type": "code",
   "execution_count": 553,
   "id": "0cf257be",
   "metadata": {},
   "outputs": [],
   "source": [
    "rfc = RandomForestClassifier(n_estimators=50, max_depth=3, random_state=11)\n",
    "rfc.fit(scaled_train,scaled_train_y)\n",
    "test_surv = rfc.predict(scaled_test)"
   ]
  },
  {
   "cell_type": "code",
   "execution_count": 561,
   "id": "da12ddee",
   "metadata": {},
   "outputs": [],
   "source": [
    "submission_df = pd.DataFrame(columns=['PassengerId','Survived'])\n",
    "submission_df['PassengerId'] = test['PassengerId']\n",
    "submission_df['Survived'] = test_surv.astype(int)\n",
    "submission_df.to_csv('LambFerret_submission.csv', header=True, index=False)"
   ]
  },
  {
   "cell_type": "code",
   "execution_count": 559,
   "id": "24b83c8c",
   "metadata": {
    "scrolled": true
   },
   "outputs": [
    {
     "data": {
      "text/html": [
       "<div>\n",
       "<style scoped>\n",
       "    .dataframe tbody tr th:only-of-type {\n",
       "        vertical-align: middle;\n",
       "    }\n",
       "\n",
       "    .dataframe tbody tr th {\n",
       "        vertical-align: top;\n",
       "    }\n",
       "\n",
       "    .dataframe thead th {\n",
       "        text-align: right;\n",
       "    }\n",
       "</style>\n",
       "<table border=\"1\" class=\"dataframe\">\n",
       "  <thead>\n",
       "    <tr style=\"text-align: right;\">\n",
       "      <th></th>\n",
       "      <th>PassengerId</th>\n",
       "      <th>Survived</th>\n",
       "    </tr>\n",
       "  </thead>\n",
       "  <tbody>\n",
       "    <tr>\n",
       "      <th>0</th>\n",
       "      <td>892</td>\n",
       "      <td>0.0</td>\n",
       "    </tr>\n",
       "    <tr>\n",
       "      <th>1</th>\n",
       "      <td>893</td>\n",
       "      <td>1.0</td>\n",
       "    </tr>\n",
       "    <tr>\n",
       "      <th>2</th>\n",
       "      <td>894</td>\n",
       "      <td>0.0</td>\n",
       "    </tr>\n",
       "    <tr>\n",
       "      <th>3</th>\n",
       "      <td>895</td>\n",
       "      <td>0.0</td>\n",
       "    </tr>\n",
       "    <tr>\n",
       "      <th>4</th>\n",
       "      <td>896</td>\n",
       "      <td>1.0</td>\n",
       "    </tr>\n",
       "    <tr>\n",
       "      <th>...</th>\n",
       "      <td>...</td>\n",
       "      <td>...</td>\n",
       "    </tr>\n",
       "    <tr>\n",
       "      <th>413</th>\n",
       "      <td>1305</td>\n",
       "      <td>0.0</td>\n",
       "    </tr>\n",
       "    <tr>\n",
       "      <th>414</th>\n",
       "      <td>1306</td>\n",
       "      <td>1.0</td>\n",
       "    </tr>\n",
       "    <tr>\n",
       "      <th>415</th>\n",
       "      <td>1307</td>\n",
       "      <td>0.0</td>\n",
       "    </tr>\n",
       "    <tr>\n",
       "      <th>416</th>\n",
       "      <td>1308</td>\n",
       "      <td>0.0</td>\n",
       "    </tr>\n",
       "    <tr>\n",
       "      <th>417</th>\n",
       "      <td>1309</td>\n",
       "      <td>0.0</td>\n",
       "    </tr>\n",
       "  </tbody>\n",
       "</table>\n",
       "<p>418 rows × 2 columns</p>\n",
       "</div>"
      ],
      "text/plain": [
       "     PassengerId  Survived\n",
       "0            892       0.0\n",
       "1            893       1.0\n",
       "2            894       0.0\n",
       "3            895       0.0\n",
       "4            896       1.0\n",
       "..           ...       ...\n",
       "413         1305       0.0\n",
       "414         1306       1.0\n",
       "415         1307       0.0\n",
       "416         1308       0.0\n",
       "417         1309       0.0\n",
       "\n",
       "[418 rows x 2 columns]"
      ]
     },
     "execution_count": 559,
     "metadata": {},
     "output_type": "execute_result"
    }
   ],
   "source": [
    "submission_df"
   ]
  },
  {
   "cell_type": "code",
   "execution_count": null,
   "id": "39077ec4",
   "metadata": {},
   "outputs": [],
   "source": []
  }
 ],
 "metadata": {
  "kernelspec": {
   "display_name": "Python 3",
   "language": "python",
   "name": "python3"
  },
  "language_info": {
   "codemirror_mode": {
    "name": "ipython",
    "version": 3
   },
   "file_extension": ".py",
   "mimetype": "text/x-python",
   "name": "python",
   "nbconvert_exporter": "python",
   "pygments_lexer": "ipython3",
   "version": "3.8.8"
  }
 },
 "nbformat": 4,
 "nbformat_minor": 5
}
