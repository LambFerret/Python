{
 "cells": [
  {
   "cell_type": "code",
   "execution_count": 3,
   "id": "ae6cdcab",
   "metadata": {},
   "outputs": [
    {
     "name": "stdout",
     "output_type": "stream",
     "text": [
      "Writing load.py\n"
     ]
    }
   ],
   "source": [
    "%%writefile load.py\n",
    "import selenium"
   ]
  },
  {
   "cell_type": "code",
   "execution_count": 2,
   "id": "62d38702",
   "metadata": {},
   "outputs": [
    {
     "name": "stderr",
     "output_type": "stream",
     "text": [
      "UsageError: %%writefile is a cell magic, but the cell body is empty.\n"
     ]
    }
   ],
   "source": []
  },
  {
   "cell_type": "code",
   "execution_count": 7,
   "id": "f41cc54e",
   "metadata": {},
   "outputs": [],
   "source": [
    "class MyClass:\n",
    "    def __init__(self):\n",
    "        print(\"초기화\")\n",
    "        self.size = 5\n",
    "    def plus(self, a, b):\n",
    "        self.a = a\n",
    "        self.b = b\n",
    "        return a+b"
   ]
  },
  {
   "cell_type": "code",
   "execution_count": 10,
   "id": "8eec2720",
   "metadata": {},
   "outputs": [
    {
     "name": "stdout",
     "output_type": "stream",
     "text": [
      "초기화\n"
     ]
    }
   ],
   "source": [
    "a = MyClass()"
   ]
  },
  {
   "cell_type": "code",
   "execution_count": 11,
   "id": "24c3505c",
   "metadata": {},
   "outputs": [
    {
     "data": {
      "text/plain": [
       "16"
      ]
     },
     "execution_count": 11,
     "metadata": {},
     "output_type": "execute_result"
    }
   ],
   "source": [
    "a.plus(12,4)"
   ]
  },
  {
   "cell_type": "code",
   "execution_count": 12,
   "id": "0a92d9ad",
   "metadata": {},
   "outputs": [
    {
     "data": {
      "text/plain": [
       "127"
      ]
     },
     "execution_count": 12,
     "metadata": {},
     "output_type": "execute_result"
    }
   ],
   "source": [
    "a.plus(123,4)"
   ]
  },
  {
   "cell_type": "code",
   "execution_count": 13,
   "id": "82a2b0e8",
   "metadata": {},
   "outputs": [
    {
     "name": "stdout",
     "output_type": "stream",
     "text": [
      "초기화\n"
     ]
    }
   ],
   "source": [
    "a2 = MyClass()"
   ]
  },
  {
   "cell_type": "code",
   "execution_count": 14,
   "id": "cc31ebc1",
   "metadata": {},
   "outputs": [
    {
     "data": {
      "text/plain": [
       "678"
      ]
     },
     "execution_count": 14,
     "metadata": {},
     "output_type": "execute_result"
    }
   ],
   "source": [
    "a2.plus(123,555)"
   ]
  },
  {
   "cell_type": "code",
   "execution_count": null,
   "id": "31f7afaa",
   "metadata": {},
   "outputs": [],
   "source": []
  }
 ],
 "metadata": {
  "kernelspec": {
   "display_name": "Python 3",
   "language": "python",
   "name": "python3"
  },
  "language_info": {
   "codemirror_mode": {
    "name": "ipython",
    "version": 3
   },
   "file_extension": ".py",
   "mimetype": "text/x-python",
   "name": "python",
   "nbconvert_exporter": "python",
   "pygments_lexer": "ipython3",
   "version": "3.8.8"
  }
 },
 "nbformat": 4,
 "nbformat_minor": 5
}
