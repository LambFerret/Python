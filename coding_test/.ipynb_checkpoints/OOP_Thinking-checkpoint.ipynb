{
 "cells": [
  {
   "cell_type": "code",
   "execution_count": 71,
   "id": "3614d1dd",
   "metadata": {},
   "outputs": [
    {
     "name": "stdout",
     "output_type": "stream",
     "text": [
      "블레이즈 유닛생성\n",
      "파우스트 유닛생성\n"
     ]
    }
   ],
   "source": [
    "from time import sleep\n",
    "\n",
    "class Unit:\n",
    "    def __init__(self, name, hp, attack_point):\n",
    "        self.name = name\n",
    "        self.hp = hp\n",
    "        self.attack_point = attack_point\n",
    "        print(f'{name} 유닛생성')\n",
    "        \n",
    "    def attack(self,target):\n",
    "        a = target.hp - self.attack_point\n",
    "        print(f'피를 {self.attack_point}만큼 깔예정! 예상 남은피:{a}')\n",
    "        target.damaged(target.hp, self.attack_point)\n",
    "        sleep(0.3)\n",
    "    \n",
    "    def damaged(self, hp,attack_point):\n",
    "        self.hp -= attack_point\n",
    "        print(f'피가 {attack_point}만큼 까임 남은피:{self.hp}')\n",
    "\n",
    "    def to_stun(self, stun_time, target):\n",
    "        target.stunned(stun_time)\n",
    "        print(target.name,'에게 ', stun_time,'초간 기절 공격!')\n",
    "        \n",
    "    def stunned(self, stun_time):\n",
    "        for i in range(stun_time):\n",
    "            print(i+1, '초간 스턴되었다!')\n",
    "            sleep(1)\n",
    "    \n",
    "    \n",
    "class Blaze(Unit):\n",
    "    def __init__(self):\n",
    "        Unit.__init__(self, '블레이즈', 400, 5)\n",
    "        \n",
    "    def damaged(self, hp, attack_point):\n",
    "        defensive = 2\n",
    "        super().damaged(hp, attack_point)\n",
    "        print('방어력',{defensive})\n",
    "        self.hp -= attack_point/defensive\n",
    "    \n",
    "    \n",
    "class Fau(Unit):\n",
    "    def __init__(self):\n",
    "        self.count = 0 #스태틱변수\n",
    "        Unit.__init__(self, '파우스트', 50, 40)\n",
    "        \n",
    "    \n",
    "    def attack(self, target):\n",
    "        super().attack(target) #오버라이드방법\n",
    "        self.count+=1\n",
    "        if self.count == 3:\n",
    "            self.to_stun(3, target)\n",
    "            self.count = 0\n",
    "        target.damaged( self.hp, self.attack_point)\n",
    "        sleep(0.7)\n",
    "    \n",
    "\n",
    "b = Blaze()\n",
    "f = Fau()\n"
   ]
  },
  {
   "cell_type": "code",
   "execution_count": 69,
   "id": "faaee759",
   "metadata": {
    "scrolled": true
   },
   "outputs": [
    {
     "name": "stdout",
     "output_type": "stream",
     "text": [
      "f\n",
      "피를 40만큼 깔예정! 예상 남은피:360\n",
      "피가 40만큼 까임 남은피:360\n",
      "방어력 {2}\n",
      "피가 40만큼 까임 남은피:300.0\n",
      "방어력 {2}\n",
      "f\n",
      "피를 40만큼 깔예정! 예상 남은피:240.0\n",
      "피가 40만큼 까임 남은피:240.0\n",
      "방어력 {2}\n",
      "피가 40만큼 까임 남은피:180.0\n",
      "방어력 {2}\n",
      "f\n",
      "피를 40만큼 깔예정! 예상 남은피:120.0\n",
      "피가 40만큼 까임 남은피:120.0\n",
      "방어력 {2}\n",
      "1 초간 스턴되었다!\n",
      "2 초간 스턴되었다!\n",
      "3 초간 스턴되었다!\n",
      "블레이즈 에게  3 초간 기절 공격!\n",
      "피가 40만큼 까임 남은피:60.0\n",
      "방어력 {2}\n",
      "b\n",
      "피를 5만큼 깔예정! 예상 남은피:45\n",
      "피가 5만큼 까임 남은피:45\n",
      "b\n",
      "피를 5만큼 깔예정! 예상 남은피:40\n",
      "피가 5만큼 까임 남은피:40\n",
      "b\n",
      "피를 5만큼 깔예정! 예상 남은피:35\n",
      "피가 5만큼 까임 남은피:35\n",
      "b\n",
      "피를 5만큼 깔예정! 예상 남은피:30\n",
      "피가 5만큼 까임 남은피:30\n",
      "b\n",
      "피를 5만큼 깔예정! 예상 남은피:25\n",
      "피가 5만큼 까임 남은피:25\n"
     ]
    },
    {
     "ename": "KeyboardInterrupt",
     "evalue": "Interrupted by user",
     "output_type": "error",
     "traceback": [
      "\u001b[1;31m---------------------------------------------------------------------------\u001b[0m",
      "\u001b[1;31mKeyboardInterrupt\u001b[0m                         Traceback (most recent call last)",
      "\u001b[1;32m<ipython-input-69-339e25008e98>\u001b[0m in \u001b[0;36m<module>\u001b[1;34m\u001b[0m\n\u001b[0;32m      1\u001b[0m \u001b[1;32mwhile\u001b[0m \u001b[1;32mTrue\u001b[0m\u001b[1;33m:\u001b[0m\u001b[1;33m\u001b[0m\u001b[1;33m\u001b[0m\u001b[0m\n\u001b[1;32m----> 2\u001b[1;33m     \u001b[0ma\u001b[0m\u001b[1;33m=\u001b[0m\u001b[0minput\u001b[0m\u001b[1;33m(\u001b[0m\u001b[1;33m)\u001b[0m\u001b[1;33m\u001b[0m\u001b[1;33m\u001b[0m\u001b[0m\n\u001b[0m\u001b[0;32m      3\u001b[0m     \u001b[1;32mif\u001b[0m \u001b[0ma\u001b[0m \u001b[1;33m==\u001b[0m \u001b[1;34m'F'\u001b[0m\u001b[1;33m:\u001b[0m\u001b[1;33m\u001b[0m\u001b[1;33m\u001b[0m\u001b[0m\n\u001b[0;32m      4\u001b[0m         \u001b[0mf\u001b[0m \u001b[1;33m=\u001b[0m \u001b[0mFau\u001b[0m\u001b[1;33m(\u001b[0m\u001b[1;33m)\u001b[0m\u001b[1;33m\u001b[0m\u001b[1;33m\u001b[0m\u001b[0m\n\u001b[0;32m      5\u001b[0m     \u001b[1;32melif\u001b[0m \u001b[0ma\u001b[0m \u001b[1;33m==\u001b[0m \u001b[1;34m'B'\u001b[0m\u001b[1;33m:\u001b[0m\u001b[1;33m\u001b[0m\u001b[1;33m\u001b[0m\u001b[0m\n",
      "\u001b[1;32mC:\\ProgramData\\Anaconda3\\lib\\site-packages\\ipykernel\\kernelbase.py\u001b[0m in \u001b[0;36mraw_input\u001b[1;34m(self, prompt)\u001b[0m\n\u001b[0;32m    858\u001b[0m                 \u001b[1;34m\"raw_input was called, but this frontend does not support input requests.\"\u001b[0m\u001b[1;33m\u001b[0m\u001b[1;33m\u001b[0m\u001b[0m\n\u001b[0;32m    859\u001b[0m             )\n\u001b[1;32m--> 860\u001b[1;33m         return self._input_request(str(prompt),\n\u001b[0m\u001b[0;32m    861\u001b[0m             \u001b[0mself\u001b[0m\u001b[1;33m.\u001b[0m\u001b[0m_parent_ident\u001b[0m\u001b[1;33m,\u001b[0m\u001b[1;33m\u001b[0m\u001b[1;33m\u001b[0m\u001b[0m\n\u001b[0;32m    862\u001b[0m             \u001b[0mself\u001b[0m\u001b[1;33m.\u001b[0m\u001b[0m_parent_header\u001b[0m\u001b[1;33m,\u001b[0m\u001b[1;33m\u001b[0m\u001b[1;33m\u001b[0m\u001b[0m\n",
      "\u001b[1;32mC:\\ProgramData\\Anaconda3\\lib\\site-packages\\ipykernel\\kernelbase.py\u001b[0m in \u001b[0;36m_input_request\u001b[1;34m(self, prompt, ident, parent, password)\u001b[0m\n\u001b[0;32m    902\u001b[0m             \u001b[1;32mexcept\u001b[0m \u001b[0mKeyboardInterrupt\u001b[0m\u001b[1;33m:\u001b[0m\u001b[1;33m\u001b[0m\u001b[1;33m\u001b[0m\u001b[0m\n\u001b[0;32m    903\u001b[0m                 \u001b[1;31m# re-raise KeyboardInterrupt, to truncate traceback\u001b[0m\u001b[1;33m\u001b[0m\u001b[1;33m\u001b[0m\u001b[1;33m\u001b[0m\u001b[0m\n\u001b[1;32m--> 904\u001b[1;33m                 \u001b[1;32mraise\u001b[0m \u001b[0mKeyboardInterrupt\u001b[0m\u001b[1;33m(\u001b[0m\u001b[1;34m\"Interrupted by user\"\u001b[0m\u001b[1;33m)\u001b[0m \u001b[1;32mfrom\u001b[0m \u001b[1;32mNone\u001b[0m\u001b[1;33m\u001b[0m\u001b[1;33m\u001b[0m\u001b[0m\n\u001b[0m\u001b[0;32m    905\u001b[0m             \u001b[1;32mexcept\u001b[0m \u001b[0mException\u001b[0m \u001b[1;32mas\u001b[0m \u001b[0me\u001b[0m\u001b[1;33m:\u001b[0m\u001b[1;33m\u001b[0m\u001b[1;33m\u001b[0m\u001b[0m\n\u001b[0;32m    906\u001b[0m                 \u001b[0mself\u001b[0m\u001b[1;33m.\u001b[0m\u001b[0mlog\u001b[0m\u001b[1;33m.\u001b[0m\u001b[0mwarning\u001b[0m\u001b[1;33m(\u001b[0m\u001b[1;34m\"Invalid Message:\"\u001b[0m\u001b[1;33m,\u001b[0m \u001b[0mexc_info\u001b[0m\u001b[1;33m=\u001b[0m\u001b[1;32mTrue\u001b[0m\u001b[1;33m)\u001b[0m\u001b[1;33m\u001b[0m\u001b[1;33m\u001b[0m\u001b[0m\n",
      "\u001b[1;31mKeyboardInterrupt\u001b[0m: Interrupted by user"
     ]
    }
   ],
   "source": [
    "while True:\n",
    "    a=input()\n",
    "    if a == 'F':\n",
    "        f = Fau()\n",
    "    elif a == 'B':\n",
    "        b = Blaze()\n",
    "    elif a == 'f':\n",
    "        f.attack(b)\n",
    "        \n",
    "    elif a == 'b':\n",
    "        b.attack(f)\n",
    "    else:\n",
    "        continue"
   ]
  },
  {
   "cell_type": "code",
   "execution_count": 72,
   "id": "98669179",
   "metadata": {},
   "outputs": [
    {
     "name": "stdout",
     "output_type": "stream",
     "text": [
      "피를 40만큼 깔예정! 예상 남은피:360\n",
      "피가 40만큼 까임 남은피:360\n",
      "방어력 {2}\n",
      "피가 40만큼 까임 남은피:300.0\n",
      "방어력 {2}\n",
      "피를 5만큼 깔예정! 예상 남은피:45\n",
      "피가 5만큼 까임 남은피:45\n",
      "피를 40만큼 깔예정! 예상 남은피:240.0\n",
      "피가 40만큼 까임 남은피:240.0\n",
      "방어력 {2}\n",
      "피가 40만큼 까임 남은피:180.0\n",
      "방어력 {2}\n",
      "피를 5만큼 깔예정! 예상 남은피:40\n",
      "피가 5만큼 까임 남은피:40\n",
      "피를 40만큼 깔예정! 예상 남은피:120.0\n",
      "피가 40만큼 까임 남은피:120.0\n",
      "방어력 {2}\n",
      "1 초간 스턴되었다!\n",
      "2 초간 스턴되었다!\n",
      "3 초간 스턴되었다!\n",
      "블레이즈 에게  3 초간 기절 공격!\n",
      "피가 40만큼 까임 남은피:60.0\n",
      "방어력 {2}\n",
      "피를 5만큼 깔예정! 예상 남은피:35\n",
      "피가 5만큼 까임 남은피:35\n"
     ]
    }
   ],
   "source": [
    "for _ in range(3):\n",
    "    f.attack(b)\n",
    "    sleep(0.5)\n",
    "    b.attack(f)"
   ]
  },
  {
   "cell_type": "code",
   "execution_count": null,
   "id": "4d164183",
   "metadata": {},
   "outputs": [],
   "source": []
  }
 ],
 "metadata": {
  "kernelspec": {
   "display_name": "Python 3",
   "language": "python",
   "name": "python3"
  },
  "language_info": {
   "codemirror_mode": {
    "name": "ipython",
    "version": 3
   },
   "file_extension": ".py",
   "mimetype": "text/x-python",
   "name": "python",
   "nbconvert_exporter": "python",
   "pygments_lexer": "ipython3",
   "version": "3.8.8"
  }
 },
 "nbformat": 4,
 "nbformat_minor": 5
}
