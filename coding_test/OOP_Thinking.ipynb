{
 "cells": [
  {
   "cell_type": "code",
   "execution_count": 6,
   "id": "3614d1dd",
   "metadata": {},
   "outputs": [
    {
     "name": "stdout",
     "output_type": "stream",
     "text": [
      "블레이즈 유닛생성\n",
      "파우스트 유닛생성\n",
      "피가 5만큼 깜 남은피:45\n",
      "피가 5만큼 깜 남은피:40\n",
      "피가 5만큼 깜 남은피:35\n",
      "피가 5만큼 깜 남은피:30\n"
     ]
    }
   ],
   "source": [
    "class Unit:\n",
    "    def __init__(self, name, hp, attack_point):\n",
    "        self.name = name\n",
    "        self.hp = hp\n",
    "        self.attack_point = attack_point\n",
    "        print(f'{name} 유닛생성')\n",
    "        \n",
    "    def attack(self,target):\n",
    "        target.hp -= self.attack_point\n",
    "        print(f'피가 {self.attack_point}만큼 깜 남은피:{target.hp}')\n",
    "    \n",
    "    def damaged(self, hp,attack_point):\n",
    "        print(f'피가 {attack_point}만큼 까임 남은피:{self.hp}')\n",
    "\n",
    "    def to_stun(self, stun_time, target):\n",
    "        print(stun_time, target.name,'초간 기절 공격!')\n",
    "        \n",
    "    def stunned(stun_time):\n",
    "        for i in stun_time:\n",
    "            print(i, '초간 스턴되었다!')\n",
    "    \n",
    "    \n",
    "class Blaze(Unit):\n",
    "    def __init__(self):\n",
    "        Unit.__init__(self, '블레이즈', 400, 5)\n",
    "    \n",
    "    \n",
    "class Fau(Unit):\n",
    "    \n",
    "    count = 0\n",
    "    \n",
    "    def __init__(self):\n",
    "        Unit.__init__(self, '파우스트', 50, 40)\n",
    "    \n",
    "    def attack(self, target):\n",
    "        super().attack()\n",
    "        count+=1\n",
    "        if count == 3:\n",
    "            self.to_stun(3, target)\n",
    "            count = 0\n",
    "    \n",
    "    \n",
    "    \n",
    "    \n",
    "\n",
    "b = Blaze()\n",
    "f = Fau()\n",
    "\n",
    "b.attack(f)\n",
    "\n",
    "\n",
    "\n",
    "b.attack(f)\n",
    "b.attack(f)\n",
    "b.attack(f)"
   ]
  },
  {
   "cell_type": "code",
   "execution_count": 7,
   "id": "520dd148",
   "metadata": {},
   "outputs": [
    {
     "name": "stdout",
     "output_type": "stream",
     "text": [
      "피가 5만큼 깜 남은피:25\n"
     ]
    }
   ],
   "source": [
    "b.attack(f)"
   ]
  },
  {
   "cell_type": "code",
   "execution_count": 5,
   "id": "083e2a64",
   "metadata": {},
   "outputs": [
    {
     "name": "stdout",
     "output_type": "stream",
     "text": [
      "피가 5만큼 깜 남은피:20\n"
     ]
    }
   ],
   "source": [
    "b.attack(f)"
   ]
  },
  {
   "cell_type": "code",
   "execution_count": null,
   "id": "b86289c3",
   "metadata": {},
   "outputs": [],
   "source": []
  }
 ],
 "metadata": {
  "kernelspec": {
   "display_name": "Python 3",
   "language": "python",
   "name": "python3"
  },
  "language_info": {
   "codemirror_mode": {
    "name": "ipython",
    "version": 3
   },
   "file_extension": ".py",
   "mimetype": "text/x-python",
   "name": "python",
   "nbconvert_exporter": "python",
   "pygments_lexer": "ipython3",
   "version": "3.8.8"
  }
 },
 "nbformat": 4,
 "nbformat_minor": 5
}
