{
 "cells": [
  {
   "cell_type": "markdown",
   "id": "224439d7",
   "metadata": {},
   "source": [
    "## Timer deco"
   ]
  },
  {
   "cell_type": "code",
   "execution_count": 1,
   "id": "d44b1c6c",
   "metadata": {},
   "outputs": [
    {
     "name": "stdout",
     "output_type": "stream",
     "text": [
      "0.661 초 걸렸습니다!\n"
     ]
    }
   ],
   "source": [
    "import time\n",
    "def timethis(function):\n",
    "    def wrapper(*a,**k):\n",
    "        start = time.time()\n",
    "        r = function(*a, **k)\n",
    "        end = time.time()\n",
    "        print(f\"{(end - start):.3f} 초 걸렸습니다!\")\n",
    "    return wrapper\n",
    "\n",
    "@timethis\n",
    "def timehere(a):\n",
    "    y = []\n",
    "    for i in range(a):\n",
    "        y.append(i)\n",
    "\n",
    "\n",
    "timehere(10000000)"
   ]
  },
  {
   "cell_type": "markdown",
   "id": "6127d032",
   "metadata": {},
   "source": [
    "## regular expression"
   ]
  },
  {
   "cell_type": "code",
   "execution_count": 7,
   "id": "43c7ceca",
   "metadata": {},
   "outputs": [
    {
     "data": {
      "text/plain": [
       "<re.Match object; span=(9, 10), match='a'>"
      ]
     },
     "execution_count": 7,
     "metadata": {},
     "output_type": "execute_result"
    }
   ],
   "source": [
    "import re\n",
    "r  = re.compile('[ab]')\n",
    "string = \"wefwefmkmaefm;b\"\n",
    "r.search(string)"
   ]
  },
  {
   "cell_type": "code",
   "execution_count": 6,
   "id": "867287b3",
   "metadata": {},
   "outputs": [
    {
     "data": {
      "text/plain": [
       "<re.Match object; span=(1, 2), match='e'>"
      ]
     },
     "execution_count": 6,
     "metadata": {},
     "output_type": "execute_result"
    }
   ],
   "source": [
    "r1 = re.compile('[a-f]')\n",
    "r1.search(string)"
   ]
  },
  {
   "cell_type": "code",
   "execution_count": null,
   "id": "dc320a07",
   "metadata": {},
   "outputs": [],
   "source": [
    "r1 = re.compile('[a-f]')\n",
    "r1.search(string)"
   ]
  },
  {
   "cell_type": "code",
   "execution_count": 18,
   "id": "0177443d",
   "metadata": {},
   "outputs": [
    {
     "data": {
      "text/plain": [
       "True"
      ]
     },
     "execution_count": 18,
     "metadata": {},
     "output_type": "execute_result"
    }
   ],
   "source": [
    "r2 = re.compile('[^\\d\\d\\d$]')\n",
    "\n",
    "re.search('[^\\d\\d\\d$]', tel).group()  == '-'"
   ]
  },
  {
   "cell_type": "code",
   "execution_count": 132,
   "id": "bcee3541",
   "metadata": {
    "scrolled": true
   },
   "outputs": [
    {
     "name": "stdout",
     "output_type": "stream",
     "text": [
      "None\n"
     ]
    }
   ],
   "source": [
    "print(re.fullmatch('^\\d{3}-\\d{4}-\\d{4}$', '010-1234123'))"
   ]
  },
  {
   "cell_type": "code",
   "execution_count": 87,
   "id": "3587d827",
   "metadata": {},
   "outputs": [],
   "source": [
    "def correct_tel(tel):\n",
    "    if re.fullmatch('^\\d{3}-\\d{4}-\\d{4}$', tel) == None:\n",
    "        return False\n",
    "    return True\n",
    "\n",
    "def correct_birth(birth):\n",
    "    try:\n",
    "        if int(birth[:2])<0 or int(birth[2:4])>12 or int(birth[2:4])<0 or int(birth[4:])<0 or int(birth[4:])>31:\n",
    "            raise\n",
    "        return True\n",
    "    except:\n",
    "        return False\n",
    "    \n",
    "def correct_num(num):\n",
    "    \n",
    "    if re.fullmatch('^\\d{6}-\\d{7}$', num) == None:\n",
    "        print('숫자를 입력하세요')\n",
    "        return\n",
    "        \n",
    "    if len(num)!=14:\n",
    "        print('13자리로 입력')\n",
    "        return\n",
    "    \n",
    "    if not correct_birth(num[:6]):\n",
    "        print('맞는 생신맞아요?')\n",
    "        return\n",
    "    \n",
    "    if num[7] == '1':\n",
    "        print('남')\n",
    "    elif num[7] == '0':\n",
    "        print('여')\n",
    "    else:\n",
    "        print('???')\n",
    "        \n",
    "        \n",
    "    return True    \n",
    "\n",
    "\n"
   ]
  }
 ],
 "metadata": {
  "kernelspec": {
   "display_name": "Python 3",
   "language": "python",
   "name": "python3"
  },
  "language_info": {
   "codemirror_mode": {
    "name": "ipython",
    "version": 3
   },
   "file_extension": ".py",
   "mimetype": "text/x-python",
   "name": "python",
   "nbconvert_exporter": "python",
   "pygments_lexer": "ipython3",
   "version": "3.8.8"
  }
 },
 "nbformat": 4,
 "nbformat_minor": 5
}
