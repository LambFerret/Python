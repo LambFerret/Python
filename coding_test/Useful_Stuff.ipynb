{
 "cells": [
  {
   "cell_type": "markdown",
   "id": "224439d7",
   "metadata": {},
   "source": [
    "## Timer deco"
   ]
  },
  {
   "cell_type": "code",
   "execution_count": 1,
   "id": "d44b1c6c",
   "metadata": {},
   "outputs": [
    {
     "name": "stdout",
     "output_type": "stream",
     "text": [
      "0.669 초 걸렸습니다!\n"
     ]
    }
   ],
   "source": [
    "import time\n",
    "def timethis(function):\n",
    "    def wrapper(*a,**k):\n",
    "        start = time.time()\n",
    "        r = function(*a, **k)\n",
    "        end = time.time()\n",
    "        print(f\"{(end - start):.3f} 초 걸렸습니다!\")\n",
    "    return wrapper\n",
    "\n",
    "@timethis\n",
    "def timehere(a):\n",
    "    y = []\n",
    "    for i in range(a):\n",
    "        y.append(i)\n",
    "\n",
    "\n",
    "timehere(10000000)"
   ]
  },
  {
   "cell_type": "code",
   "execution_count": null,
   "id": "3139caa0",
   "metadata": {},
   "outputs": [],
   "source": []
  }
 ],
 "metadata": {
  "kernelspec": {
   "display_name": "Python 3",
   "language": "python",
   "name": "python3"
  },
  "language_info": {
   "codemirror_mode": {
    "name": "ipython",
    "version": 3
   },
   "file_extension": ".py",
   "mimetype": "text/x-python",
   "name": "python",
   "nbconvert_exporter": "python",
   "pygments_lexer": "ipython3",
   "version": "3.8.8"
  }
 },
 "nbformat": 4,
 "nbformat_minor": 5
}
