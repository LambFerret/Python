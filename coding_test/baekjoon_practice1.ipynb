{
 "cells": [
  {
   "cell_type": "markdown",
   "id": "0d710947",
   "metadata": {},
   "source": [
    "### 소수 찾기"
   ]
  },
  {
   "cell_type": "code",
   "execution_count": 114,
   "id": "8edda395",
   "metadata": {
    "scrolled": true
   },
   "outputs": [
    {
     "name": "stdout",
     "output_type": "stream",
     "text": [
      "2\n",
      "3\n"
     ]
    }
   ],
   "source": [
    "al = int(input())\n",
    "be = list(input().split(' '))\n",
    "\n",
    "prime = [a*2+1 for a in range(499)]"
   ]
  },
  {
   "cell_type": "code",
   "execution_count": 131,
   "id": "b7db7d8b",
   "metadata": {},
   "outputs": [],
   "source": [
    "def prime_number(number):   # number를 입력 받아 소수인지 아닌지 구분하는 함수\n",
    "     # number가 1이 아니면, (1은 소수가 아님)\n",
    "    if number != 1:                 \n",
    "        # 2, 3, 4, ..., (number - 1)까지의 인수에 대해서\n",
    "        for f in range(2, number):  \n",
    "            # number가 위의 인수 중의 하나로 나누어지면, (나머지가 0이면)\n",
    "            if number % f == 0:     \n",
    "                return False    # 소수가 아님\n",
    "    else:                       # number가 1이라면, \n",
    "        return False            # 소수가 아님\n",
    "    \n",
    "    # number가 1이 아니면서, 2부터 (number - 1)까지의 수로 나눠지지 않으므로\n",
    "    # 소수로 판별됨 (소수는 1과 자신만을 인수로 갖는 수)\n",
    "    return True                 \n",
    "\n",
    "   \n",
    "input_integer = int(input(\"자연수 N을 입력해 주세요: \"))\n",
    "integer_list = (x for x in range(2, input_integer + 1))\n",
    "prime_numbers = []\n",
    "for num in integer_list:\n",
    "    if prime_number(num):\n",
    "        prime_numbers.append(num)\n",
    "\n",
    "print(prime_numbers)"
   ]
  },
  {
   "cell_type": "markdown",
   "id": "0e478cd2",
   "metadata": {},
   "source": [
    "## 재귀"
   ]
  },
  {
   "cell_type": "markdown",
   "id": "dac6aa8a",
   "metadata": {},
   "source": [
    "### 팩토리얼 #10872"
   ]
  },
  {
   "cell_type": "code",
   "execution_count": 145,
   "id": "4e97988c",
   "metadata": {},
   "outputs": [
    {
     "name": "stdout",
     "output_type": "stream",
     "text": [
      "10\n",
      "3628800\n"
     ]
    }
   ],
   "source": [
    "def fac(al, be=1):\n",
    "    if al == 1:\n",
    "        be *=1\n",
    "        print(be)\n",
    "    elif al == 0:\n",
    "        be = 1\n",
    "        print(be)\n",
    "    else:\n",
    "        be *= al\n",
    "        al-= 1\n",
    "        fac(al, be)\n",
    "al = int(input())\n",
    "fac(al)"
   ]
  },
  {
   "cell_type": "markdown",
   "id": "c93cd97d",
   "metadata": {},
   "source": [
    "### 피보나치 #10870"
   ]
  },
  {
   "cell_type": "code",
   "execution_count": 173,
   "id": "270c026c",
   "metadata": {},
   "outputs": [
    {
     "name": "stdout",
     "output_type": "stream",
     "text": [
      "18\n"
     ]
    },
    {
     "data": {
      "text/plain": [
       "2584"
      ]
     },
     "execution_count": 173,
     "metadata": {},
     "output_type": "execute_result"
    }
   ],
   "source": [
    "def pivo(al):\n",
    "    if( al <= 1) :\n",
    "        return al\n",
    "    else:\n",
    "        al = pivo(al-2) + (pivo(al-1))\n",
    "        return al\n",
    "    \n",
    "num = int(input())\n",
    "pivo(num)\n"
   ]
  },
  {
   "cell_type": "markdown",
   "id": "79e2afb2",
   "metadata": {},
   "source": [
    "### 별1 #2447"
   ]
  },
  {
   "cell_type": "code",
   "execution_count": 179,
   "id": "ebadd1cf",
   "metadata": {},
   "outputs": [],
   "source": [
    "def star(al):\n",
    "    for \n",
    "    if al == 3: \n",
    "    else: \n",
    "        "
   ]
  },
  {
   "cell_type": "markdown",
   "id": "b7c62ded",
   "metadata": {},
   "source": [
    "### 블랙잭 #2798"
   ]
  },
  {
   "cell_type": "code",
   "execution_count": 324,
   "id": "6f4355a8",
   "metadata": {
    "scrolled": true
   },
   "outputs": [
    {
     "name": "stdout",
     "output_type": "stream",
     "text": [
      "6 21\n",
      "1 1 1 21 22 22\n"
     ]
    },
    {
     "data": {
      "text/plain": [
       "3"
      ]
     },
     "execution_count": 324,
     "metadata": {},
     "output_type": "execute_result"
    }
   ],
   "source": [
    "n, m= list(map(int,input().split(\" \")))\n",
    "ls = sorted(list(map(int,input().split(\" \"))),reverse=True)\n",
    "\n",
    "card = []\n",
    "for a in range(n):\n",
    "    for b in range(n):\n",
    "        for c in range(n):\n",
    "            if (a != b) & (b != c) & (c != a):\n",
    "                card.append(ls[a]+ls[b]+ls[c])\n",
    "max(list(filter(lambda x: x<=m,set(card))))"
   ]
  },
  {
   "cell_type": "code",
   "execution_count": 334,
   "id": "03a06488",
   "metadata": {
    "scrolled": true
   },
   "outputs": [
    {
     "name": "stdout",
     "output_type": "stream",
     "text": [
      "5 1\n",
      "6\n"
     ]
    }
   ],
   "source": [
    "a,b = input().split()\n",
    "print(int(a)+int(b))\n",
    "print(int(a)+int(b))"
   ]
  },
  {
   "cell_type": "code",
   "execution_count": 337,
   "id": "09745bd2",
   "metadata": {
    "scrolled": true
   },
   "outputs": [
    {
     "name": "stdout",
     "output_type": "stream",
     "text": [
      "3 4 5\n"
     ]
    },
    {
     "ename": "NameError",
     "evalue": "name 'C' is not defined",
     "output_type": "error",
     "traceback": [
      "\u001b[1;31m---------------------------------------------------------------------------\u001b[0m",
      "\u001b[1;31mNameError\u001b[0m                                 Traceback (most recent call last)",
      "\u001b[1;32m<ipython-input-337-1697deec9b4d>\u001b[0m in \u001b[0;36m<module>\u001b[1;34m\u001b[0m\n\u001b[0;32m      2\u001b[0m \u001b[0mA\u001b[0m \u001b[1;33m=\u001b[0m \u001b[0mint\u001b[0m\u001b[1;33m(\u001b[0m\u001b[0ma\u001b[0m\u001b[1;33m)\u001b[0m\u001b[1;33m\u001b[0m\u001b[1;33m\u001b[0m\u001b[0m\n\u001b[0;32m      3\u001b[0m \u001b[0mB\u001b[0m \u001b[1;33m=\u001b[0m \u001b[0mint\u001b[0m\u001b[1;33m(\u001b[0m\u001b[0mb\u001b[0m\u001b[1;33m)\u001b[0m\u001b[1;33m\u001b[0m\u001b[1;33m\u001b[0m\u001b[0m\n\u001b[1;32m----> 4\u001b[1;33m \u001b[0mC\u001b[0m \u001b[1;33m=\u001b[0m \u001b[0mint\u001b[0m\u001b[1;33m(\u001b[0m\u001b[0mC\u001b[0m\u001b[1;33m)\u001b[0m\u001b[1;33m\u001b[0m\u001b[1;33m\u001b[0m\u001b[0m\n\u001b[0m\u001b[0;32m      5\u001b[0m \u001b[1;33m\u001b[0m\u001b[0m\n\u001b[0;32m      6\u001b[0m \u001b[0mprint\u001b[0m\u001b[1;33m(\u001b[0m\u001b[1;33m(\u001b[0m\u001b[0mA\u001b[0m\u001b[1;33m+\u001b[0m\u001b[0mB\u001b[0m\u001b[1;33m)\u001b[0m\u001b[1;33m%\u001b[0m\u001b[0mC\u001b[0m\u001b[1;33m)\u001b[0m\u001b[1;33m\u001b[0m\u001b[1;33m\u001b[0m\u001b[0m\n",
      "\u001b[1;31mNameError\u001b[0m: name 'C' is not defined"
     ]
    }
   ],
   "source": [
    "\n",
    "\n",
    "a,b,c = input().split()\n",
    "A = int(a)\n",
    "B = int(b)\n",
    "C = int(c)\n",
    "\n",
    "print((A+B)%C)\n",
    "\n",
    "print(((A%C) + (B%C))%C)\n",
    "\n",
    "print((A*B)%C)\n",
    "\n",
    "print(((A%C) * (B%C))%C)\n",
    "\n"
   ]
  },
  {
   "cell_type": "code",
   "execution_count": 344,
   "id": "547ec0a8",
   "metadata": {},
   "outputs": [
    {
     "name": "stdout",
     "output_type": "stream",
     "text": [
      "472\n",
      "385\n",
      "2360\n",
      "3776\n",
      "1416\n",
      "181720\n"
     ]
    }
   ],
   "source": [
    "a = int(input())\n",
    "b = input()\n",
    "print(a*int(list(b)[2]))\n",
    "print(a*int(list(b)[1]))\n",
    "print(a*int(list(b)[0]))\n",
    "print(a*int(b))"
   ]
  },
  {
   "cell_type": "code",
   "execution_count": 343,
   "id": "8fa07ebf",
   "metadata": {},
   "outputs": [
    {
     "data": {
      "text/plain": [
       "15"
      ]
     },
     "execution_count": 343,
     "metadata": {},
     "output_type": "execute_result"
    }
   ],
   "source": [
    "int(list(b)[2])*a"
   ]
  },
  {
   "cell_type": "code",
   "execution_count": 349,
   "id": "a8ef18be",
   "metadata": {},
   "outputs": [
    {
     "name": "stdout",
     "output_type": "stream",
     "text": [
      "|\\_/|\n",
      "|q p|   /}\n",
      "( 0 )\"\"\"\\\n",
      "|\"^\"`    |\n",
      "||_/=\\\\__|\n"
     ]
    }
   ],
   "source": [
    "print('|\\\\_/|')\n",
    "print(\"\"\"|q p|   /}\"\"\")\n",
    "print(\"\"\"( 0 )\"\"\"+'\"\"\"'+\"\\\\\")\n",
    "print(\"\"\"|\"^\"`    |\"\"\")\n",
    "print(\"\"\"||_/=\\\\\\\\__|\"\"\")\n"
   ]
  },
  {
   "cell_type": "code",
   "execution_count": 350,
   "id": "090ec890",
   "metadata": {},
   "outputs": [
    {
     "name": "stdout",
     "output_type": "stream",
     "text": [
      "3 5\n",
      "<\n"
     ]
    }
   ],
   "source": [
    "a,b = input().split()\n",
    "if int(a)<int(b):\n",
    "    print(\"<\")\n",
    "elif int(a)>int(b):\n",
    "    print(\">\")\n",
    "else:\n",
    "    print(\"==\")"
   ]
  },
  {
   "cell_type": "code",
   "execution_count": null,
   "id": "582c4b94",
   "metadata": {},
   "outputs": [],
   "source": [
    "a = int(input())\n",
    "if a>=90 & a<=100:\n",
    "    print(\"A\")\n",
    "elif a>=80 & a<90:\n",
    "    print(\"B\")\n",
    "elif a>=70 & a<80:\n",
    "    print(\"C\")\n",
    "elif a>=60 & a<70:\n",
    "    print(\"D\")\n",
    "else:\n",
    "    print('F')"
   ]
  }
 ],
 "metadata": {
  "kernelspec": {
   "display_name": "Python 3",
   "language": "python",
   "name": "python3"
  },
  "language_info": {
   "codemirror_mode": {
    "name": "ipython",
    "version": 3
   },
   "file_extension": ".py",
   "mimetype": "text/x-python",
   "name": "python",
   "nbconvert_exporter": "python",
   "pygments_lexer": "ipython3",
   "version": "3.8.8"
  }
 },
 "nbformat": 4,
 "nbformat_minor": 5
}
