{
 "cells": [
  {
   "cell_type": "markdown",
   "id": "2f612b82",
   "metadata": {},
   "source": [
    "## #15596"
   ]
  },
  {
   "cell_type": "code",
   "execution_count": 1,
   "id": "696ad5a8",
   "metadata": {},
   "outputs": [],
   "source": [
    "def solve(a: list):\n",
    "    \n",
    "    return sum(a)"
   ]
  },
  {
   "cell_type": "markdown",
   "id": "3483e0d1",
   "metadata": {},
   "source": [
    "## #4673"
   ]
  },
  {
   "cell_type": "code",
   "execution_count": 6,
   "id": "a213bf71",
   "metadata": {},
   "outputs": [],
   "source": [
    "def d(a):\n",
    "    return a+sum(list(map(int,list(str(a)))))\n",
    "\n",
    "ls = list(range(1, 10000))\n",
    "for i in range(1,10000):\n",
    "    if d(i) in ls:\n",
    "        ls.remove(d(i))\n",
    "        \n",
    "ls"
   ]
  },
  {
   "cell_type": "code",
   "execution_count": 104,
   "id": "56125ee2",
   "metadata": {},
   "outputs": [
    {
     "name": "stdout",
     "output_type": "stream",
     "text": [
      "50\n",
      "50\n"
     ]
    }
   ],
   "source": [
    "def checking(a):\n",
    "    if a<100:\n",
    "        return True\n",
    "    else:\n",
    "        tups= list(map(int,list(str(a))))\n",
    "        temp = tups[1]-tups[0]\n",
    "        for i in range(len(str(a))-1):\n",
    "            if tups[i+1]-tups[i] != temp:\n",
    "                return False\n",
    "        return True\n",
    "    \n",
    "        \n",
    "\n",
    "def answering(b):\n",
    "    count = 0\n",
    "    if b<100:\n",
    "        return b\n",
    "    for i in range(1, b):\n",
    "        if checking(i):\n",
    "            count+=1\n",
    "    return count\n",
    "\n",
    "ans = int(input())\n",
    "print(answering(ans))"
   ]
  },
  {
   "cell_type": "code",
   "execution_count": null,
   "id": "1ba11f5d",
   "metadata": {},
   "outputs": [],
   "source": []
  },
  {
   "cell_type": "code",
   "execution_count": null,
   "id": "38447e3d",
   "metadata": {},
   "outputs": [],
   "source": []
  },
  {
   "cell_type": "code",
   "execution_count": null,
   "id": "ef1524b7",
   "metadata": {},
   "outputs": [],
   "source": []
  },
  {
   "cell_type": "code",
   "execution_count": null,
   "id": "f6c29426",
   "metadata": {},
   "outputs": [],
   "source": []
  },
  {
   "cell_type": "code",
   "execution_count": null,
   "id": "264b1a7c",
   "metadata": {},
   "outputs": [],
   "source": []
  },
  {
   "cell_type": "code",
   "execution_count": null,
   "id": "12f6f522",
   "metadata": {},
   "outputs": [],
   "source": []
  },
  {
   "cell_type": "code",
   "execution_count": null,
   "id": "c4038afd",
   "metadata": {},
   "outputs": [],
   "source": []
  },
  {
   "cell_type": "code",
   "execution_count": null,
   "id": "b383bb54",
   "metadata": {},
   "outputs": [],
   "source": []
  },
  {
   "cell_type": "code",
   "execution_count": null,
   "id": "d82744eb",
   "metadata": {},
   "outputs": [],
   "source": []
  },
  {
   "cell_type": "code",
   "execution_count": null,
   "id": "c09bb21b",
   "metadata": {},
   "outputs": [],
   "source": []
  }
 ],
 "metadata": {
  "kernelspec": {
   "display_name": "Python 3",
   "language": "python",
   "name": "python3"
  },
  "language_info": {
   "codemirror_mode": {
    "name": "ipython",
    "version": 3
   },
   "file_extension": ".py",
   "mimetype": "text/x-python",
   "name": "python",
   "nbconvert_exporter": "python",
   "pygments_lexer": "ipython3",
   "version": "3.8.8"
  }
 },
 "nbformat": 4,
 "nbformat_minor": 5
}
