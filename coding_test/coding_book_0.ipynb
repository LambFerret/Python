{
 "cells": [
  {
   "cell_type": "code",
   "execution_count": 92,
   "id": "b06e8540",
   "metadata": {},
   "outputs": [],
   "source": [
    "#시간 재기\n",
    "\n",
    "import time\n",
    "def timer(function):\n",
    "    def wrapper(*a,**k):\n",
    "        start = time.time()\n",
    "        r = function(*a, **k)\n",
    "        end = time.time()\n",
    "        print(f\"{(end - start):.3f} 초 걸렸습니다!\")\n",
    "    return wrapper"
   ]
  },
  {
   "cell_type": "markdown",
   "id": "10dd4338",
   "metadata": {},
   "source": [
    "# 탐욕법"
   ]
  },
  {
   "cell_type": "markdown",
   "id": "f030475e",
   "metadata": {},
   "source": [
    "## 거스름돈"
   ]
  },
  {
   "cell_type": "code",
   "execution_count": 2,
   "id": "2e9c10b8",
   "metadata": {},
   "outputs": [],
   "source": [
    "N = 1260\n",
    "coins = [500,100,50,10]\n",
    "count = 0\n",
    "for coin in coins:\n",
    "    count += N // coin\n",
    "    N %= coin"
   ]
  },
  {
   "cell_type": "code",
   "execution_count": 3,
   "id": "c3fc064b",
   "metadata": {},
   "outputs": [
    {
     "data": {
      "text/plain": [
       "6"
      ]
     },
     "execution_count": 3,
     "metadata": {},
     "output_type": "execute_result"
    }
   ],
   "source": [
    "count"
   ]
  },
  {
   "cell_type": "markdown",
   "id": "db1a8b63",
   "metadata": {},
   "source": [
    "## 큰 수 찾기"
   ]
  },
  {
   "cell_type": "markdown",
   "id": "bf0f3d9a",
   "metadata": {},
   "source": [
    "### 내 해답"
   ]
  },
  {
   "cell_type": "code",
   "execution_count": 4,
   "id": "45f1f294",
   "metadata": {},
   "outputs": [],
   "source": [
    "n = 5 #Size of array\n",
    "m = 8 #Number of sum\n",
    "k = 3 #limitation num of repeat\n",
    "array = [2,4,5,4,6]"
   ]
  },
  {
   "cell_type": "code",
   "execution_count": 22,
   "id": "ba2c6ccb",
   "metadata": {},
   "outputs": [
    {
     "name": "stdout",
     "output_type": "stream",
     "text": [
      "5 8 2\n",
      "4 9 5 2 1 4 3 5 7\n"
     ]
    }
   ],
   "source": [
    "n, m, k = map(int, input().split(' '))\n",
    "array = list(map(int, input().split(' ')))\n",
    "\n",
    "\n",
    "arr1 = sorted(array, reverse=True)[0:2]\n",
    "num = 0\n",
    "ans = []\n",
    "while len(ans)<m:\n",
    "    for _ in range(k):\n",
    "        ans.append(arr1[0])\n",
    "    ans.append(arr1[1])\n",
    "    \n",
    "for i in range(m):\n",
    "    num += ans[i]"
   ]
  },
  {
   "cell_type": "code",
   "execution_count": 23,
   "id": "a5890dc2",
   "metadata": {},
   "outputs": [
    {
     "name": "stdout",
     "output_type": "stream",
     "text": [
      "[9, 9, 7, 9, 9, 7, 9, 9, 7]\n",
      "68\n"
     ]
    }
   ],
   "source": [
    "print(ans)\n",
    "print(num)"
   ]
  },
  {
   "cell_type": "markdown",
   "id": "9460396c",
   "metadata": {},
   "source": [
    "### 모범 답안"
   ]
  },
  {
   "cell_type": "code",
   "execution_count": 46,
   "id": "2dfb34c3",
   "metadata": {},
   "outputs": [
    {
     "name": "stdout",
     "output_type": "stream",
     "text": [
      "5 8 3\n",
      "6 5\n"
     ]
    },
    {
     "data": {
      "text/plain": [
       "46"
      ]
     },
     "execution_count": 46,
     "metadata": {},
     "output_type": "execute_result"
    }
   ],
   "source": [
    "n, m, k = map(int, input().split(' '))\n",
    "array = sorted(list(map(int, input().split(' '))))\n",
    "\n",
    "first = array[-1]\n",
    "sec = array[-2]\n",
    "\n",
    "\n",
    "count = (m//(k+1))*k + m%(k+1)\n",
    "ans = count*first + (m-count)*sec\n",
    "ans"
   ]
  },
  {
   "cell_type": "markdown",
   "id": "8a2e083b",
   "metadata": {},
   "source": [
    "## 숫자 카드 게임"
   ]
  },
  {
   "cell_type": "markdown",
   "id": "8f2d65cb",
   "metadata": {},
   "source": [
    "### 내 해답"
   ]
  },
  {
   "cell_type": "code",
   "execution_count": 94,
   "id": "e9d6cb41",
   "metadata": {
    "scrolled": true
   },
   "outputs": [
    {
     "name": "stdout",
     "output_type": "stream",
     "text": [
      "3 3\n",
      "3 1 2\n",
      "4 1 4\n",
      "2 2 2\n",
      "a\n",
      "2\n",
      "8.516 초 걸렸습니다!\n"
     ]
    }
   ],
   "source": [
    "@timer\n",
    "def number_card_game():\n",
    "    n, m = map(int, input().split())\n",
    "    a = []\n",
    "    c = []\n",
    "    while True:\n",
    "        try: \n",
    "            a.append(list(map(int, input().split())))\n",
    "        except:\n",
    "            break\n",
    "\n",
    "    for lists in a:\n",
    "        c.append(min(lists))\n",
    "\n",
    "    print(a[c.index(max(c))][0])\n",
    "    \n",
    "number_card_game()"
   ]
  },
  {
   "cell_type": "markdown",
   "id": "1c0f009e",
   "metadata": {},
   "source": [
    "### 모범 답안"
   ]
  },
  {
   "cell_type": "code",
   "execution_count": 95,
   "id": "afddfa82",
   "metadata": {},
   "outputs": [
    {
     "name": "stdout",
     "output_type": "stream",
     "text": [
      "3 3 \n",
      "3 1 2\n",
      "4 1 4\n",
      "2 2 2\n",
      "2\n",
      "7.717 초 걸렸습니다!\n"
     ]
    }
   ],
   "source": [
    "@timer\n",
    "def num_ca_ga():\n",
    "    n, m = map(int, input().split())\n",
    "    result = 0\n",
    "    for i in range(n):\n",
    "        data = list(map(int, input().split()))\n",
    "        min_value = min(data)\n",
    "        result = max(result, min_value)\n",
    "    print(result)\n",
    "    \n",
    "num_ca_ga()"
   ]
  },
  {
   "cell_type": "markdown",
   "id": "2485801a",
   "metadata": {},
   "source": [
    "## to One!"
   ]
  },
  {
   "cell_type": "markdown",
   "id": "9b585ea4",
   "metadata": {},
   "source": [
    "### 내 해답"
   ]
  },
  {
   "cell_type": "code",
   "execution_count": 102,
   "id": "c68e004e",
   "metadata": {},
   "outputs": [
    {
     "name": "stdout",
     "output_type": "stream",
     "text": [
      "25 5\n",
      "2\n"
     ]
    }
   ],
   "source": [
    "def toone():\n",
    "    n, k = map(int, input().split())\n",
    "    count = 0\n",
    "    while n != 1:\n",
    "        count += 1\n",
    "        if n%k == 0:\n",
    "            n /= k\n",
    "        else:\n",
    "            n -= 1\n",
    "    return count\n",
    "        \n",
    "print(toone())"
   ]
  },
  {
   "cell_type": "markdown",
   "id": "49f67d09",
   "metadata": {},
   "source": [
    "## 상하좌우게임"
   ]
  },
  {
   "cell_type": "markdown",
   "id": "81e04c80",
   "metadata": {},
   "source": [
    "### 내 해답"
   ]
  },
  {
   "cell_type": "code",
   "execution_count": 164,
   "id": "72e4626d",
   "metadata": {
    "scrolled": true
   },
   "outputs": [
    {
     "name": "stdout",
     "output_type": "stream",
     "text": [
      "0.000 초 걸렸습니다!\n"
     ]
    }
   ],
   "source": [
    "@timer\n",
    "def travel(num, ls):\n",
    "    my_loc = [1,1]\n",
    "    move_position = {\n",
    "        'L' : [0,-1],\n",
    "        'R' : [0,1],\n",
    "        'U' : [-1,0],\n",
    "        'D' : [1,0]        \n",
    "    }\n",
    "    for i in ls:\n",
    "        temp = [x+y for x,y in zip(my_loc,move_position[i])]\n",
    "        if (0>=temp[0])|(0>=temp[1])|(num<temp[0])|(num<temp[1]):\n",
    "            pass\n",
    "        else:\n",
    "            my_loc = temp\n",
    "    \n",
    "    return my_loc\n",
    "\n",
    "travel(5, ['R','R','R','U','D','D'])\n",
    "    "
   ]
  },
  {
   "cell_type": "markdown",
   "id": "cb01bf9e",
   "metadata": {},
   "source": [
    "## 3이 포함된 시각"
   ]
  },
  {
   "cell_type": "markdown",
   "id": "c98aa0fd",
   "metadata": {},
   "source": [
    "### 내 해답"
   ]
  },
  {
   "cell_type": "code",
   "execution_count": 173,
   "id": "7683d5b6",
   "metadata": {},
   "outputs": [],
   "source": [
    "def time3(n):\n",
    "    count=0\n",
    "    for i in range(n+1):\n",
    "        for j in range(60):\n",
    "            for k in range(60):\n",
    "                if '3' in str(i)+str(j)+str(k):\n",
    "                    count +=1\n",
    "                    \n",
    "    return count"
   ]
  },
  {
   "cell_type": "code",
   "execution_count": 174,
   "id": "ff0e102a",
   "metadata": {},
   "outputs": [
    {
     "data": {
      "text/plain": [
       "11475"
      ]
     },
     "execution_count": 174,
     "metadata": {},
     "output_type": "execute_result"
    }
   ],
   "source": [
    "time3(5)"
   ]
  },
  {
   "cell_type": "markdown",
   "id": "051c69e7",
   "metadata": {},
   "source": [
    "## 왕실의 나이트"
   ]
  },
  {
   "cell_type": "markdown",
   "id": "da0268ae",
   "metadata": {},
   "source": [
    "### 내 해답"
   ]
  },
  {
   "cell_type": "code",
   "execution_count": 190,
   "id": "4616cbfa",
   "metadata": {},
   "outputs": [],
   "source": [
    "def knight(loc):\n",
    "    mapping = {\n",
    "        'a':1,\n",
    "        'b':2,\n",
    "        'c':3,\n",
    "        'd':4,\n",
    "        'e':5,\n",
    "        'f':6,\n",
    "        'h':8,\n",
    "        'g':7,\n",
    "    }\n",
    "    \n",
    "    count=0\n",
    "    location = [mapping[loc[0]], int(loc[1])]\n",
    "    movable = [(1,2),[2,1],[-1,2],[-2,1],[-1,-2],[-2,-1],[1,-2],[2,-1]]\n",
    "    for i in movable:\n",
    "        if (location[0]+i[0]<1) | (location[1]+i[1]<1) |(location[0]+i[0]>8) |(location[1]+i[1]>8):\n",
    "            pass\n",
    "        else:\n",
    "            count+=1\n",
    "        \n",
    "    return count"
   ]
  },
  {
   "cell_type": "code",
   "execution_count": 191,
   "id": "70cc6749",
   "metadata": {},
   "outputs": [
    {
     "data": {
      "text/plain": [
       "8"
      ]
     },
     "execution_count": 191,
     "metadata": {},
     "output_type": "execute_result"
    }
   ],
   "source": [
    "knight('d4')"
   ]
  },
  {
   "cell_type": "markdown",
   "id": "b0a2c968",
   "metadata": {},
   "source": [
    "## 게임 맵"
   ]
  },
  {
   "cell_type": "markdown",
   "id": "f3e168f1",
   "metadata": {},
   "source": [
    "### 내 해답"
   ]
  },
  {
   "cell_type": "code",
   "execution_count": 193,
   "id": "5ffeff2b",
   "metadata": {},
   "outputs": [],
   "source": [
    "n = 4 #가로\n",
    "m = 4 #세로\n",
    "class game:\n",
    "    def __init__(self, n,m,loc,):\n",
    "        \n",
    "        \n",
    "        \n",
    "        \n",
    "        \n",
    "        \n",
    "    def moving(face, loc):\n",
    "        moves = {\n",
    "            '0':(-1,0),\n",
    "            '1':(0,1),\n",
    "            '2':(1,0),\n",
    "            '3':(0,-1),\n",
    "        }\n",
    "        move_check = (loc[0] +moves[str(face)][0], loc[1] +moves[str(face)][1])\n",
    "\n",
    "\n",
    "    def making_map(loc,face):\n",
    "        location = loc\n",
    "        facing = face\n",
    "        \n",
    "        "
   ]
  },
  {
   "cell_type": "markdown",
   "id": "b5fb6304",
   "metadata": {},
   "source": [
    "## 상하좌우게임"
   ]
  },
  {
   "cell_type": "markdown",
   "id": "b822f568",
   "metadata": {},
   "source": [
    "### 내 해답"
   ]
  },
  {
   "cell_type": "markdown",
   "id": "dd2b13eb",
   "metadata": {},
   "source": [
    "## 상하좌우게임"
   ]
  },
  {
   "cell_type": "markdown",
   "id": "1ba098d2",
   "metadata": {},
   "source": [
    "### 내 해답"
   ]
  }
 ],
 "metadata": {
  "kernelspec": {
   "display_name": "Python 3",
   "language": "python",
   "name": "python3"
  },
  "language_info": {
   "codemirror_mode": {
    "name": "ipython",
    "version": 3
   },
   "file_extension": ".py",
   "mimetype": "text/x-python",
   "name": "python",
   "nbconvert_exporter": "python",
   "pygments_lexer": "ipython3",
   "version": "3.8.8"
  }
 },
 "nbformat": 4,
 "nbformat_minor": 5
}
