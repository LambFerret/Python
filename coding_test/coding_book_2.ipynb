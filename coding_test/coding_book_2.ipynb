{
 "cells": [
  {
   "cell_type": "markdown",
   "id": "97c3812e",
   "metadata": {},
   "source": [
    "# Dynamic Programming"
   ]
  },
  {
   "cell_type": "markdown",
   "id": "f7e180f5",
   "metadata": {},
   "source": [
    "## 메모이제이션"
   ]
  },
  {
   "cell_type": "markdown",
   "id": "5c91a029",
   "metadata": {},
   "source": [
    "### top-down"
   ]
  },
  {
   "cell_type": "code",
   "execution_count": 14,
   "id": "510f7a4c",
   "metadata": {},
   "outputs": [
    {
     "name": "stdout",
     "output_type": "stream",
     "text": [
      "218922995834555169026\n"
     ]
    }
   ],
   "source": [
    "d = [0] * 200\n",
    "\n",
    "def fibo(x):\n",
    "    if x==1 or x==2:\n",
    "        return 1\n",
    "    if d[x] != 0:\n",
    "        return d[x]\n",
    "    d[x] = fibo(x-1)+fibo(x-2)\n",
    "    return d[x]\n",
    "\n",
    "print(fibo(99))"
   ]
  },
  {
   "cell_type": "markdown",
   "id": "bc6f8fb0",
   "metadata": {},
   "source": [
    "### bottom-up"
   ]
  },
  {
   "cell_type": "code",
   "execution_count": 11,
   "id": "fcf2d958",
   "metadata": {},
   "outputs": [],
   "source": [
    "d = [0] * 200\n",
    "d[1]=1\n",
    "d[2]=1\n",
    "n=99\n",
    "for i in range(3, n+1):\n",
    "    d[i] = d[i-2]+d[i-1]"
   ]
  },
  {
   "cell_type": "code",
   "execution_count": 12,
   "id": "92173d84",
   "metadata": {},
   "outputs": [
    {
     "name": "stdout",
     "output_type": "stream",
     "text": [
      "218922995834555169026\n"
     ]
    }
   ],
   "source": [
    "print(d[n])"
   ]
  },
  {
   "cell_type": "markdown",
   "id": "232e1550",
   "metadata": {},
   "source": [
    "## Make..... one #1\n"
   ]
  },
  {
   "cell_type": "code",
   "execution_count": 29,
   "id": "9d91561e",
   "metadata": {},
   "outputs": [
    {
     "name": "stdout",
     "output_type": "stream",
     "text": [
      "26\n"
     ]
    }
   ],
   "source": [
    "n = int(input())"
   ]
  },
  {
   "cell_type": "code",
   "execution_count": 32,
   "id": "15b0515a",
   "metadata": {},
   "outputs": [
    {
     "name": "stdout",
     "output_type": "stream",
     "text": [
      "3\n"
     ]
    }
   ],
   "source": [
    "d = [0]*100\n",
    "\n",
    "for i in range(2, n+1):\n",
    "    d[i] = d[i-1]+1\n",
    "    if i%2 == 0:\n",
    "        d[i] = min(d[i],d[i//2]+1)\n",
    "    if i%3 == 0:\n",
    "        d[i] = min(d[i],d[i//3]+1)\n",
    "    if i%5 == 0:\n",
    "        d[i] = min(d[i],d[i//5]+1)\n",
    "        \n",
    "print(d[n])\n",
    "        "
   ]
  },
  {
   "cell_type": "markdown",
   "id": "b83b20ab",
   "metadata": {},
   "source": [
    "## Warrior Ant"
   ]
  },
  {
   "cell_type": "code",
   "execution_count": 34,
   "id": "061f00ba",
   "metadata": {},
   "outputs": [
    {
     "name": "stdout",
     "output_type": "stream",
     "text": [
      "4\n",
      "1 3 1 5\n"
     ]
    }
   ],
   "source": [
    "n = int(input())\n",
    "k = list(map(int, input().split()))"
   ]
  },
  {
   "cell_type": "code",
   "execution_count": 45,
   "id": "f702f364",
   "metadata": {},
   "outputs": [],
   "source": [
    "d=[0]*100\n"
   ]
  },
  {
   "cell_type": "code",
   "execution_count": 46,
   "id": "1535fc5e",
   "metadata": {},
   "outputs": [],
   "source": [
    "d[0] = k[0]\n",
    "d[1] = max(k[0],k[1])\n",
    "\n",
    "for i in range(2, n):\n",
    "    d[i] = max(k[i-1], k[i-2]+k[i])"
   ]
  },
  {
   "cell_type": "code",
   "execution_count": 48,
   "id": "57f839f9",
   "metadata": {},
   "outputs": [
    {
     "data": {
      "text/plain": [
       "8"
      ]
     },
     "execution_count": 48,
     "metadata": {},
     "output_type": "execute_result"
    }
   ],
   "source": [
    "d[n-1]"
   ]
  },
  {
   "cell_type": "markdown",
   "id": "e989c691",
   "metadata": {},
   "source": [
    "## Tile"
   ]
  },
  {
   "cell_type": "code",
   "execution_count": 54,
   "id": "6b7cd380",
   "metadata": {},
   "outputs": [
    {
     "name": "stdout",
     "output_type": "stream",
     "text": [
      "3\n"
     ]
    }
   ],
   "source": [
    "n = int(input())"
   ]
  },
  {
   "cell_type": "code",
   "execution_count": 70,
   "id": "e508cdf0",
   "metadata": {},
   "outputs": [
    {
     "name": "stdout",
     "output_type": "stream",
     "text": [
      "5\n"
     ]
    }
   ],
   "source": [
    "d = [0]*100\n",
    "\n",
    "d[1] = 1\n",
    "d[2] = 3\n",
    "for i in range(3,n+1):\n",
    "    d[i] = (d[i-1]+d[i-2]*2)%796796\n",
    "        \n",
    "print(d[n])"
   ]
  },
  {
   "cell_type": "markdown",
   "id": "363ac1ae",
   "metadata": {},
   "source": [
    "## Money"
   ]
  },
  {
   "cell_type": "code",
   "execution_count": 73,
   "id": "c849d05f",
   "metadata": {},
   "outputs": [
    {
     "name": "stdout",
     "output_type": "stream",
     "text": [
      "2 15\n",
      "2\n",
      "3\n"
     ]
    }
   ],
   "source": [
    "n , m = map(int,input().split())\n",
    "arr = []\n",
    "for _ in range(n):\n",
    "    arr.append(int(input()))"
   ]
  },
  {
   "cell_type": "code",
   "execution_count": null,
   "id": "c09053b2",
   "metadata": {},
   "outputs": [],
   "source": []
  },
  {
   "cell_type": "code",
   "execution_count": null,
   "id": "0bfecc9f",
   "metadata": {},
   "outputs": [],
   "source": []
  },
  {
   "cell_type": "code",
   "execution_count": null,
   "id": "5ecf7e2c",
   "metadata": {},
   "outputs": [],
   "source": []
  },
  {
   "cell_type": "code",
   "execution_count": null,
   "id": "374196ce",
   "metadata": {},
   "outputs": [],
   "source": []
  },
  {
   "cell_type": "code",
   "execution_count": null,
   "id": "187a34d2",
   "metadata": {},
   "outputs": [],
   "source": []
  },
  {
   "cell_type": "code",
   "execution_count": null,
   "id": "f4fadf6c",
   "metadata": {},
   "outputs": [],
   "source": []
  },
  {
   "cell_type": "code",
   "execution_count": null,
   "id": "e5d496ca",
   "metadata": {},
   "outputs": [],
   "source": []
  },
  {
   "cell_type": "code",
   "execution_count": null,
   "id": "585dbb64",
   "metadata": {},
   "outputs": [],
   "source": []
  },
  {
   "cell_type": "code",
   "execution_count": null,
   "id": "3d595fc7",
   "metadata": {},
   "outputs": [],
   "source": []
  },
  {
   "cell_type": "code",
   "execution_count": null,
   "id": "b880d9b4",
   "metadata": {},
   "outputs": [],
   "source": []
  },
  {
   "cell_type": "code",
   "execution_count": null,
   "id": "e21e130e",
   "metadata": {},
   "outputs": [],
   "source": []
  },
  {
   "cell_type": "code",
   "execution_count": null,
   "id": "e4be0898",
   "metadata": {},
   "outputs": [],
   "source": []
  },
  {
   "cell_type": "code",
   "execution_count": null,
   "id": "5a71e700",
   "metadata": {},
   "outputs": [],
   "source": []
  }
 ],
 "metadata": {
  "kernelspec": {
   "display_name": "Python 3",
   "language": "python",
   "name": "python3"
  },
  "language_info": {
   "codemirror_mode": {
    "name": "ipython",
    "version": 3
   },
   "file_extension": ".py",
   "mimetype": "text/x-python",
   "name": "python",
   "nbconvert_exporter": "python",
   "pygments_lexer": "ipython3",
   "version": "3.8.8"
  }
 },
 "nbformat": 4,
 "nbformat_minor": 5
}
