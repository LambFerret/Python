{
 "cells": [
  {
   "cell_type": "markdown",
   "id": "dd611086",
   "metadata": {},
   "source": [
    "# 최단 경로 "
   ]
  },
  {
   "cell_type": "markdown",
   "id": "18984306",
   "metadata": {},
   "source": [
    "### 간단한 방법"
   ]
  },
  {
   "cell_type": "code",
   "execution_count": 4,
   "id": "f5b5e50a",
   "metadata": {},
   "outputs": [],
   "source": [
    "import sys\n",
    "INF = int(1e9)"
   ]
  },
  {
   "cell_type": "code",
   "execution_count": 7,
   "id": "3cd6443b",
   "metadata": {},
   "outputs": [
    {
     "name": "stdout",
     "output_type": "stream",
     "text": [
      "6 11\n",
      "1\n",
      "1 2 2\n",
      "1 3 5\n",
      "1 4 1\n",
      "2 3 3\n",
      "2 4 2\n",
      "3 2 3\n",
      "3 6 5\n",
      "4 3 3\n",
      "4 5 1\n",
      "5 3 1\n",
      "5 6 2\n"
     ]
    }
   ],
   "source": [
    "n, m = map(int, input().split())\n",
    "start = int(input())\n",
    "graph = [[] for i in range(n+1)]\n",
    "visited = [False]*(n+1)\n",
    "distance=[INF]*(n+1)\n",
    "    \n",
    "#a번 노드에서 b번 노드로 비용이 c만큼\n",
    "for _ in range(m):\n",
    "    a, b, c = map(int, input().split())\n",
    "    graph[a].append((b, c))\n"
   ]
  },
  {
   "cell_type": "code",
   "execution_count": 11,
   "id": "f7ba2714",
   "metadata": {},
   "outputs": [],
   "source": [
    "n, m = 6, 11\n",
    "start = 1\n",
    "graph = [[],\n",
    " [(2, 2), (3, 5), (4, 1)],\n",
    " [(3, 3), (4, 2)],\n",
    " [(2, 3), (6, 5)],\n",
    " [(3, 3), (5, 1)],\n",
    " [(3, 1), (6, 2)],\n",
    " []]"
   ]
  },
  {
   "cell_type": "code",
   "execution_count": 12,
   "id": "069fcd52",
   "metadata": {},
   "outputs": [],
   "source": [
    "def shortest_way():\n",
    "    min_value = INF\n",
    "    index = 0\n",
    "    for i in range(1, n+1):\n",
    "        if distance[i] < min_value and not visited[i]:\n",
    "            min_value = distance[i]\n",
    "            index = i\n",
    "    return index"
   ]
  },
  {
   "cell_type": "code",
   "execution_count": 13,
   "id": "2e946e1f",
   "metadata": {},
   "outputs": [],
   "source": [
    "def dijkstra(start):\n",
    "    distance[start] = 0\n",
    "    visited[start] = True\n",
    "    for j in graph[start]:\n",
    "        distance[j[0]] = j[1]\n",
    "    for i in range(n-1):\n",
    "        now = shortest_way()\n",
    "        visited[now]=True\n",
    "        for j in graph[now]:\n",
    "            cost = distance[now] + j[1]\n",
    "            if cost < distance[j[0]]:\n",
    "                distance[j[0]] = cost\n",
    "                "
   ]
  },
  {
   "cell_type": "code",
   "execution_count": 14,
   "id": "d98ce222",
   "metadata": {},
   "outputs": [],
   "source": [
    "dijkstra(start)"
   ]
  },
  {
   "cell_type": "code",
   "execution_count": 15,
   "id": "a588d9c0",
   "metadata": {},
   "outputs": [
    {
     "data": {
      "text/plain": [
       "[1000000000, 0, 2, 3, 1, 2, 4]"
      ]
     },
     "execution_count": 15,
     "metadata": {},
     "output_type": "execute_result"
    }
   ],
   "source": [
    "distance"
   ]
  },
  {
   "cell_type": "markdown",
   "id": "6323b5f9",
   "metadata": {},
   "source": [
    "### 개선된 다익스트라 : 어렵지만 빠른방법"
   ]
  },
  {
   "cell_type": "code",
   "execution_count": 16,
   "id": "8f964886",
   "metadata": {},
   "outputs": [
    {
     "name": "stdout",
     "output_type": "stream",
     "text": [
      "3\n"
     ]
    },
    {
     "ename": "ValueError",
     "evalue": "not enough values to unpack (expected 2, got 1)",
     "output_type": "error",
     "traceback": [
      "\u001b[1;31m---------------------------------------------------------------------------\u001b[0m",
      "\u001b[1;31mValueError\u001b[0m                                Traceback (most recent call last)",
      "\u001b[1;32m<ipython-input-16-5633b6ed17d1>\u001b[0m in \u001b[0;36m<module>\u001b[1;34m\u001b[0m\n\u001b[0;32m      4\u001b[0m \u001b[0mINF\u001b[0m \u001b[1;33m=\u001b[0m \u001b[0mint\u001b[0m\u001b[1;33m(\u001b[0m\u001b[1;36m1e9\u001b[0m\u001b[1;33m)\u001b[0m\u001b[1;33m\u001b[0m\u001b[1;33m\u001b[0m\u001b[0m\n\u001b[0;32m      5\u001b[0m \u001b[1;33m\u001b[0m\u001b[0m\n\u001b[1;32m----> 6\u001b[1;33m \u001b[0mn\u001b[0m\u001b[1;33m,\u001b[0m \u001b[0mm\u001b[0m \u001b[1;33m=\u001b[0m \u001b[0mmap\u001b[0m\u001b[1;33m(\u001b[0m\u001b[0mint\u001b[0m\u001b[1;33m,\u001b[0m \u001b[0minput\u001b[0m\u001b[1;33m(\u001b[0m\u001b[1;33m)\u001b[0m\u001b[1;33m.\u001b[0m\u001b[0msplit\u001b[0m\u001b[1;33m(\u001b[0m\u001b[1;33m)\u001b[0m\u001b[1;33m)\u001b[0m\u001b[1;33m\u001b[0m\u001b[1;33m\u001b[0m\u001b[0m\n\u001b[0m\u001b[0;32m      7\u001b[0m \u001b[0mstart\u001b[0m \u001b[1;33m=\u001b[0m \u001b[0mint\u001b[0m\u001b[1;33m(\u001b[0m\u001b[0minput\u001b[0m\u001b[1;33m(\u001b[0m\u001b[1;33m)\u001b[0m\u001b[1;33m)\u001b[0m\u001b[1;33m\u001b[0m\u001b[1;33m\u001b[0m\u001b[0m\n\u001b[0;32m      8\u001b[0m \u001b[0mgraph\u001b[0m \u001b[1;33m=\u001b[0m \u001b[1;33m[\u001b[0m\u001b[1;33m[\u001b[0m\u001b[1;33m]\u001b[0m \u001b[1;32mfor\u001b[0m \u001b[0mi\u001b[0m \u001b[1;32min\u001b[0m \u001b[0mrange\u001b[0m\u001b[1;33m(\u001b[0m\u001b[0mn\u001b[0m\u001b[1;33m+\u001b[0m\u001b[1;36m1\u001b[0m\u001b[1;33m)\u001b[0m\u001b[1;33m]\u001b[0m\u001b[1;33m\u001b[0m\u001b[1;33m\u001b[0m\u001b[0m\n",
      "\u001b[1;31mValueError\u001b[0m: not enough values to unpack (expected 2, got 1)"
     ]
    }
   ],
   "source": [
    "import heapq\n",
    "#import sys\n",
    "#input = sys.stdin.readline\n",
    "INF = int(1e9)\n",
    "\n",
    "n, m = map(int, input().split())\n",
    "start = int(input())\n",
    "graph = [[] for i in range(n+1)]\n",
    "distance=[INF]*(n+1)\n",
    "    \n",
    "#a번 노드에서 b번 노드로 비용이 c만큼\n",
    "for _ in range(m):\n",
    "    a, b, c = map(int, input().split())\n",
    "    graph[a].append((b, c))"
   ]
  },
  {
   "cell_type": "code",
   "execution_count": 63,
   "id": "d20616b7",
   "metadata": {},
   "outputs": [],
   "source": [
    "n, m = 6, 11\n",
    "start = 1\n",
    "graph = [[],\n",
    " [(2, 2), (3, 5), (4, 1)],\n",
    " [(3, 3), (4, 2)],\n",
    " [(2, 3), (6, 5)],\n",
    " [(3, 3), (5, 1)],\n",
    " [(3, 1), (6, 2)],\n",
    " []]\n",
    "distance=[INF]*(n+1)"
   ]
  },
  {
   "cell_type": "code",
   "execution_count": 64,
   "id": "65ce1fd5",
   "metadata": {},
   "outputs": [],
   "source": [
    "def improved_dijk(start):\n",
    "    q = []\n",
    "    heapq.heappush(q, (0, start))\n",
    "    distance[start] = 0\n",
    "    while q:\n",
    "        print(q, \"큐 내용물\")\n",
    "        dist, now = heapq.heappop(q)\n",
    "        print(dist, now, \"각각 거리, 지금위치\")\n",
    "        if distance[now]<dist:\n",
    "            continue\n",
    "        for i in graph[now]:\n",
    "            cost = dist +i[1]\n",
    "            if cost < distance[i[0]]:\n",
    "                distance[i[0]] = cost\n",
    "                heapq.heappush(q, (cost, i[0]))"
   ]
  },
  {
   "cell_type": "code",
   "execution_count": 65,
   "id": "4ac23608",
   "metadata": {},
   "outputs": [
    {
     "name": "stdout",
     "output_type": "stream",
     "text": [
      "[(0, 1)] 큐 내용물\n",
      "0 1 각각 거리, 지금위치\n",
      "[(1, 4), (5, 3), (2, 2)] 큐 내용물\n",
      "1 4 각각 거리, 지금위치\n",
      "[(2, 2), (2, 5), (4, 3), (5, 3)] 큐 내용물\n",
      "2 2 각각 거리, 지금위치\n",
      "[(2, 5), (5, 3), (4, 3)] 큐 내용물\n",
      "2 5 각각 거리, 지금위치\n",
      "[(3, 3), (4, 6), (4, 3), (5, 3)] 큐 내용물\n",
      "3 3 각각 거리, 지금위치\n",
      "[(4, 3), (4, 6), (5, 3)] 큐 내용물\n",
      "4 3 각각 거리, 지금위치\n",
      "[(4, 6), (5, 3)] 큐 내용물\n",
      "4 6 각각 거리, 지금위치\n",
      "[(5, 3)] 큐 내용물\n",
      "5 3 각각 거리, 지금위치\n"
     ]
    }
   ],
   "source": [
    "improved_dijk(start)"
   ]
  },
  {
   "cell_type": "code",
   "execution_count": 37,
   "id": "205482b9",
   "metadata": {},
   "outputs": [
    {
     "data": {
      "text/plain": [
       "[1000000000, 0, 2, 5, 1, 2, 4]"
      ]
     },
     "execution_count": 37,
     "metadata": {},
     "output_type": "execute_result"
    }
   ],
   "source": [
    "distance"
   ]
  },
  {
   "cell_type": "markdown",
   "id": "c75d0bb1",
   "metadata": {},
   "source": [
    "### 플로이드 워셜 알고리즘\n",
    "- 모든지점에서 모든지점으로의 최소값 구하는 방법\n",
    "- 2차원 리스트를 사용\n",
    "- O(N^2)"
   ]
  },
  {
   "cell_type": "code",
   "execution_count": 66,
   "id": "283de855",
   "metadata": {},
   "outputs": [
    {
     "name": "stdout",
     "output_type": "stream",
     "text": [
      "4 7\n"
     ]
    }
   ],
   "source": [
    "INF = int(1e9)\n",
    "n, m = map(int, input().split())\n",
    "graph = [[INF]*(n+1) for _ in range(n+1)]"
   ]
  },
  {
   "cell_type": "code",
   "execution_count": 68,
   "id": "2d16f1fb",
   "metadata": {},
   "outputs": [],
   "source": [
    "for a in range(1, n+1):\n",
    "    for b in range(1,n+1):\n",
    "        if a==b:\n",
    "            graph[a][b] = 0\n"
   ]
  },
  {
   "cell_type": "code",
   "execution_count": 69,
   "id": "73dc7e0c",
   "metadata": {},
   "outputs": [
    {
     "name": "stdout",
     "output_type": "stream",
     "text": [
      "1 2 4\n",
      "1 4 6\n",
      "2 1 3\n",
      "2 3 7\n",
      "3 1 5\n",
      "3 4 4\n",
      "4 3 2\n"
     ]
    }
   ],
   "source": [
    "for _ in range(m):\n",
    "    a,b,c = map(int, input().split())\n",
    "    graph[a][b] = c"
   ]
  },
  {
   "cell_type": "code",
   "execution_count": 72,
   "id": "a8928599",
   "metadata": {},
   "outputs": [],
   "source": [
    "\n",
    "n, m = 4, 7\n",
    "graph = [[1000000000, 1000000000, 1000000000, 1000000000, 1000000000],\n",
    " [1000000000, 0, 4, 1000000000, 6],\n",
    " [1000000000, 3, 0, 7, 1000000000],\n",
    " [1000000000, 5, 1000000000, 0, 4],\n",
    " [1000000000, 1000000000, 1000000000, 2, 0]]"
   ]
  },
  {
   "cell_type": "code",
   "execution_count": 75,
   "id": "dabff021",
   "metadata": {},
   "outputs": [],
   "source": [
    "# 핵심 알고리즘\n",
    "\n",
    "for k in range(1,n+1):\n",
    "    for a in range(1,n+1):\n",
    "        for b in range(1,n+1):\n",
    "            graph[a][b] = min(graph[a][b], graph[a][k] + graph[k][b])"
   ]
  },
  {
   "cell_type": "code",
   "execution_count": 76,
   "id": "0a4e0063",
   "metadata": {},
   "outputs": [
    {
     "data": {
      "text/plain": [
       "[[1000000000, 1000000000, 1000000000, 1000000000, 1000000000],\n",
       " [1000000000, 0, 4, 8, 6],\n",
       " [1000000000, 3, 0, 7, 9],\n",
       " [1000000000, 5, 9, 0, 4],\n",
       " [1000000000, 7, 11, 2, 0]]"
      ]
     },
     "execution_count": 76,
     "metadata": {},
     "output_type": "execute_result"
    }
   ],
   "source": [
    "graph"
   ]
  },
  {
   "cell_type": "markdown",
   "id": "b3801961",
   "metadata": {},
   "source": [
    "## Future City!"
   ]
  },
  {
   "cell_type": "code",
   "execution_count": 111,
   "id": "afe76962",
   "metadata": {},
   "outputs": [
    {
     "name": "stdout",
     "output_type": "stream",
     "text": [
      "4 2\n",
      "1 3\n",
      "2 4\n",
      "3 4\n"
     ]
    }
   ],
   "source": [
    "INF = int(1e9)\n",
    "\n",
    "n ,m = map(int, input().split())\n",
    "graph = [[INF]*(n+1) for _ in range(n+1)]\n",
    "for a in range(1, n+1):\n",
    "    for b in range(1, n+1):\n",
    "        if a ==b:\n",
    "            graph[a][b] = 0\n",
    "        \n",
    "for _ in range(m):\n",
    "    a,b = map(int, input().split())\n",
    "    graph[a][b]=1\n",
    "    graph[b][a]=1\n",
    "    \n",
    "x, k = map(int, input().split())"
   ]
  },
  {
   "cell_type": "code",
   "execution_count": 100,
   "id": "cf1b4d39",
   "metadata": {},
   "outputs": [],
   "source": [
    "n,m,x,k = 5, 7, 4, 5"
   ]
  },
  {
   "cell_type": "code",
   "execution_count": 101,
   "id": "8679ab62",
   "metadata": {},
   "outputs": [],
   "source": [
    "graph = [[1000000000, 1000000000, 1000000000, 1000000000, 1000000000, 1000000000],\n",
    " [1000000000, 0, 1, 1, 1, 0],\n",
    " [1000000000, 1, 0, 0, 1, 0],\n",
    " [1000000000, 1, 0, 0, 1, 1],\n",
    " [1000000000, 1, 1, 1, 0, 1],\n",
    " [1000000000, 0, 0, 1, 1, 0]]"
   ]
  },
  {
   "cell_type": "code",
   "execution_count": 112,
   "id": "9742c483",
   "metadata": {
    "scrolled": true
   },
   "outputs": [],
   "source": [
    "for i in range(1, n+1):\n",
    "    for j in range(1, n+1):\n",
    "        for q in range(1, n+1):\n",
    "            graph[a][b] = min(graph[a][b], graph[a][k]+graph[k][b])\n"
   ]
  },
  {
   "cell_type": "code",
   "execution_count": 113,
   "id": "15d6abed",
   "metadata": {},
   "outputs": [
    {
     "data": {
      "text/plain": [
       "[[1000000000, 1000000000, 1000000000, 1000000000, 1000000000],\n",
       " [1000000000, 0, 1000000000, 1, 1000000000],\n",
       " [1000000000, 1000000000, 0, 1000000000, 1],\n",
       " [1000000000, 1, 1000000000, 0, 1000000000],\n",
       " [1000000000, 1000000000, 1, 1000000000, 0]]"
      ]
     },
     "execution_count": 113,
     "metadata": {},
     "output_type": "execute_result"
    }
   ],
   "source": [
    "graph"
   ]
  },
  {
   "cell_type": "code",
   "execution_count": 114,
   "id": "6783dbcd",
   "metadata": {},
   "outputs": [],
   "source": [
    "distance = graph[1][k] + graph[k][x]"
   ]
  },
  {
   "cell_type": "code",
   "execution_count": 115,
   "id": "a0513c39",
   "metadata": {},
   "outputs": [
    {
     "data": {
      "text/plain": [
       "2000000000"
      ]
     },
     "execution_count": 115,
     "metadata": {},
     "output_type": "execute_result"
    }
   ],
   "source": [
    "distance"
   ]
  },
  {
   "cell_type": "markdown",
   "id": "327d1653",
   "metadata": {},
   "source": [
    "## Mail"
   ]
  },
  {
   "cell_type": "code",
   "execution_count": 116,
   "id": "3bc3fccb",
   "metadata": {},
   "outputs": [
    {
     "name": "stdout",
     "output_type": "stream",
     "text": [
      "3 2 1\n",
      "1 2 4\n",
      "1 3 2\n"
     ]
    }
   ],
   "source": [
    "import heapq\n",
    "n, m, c = map(int, input().split())\n",
    "graph = [[] for i in range(n+1)]\n",
    "distance = [INF]* (n+1)\n",
    "for _ in range(m):\n",
    "    x,y,z = map(int, input().split())  \n",
    "    graph[x].append((y,z))\n",
    "    "
   ]
  },
  {
   "cell_type": "code",
   "execution_count": 120,
   "id": "c6d3fb87",
   "metadata": {},
   "outputs": [],
   "source": [
    "n,m,c = (3, 2, 1)\n",
    "graph = [[], [(2, 4), (3, 2)], [], []]\n",
    "distance = [INF]* (n+1)"
   ]
  },
  {
   "cell_type": "code",
   "execution_count": 121,
   "id": "aa91025f",
   "metadata": {},
   "outputs": [],
   "source": [
    "def dijk(start):\n",
    "    q= []\n",
    "    heapq.heappush(q, (0, start))\n",
    "    distance[start] = 0\n",
    "    while q:\n",
    "        dist, now = heapq.heappop(q)\n",
    "        if distance[now]<dist:\n",
    "            continue\n",
    "        for i in graph[now]:\n",
    "            cost = dist +i[1]\n",
    "            if cost< distance[i[0]]:\n",
    "                distance[i[0]] = cost\n",
    "                heapq.heappush(q, (cost, i[0]))\n",
    "    "
   ]
  },
  {
   "cell_type": "code",
   "execution_count": null,
   "id": "19762802",
   "metadata": {},
   "outputs": [],
   "source": [
    "def improved_dijk(start):\n",
    "    q = []\n",
    "    heapq.heappush(q, (0, start))\n",
    "    distance[start] = 0\n",
    "    while q:\n",
    "        print(q, \"큐 내용물\")\n",
    "        dist, now = heapq.heappop(q)\n",
    "        print(dist, now, \"각각 거리, 지금위치\")\n",
    "        if distance[now]<dist:\n",
    "            continue\n",
    "        for i in graph[now]:\n",
    "            cost = dist +i[1]\n",
    "            if cost < distance[i[0]]:\n",
    "                distance[i[0]] = cost\n",
    "                heapq.heappush(q, (cost, i[0]))"
   ]
  },
  {
   "cell_type": "code",
   "execution_count": 122,
   "id": "07ea2e3a",
   "metadata": {},
   "outputs": [],
   "source": [
    "dijk(start)"
   ]
  },
  {
   "cell_type": "code",
   "execution_count": 124,
   "id": "a9fb0482",
   "metadata": {},
   "outputs": [
    {
     "data": {
      "text/plain": [
       "[1000000000, 0, 4, 2]"
      ]
     },
     "execution_count": 124,
     "metadata": {},
     "output_type": "execute_result"
    }
   ],
   "source": [
    "distance"
   ]
  },
  {
   "cell_type": "code",
   "execution_count": null,
   "id": "a406b85e",
   "metadata": {},
   "outputs": [],
   "source": []
  }
 ],
 "metadata": {
  "kernelspec": {
   "display_name": "Python 3",
   "language": "python",
   "name": "python3"
  },
  "language_info": {
   "codemirror_mode": {
    "name": "ipython",
    "version": 3
   },
   "file_extension": ".py",
   "mimetype": "text/x-python",
   "name": "python",
   "nbconvert_exporter": "python",
   "pygments_lexer": "ipython3",
   "version": "3.8.8"
  }
 },
 "nbformat": 4,
 "nbformat_minor": 5
}
