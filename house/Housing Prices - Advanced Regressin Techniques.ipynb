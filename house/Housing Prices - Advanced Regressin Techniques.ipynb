{
 "cells": [
  {
   "cell_type": "markdown",
   "id": "6b2535a7",
   "metadata": {},
   "source": [
    "# 기본적 데이터 전처리"
   ]
  },
  {
   "cell_type": "code",
   "execution_count": 88,
   "id": "b3b9f802",
   "metadata": {},
   "outputs": [
    {
     "name": "stderr",
     "output_type": "stream",
     "text": [
      "C:\\ProgramData\\Anaconda3\\lib\\site-packages\\pandas\\core\\indexing.py:1637: SettingWithCopyWarning: \n",
      "A value is trying to be set on a copy of a slice from a DataFrame\n",
      "\n",
      "See the caveats in the documentation: https://pandas.pydata.org/pandas-docs/stable/user_guide/indexing.html#returning-a-view-versus-a-copy\n",
      "  self._setitem_single_block(indexer, value, name)\n"
     ]
    }
   ],
   "source": [
    "'''\n",
    "import numpy as np\n",
    "import pandas as pd \n",
    "import matplotlib.pyplot as plt\n",
    "\n",
    "test = pd.read_csv(\"house/test.csv\")\n",
    "train = pd.read_csv(\"house/train.csv\")\n",
    "test['TrainSplit'] = 'test'\n",
    "train['TrainSplit'] = 'train'\n",
    "\n",
    "total = train.append(test)\n",
    "\n",
    "for a in ['MSZoning','Utilities','Electrical','Functional','SaleType']:\n",
    "    total[a].fillna(total[a].value_counts().idxmax(), inplace=True)\n",
    "    \n",
    "    \n",
    "for a in total.select_dtypes('object').columns:\n",
    "    if 'Bsmt'  in a:\n",
    "        total[a].fillna('empty',inplace = True)\n",
    "for a in total.columns:\n",
    "    if 'Bsmt' in a:\n",
    "        total[a].fillna(0.0,inplace = True)   \n",
    "        \n",
    "for a in total.select_dtypes('object').columns:\n",
    "    if 'Garage' in a:\n",
    "        total[a].fillna('empty',inplace = True)\n",
    "        \n",
    "\n",
    "        \n",
    "filter_bsmtcolumns = [col for col in total.columns  if 'Bsmt' in col]\n",
    "basement = total.loc[:, filter_bsmtcolumns].copy()\n",
    "garage = total.loc[:,'GarageType':'GarageCond'].copy()\n",
    "\n",
    "total.dropna(subset=['GarageArea'], inplace=True)\n",
    "total.dropna(subset=['Exterior1st'], inplace=True)\n",
    "total['FireplaceQu'].loc[total['Fireplaces']==0] = 'empty'\n",
    "\n",
    "total.set_index('Id', inplace=True)\n",
    "\n",
    "Mapping_values = {\n",
    "    'Ex' :5,\n",
    "    'Gd' :4,\n",
    "    'TA' :3,\n",
    "    'Fa' :2,\n",
    "    'Po' :1,    \n",
    "    'empty' :0,\n",
    "    'GdPrv': 4,\n",
    "       'MnPrv': 3,\n",
    "       'GdWo': 2,\n",
    "       'MnWw': 1,\n",
    "       'NA': 0,\n",
    "    'Fin':3,\n",
    "       'RFn':2 ,\n",
    "       'Unf':1,\n",
    "    'Y':1,\n",
    "    'N':0,\n",
    "    'GLQ':6,\n",
    "       'ALQ':5,\n",
    "       'BLQ':4,\n",
    "       'Rec':3,\n",
    "       'LwQ':2,\n",
    "       'Unf':1,\n",
    "       'NA':0,\n",
    "    'Av':3,\n",
    "       'Mn':2,\n",
    "       'No':1,\n",
    "       'NA':0,\n",
    "}\n",
    "total.replace(Mapping_values,inplace=True)\n",
    "total['PoolQC'].fillna(0, inplace= True)\n",
    "total['Fence'].fillna(0, inplace= True)\n",
    "\n",
    "lotmean = np.around(total['LotFrontage'].mean())\n",
    "total['LotFrontage'].fillna(lotmean, inplace=True)\n",
    "\n",
    "total['MasVnrType'].fillna('None', inplace=True)\n",
    "total['MasVnrArea'].fillna(0.0, inplace=True)\n",
    "\n",
    "total.drop(['GarageYrBlt'], axis=1, inplace=True)\n",
    "'''\n",
    "# 데이터 전처리의 전처리 끝 : 제출 전 답지 \n",
    "\n",
    "import numpy as np\n",
    "import pandas as pd \n",
    "import matplotlib.pyplot as plt\n",
    "\n",
    "test = pd.read_csv(\"house/test.csv\")\n",
    "train = pd.read_csv(\"house/train.csv\")\n",
    "test['TrainSplit'] = 'test'\n",
    "train['TrainSplit'] = 'train'\n",
    "\n",
    "total = train.append(test)\n",
    "\n",
    "total.set_index('Id', inplace=True)\n",
    "\n",
    "for a in ['MSZoning','Utilities','Electrical','Functional','SaleType']:\n",
    "    total[a].fillna(total[a].value_counts().idxmax(), inplace=True)\n",
    "for a in range(1, len(total.index)):\n",
    "    if total.loc[a,'MSSubClass'] == 120 or total.loc[a,'MSSubClass'] == 150 or total.loc[a,'MSSubClass'] == 160 or total.loc[a,'MSSubClass'] == 180:\n",
    "        total.loc[a,'MSSub'] = 1\n",
    "    else:\n",
    "        total.loc[a,'MSSub'] = 0\n",
    "        \n",
    "for a in range(1, len(total.index)):\n",
    "    if total.loc[a,'Fence'] == 'GdPrv':\n",
    "        total.loc[a,'Fence_Prv'] = 2\n",
    "        total.loc[a,'Fence_Wire'] = 0\n",
    "    elif total.loc[a,'Fence'] == 'MnPrv':\n",
    "        total.loc[a,'Fence_Prv'] = 1\n",
    "        total.loc[a,'Fence_Wire'] = 0\n",
    "    elif total.loc[a,'Fence'] == 'GdWo':\n",
    "        total.loc[a,'Fence_Wire'] = 2\n",
    "        total.loc[a,'Fence_Prv'] = 0        \n",
    "    elif total.loc[a,'Fence'] == 'MnWw':\n",
    "        total.loc[a,'Fence_Wire'] = 1\n",
    "        total.loc[a,'Fence_Prv'] = 0        \n",
    "    else:\n",
    "        total.loc[a,'Fence_Wire'] = 0\n",
    "        total.loc[a,'Fence_Wire'] = 0\n",
    "    \n",
    "total['BsmtBath'] = total['BsmtFullBath'] + total['BsmtHalfBath'] /2\n",
    "\n",
    "total['Bath'] = total['FullBath'] + total['HalfBath'] /2\n",
    "\n",
    "total.drop(['BsmtFullBath','FullBath','BsmtHalfBath','BsmtHalfBath','MSSubClass'], axis=1, inplace=True)\n",
    "\n",
    "\n",
    "total['Fence_Prv'].fillna(0, inplace=True)\n",
    "total['Fence_Wire'].fillna(0, inplace=True)\n",
    "    \n",
    "total.drop(['Fence'], axis=1, inplace=True)\n",
    "    \n",
    "for a in total.select_dtypes('object').columns:\n",
    "    if 'Bsmt'  in a:\n",
    "        total[a].fillna('empty',inplace = True)\n",
    "for a in total.columns:\n",
    "    if 'Bsmt' in a:\n",
    "        total[a].fillna(0.0,inplace = True)   \n",
    "        \n",
    "for a in total.select_dtypes('object').columns:\n",
    "    if 'Garage' in a:\n",
    "        total[a].fillna('empty',inplace = True)\n",
    "        \n",
    "\n",
    "        \n",
    "filter_bsmtcolumns = [col for col in total.columns  if 'Bsmt' in col]\n",
    "basement = total.loc[:, filter_bsmtcolumns].copy()\n",
    "garage = total.loc[:,'GarageType':'GarageCond'].copy()\n",
    "total['GarageArea'].fillna(np.around(total['GarageArea'].mean()), inplace=True)\n",
    "total['Exterior1st'].fillna('VinylSd', inplace=True)\n",
    "\n",
    "total['FireplaceQu'].loc[total['Fireplaces']==0] = 'empty'\n",
    "\n",
    "\n",
    "Mapping_values = {\n",
    "    'Ex' :5,\n",
    "    'Gd' :4,\n",
    "    'TA' :3,\n",
    "    'Fa' :2,\n",
    "    'Po' :1,    \n",
    "    'empty' :0,\n",
    "    'Fin':3,\n",
    "       'RFn':2 ,\n",
    "       'Unf':1,\n",
    "    'Y':1,\n",
    "    'N':0,\n",
    "    'GLQ':6,\n",
    "       'ALQ':5,\n",
    "       'BLQ':4,\n",
    "       'Rec':3,\n",
    "       'LwQ':2,\n",
    "       'Unf':1,\n",
    "       'NA':0,\n",
    "    'Av':3,\n",
    "       'Mn':2,\n",
    "       'No':1,\n",
    "       'NA':0,\n",
    "        'AllPub':4,\n",
    "       'NoSewr':3,\n",
    "       'NoSeWa':2,\n",
    "       'ELO':1,\n",
    "       'Reg':3,\n",
    "       'IR1':2,\n",
    "       'IR2':1,\n",
    "       'IR3':0,\n",
    "       'Gtl':0,\n",
    "       'Mod':1,\n",
    "       'Sev':2,\n",
    "}\n",
    "total.replace(Mapping_values,inplace=True)\n",
    "total['PoolQC'].fillna(0, inplace= True)\n",
    "\n",
    "lotmean = np.around(total['LotFrontage'].mean())\n",
    "total['LotFrontage'].fillna(lotmean, inplace=True)\n",
    "\n",
    "total['MasVnrType'].fillna('None', inplace=True)\n",
    "total['MasVnrArea'].fillna(0.0, inplace=True)\n",
    "\n",
    "total.drop(['GarageYrBlt'], axis=1, inplace=True)\n",
    "#정답 포함"
   ]
  },
  {
   "cell_type": "code",
   "execution_count": null,
   "id": "6fd699b4",
   "metadata": {},
   "outputs": [],
   "source": [
    "filtered_cols = [a for a in total.columns if total[a].isnull().sum() != 0]\n",
    "for a in filtered_cols:\n",
    "    print(a)\n",
    "    print(total[a].value_counts())\n",
    "    print(total[a].value_counts().sum())    \n",
    "    print('----------------------------------')"
   ]
  },
  {
   "cell_type": "markdown",
   "id": "fe69adf5",
   "metadata": {},
   "source": [
    "## 데이터 분할"
   ]
  },
  {
   "cell_type": "code",
   "execution_count": 89,
   "id": "ef973394",
   "metadata": {},
   "outputs": [],
   "source": [
    "total.drop(['TrainSplit'],axis=1, inplace=True) #total = train+test+SalePrice\n",
    "df = total.drop(['SalePrice'], axis=1) # 세일가격 없는 전체 세트"
   ]
  },
  {
   "cell_type": "markdown",
   "id": "3da85e01",
   "metadata": {},
   "source": [
    "## 피쳐 스케일링"
   ]
  },
  {
   "cell_type": "markdown",
   "id": "80ffe93f",
   "metadata": {},
   "source": [
    "### one-hot encoding"
   ]
  },
  {
   "cell_type": "code",
   "execution_count": 94,
   "id": "df67428b",
   "metadata": {},
   "outputs": [],
   "source": [
    "df = pd.get_dummies(df, prefix=df.select_dtypes('object').columns)\n"
   ]
  },
  {
   "cell_type": "code",
   "execution_count": 95,
   "id": "214d6e2c",
   "metadata": {},
   "outputs": [
    {
     "data": {
      "text/html": [
       "<div>\n",
       "<style scoped>\n",
       "    .dataframe tbody tr th:only-of-type {\n",
       "        vertical-align: middle;\n",
       "    }\n",
       "\n",
       "    .dataframe tbody tr th {\n",
       "        vertical-align: top;\n",
       "    }\n",
       "\n",
       "    .dataframe thead th {\n",
       "        text-align: right;\n",
       "    }\n",
       "</style>\n",
       "<table border=\"1\" class=\"dataframe\">\n",
       "  <thead>\n",
       "    <tr style=\"text-align: right;\">\n",
       "      <th></th>\n",
       "      <th>LotFrontage</th>\n",
       "      <th>LotArea</th>\n",
       "      <th>LotShape</th>\n",
       "      <th>Utilities</th>\n",
       "      <th>LandSlope</th>\n",
       "      <th>OverallQual</th>\n",
       "      <th>OverallCond</th>\n",
       "      <th>YearBuilt</th>\n",
       "      <th>YearRemodAdd</th>\n",
       "      <th>MasVnrArea</th>\n",
       "      <th>...</th>\n",
       "      <th>SaleType_ConLw</th>\n",
       "      <th>SaleType_New</th>\n",
       "      <th>SaleType_Oth</th>\n",
       "      <th>SaleType_WD</th>\n",
       "      <th>SaleCondition_Abnorml</th>\n",
       "      <th>SaleCondition_AdjLand</th>\n",
       "      <th>SaleCondition_Alloca</th>\n",
       "      <th>SaleCondition_Family</th>\n",
       "      <th>SaleCondition_Normal</th>\n",
       "      <th>SaleCondition_Partial</th>\n",
       "    </tr>\n",
       "    <tr>\n",
       "      <th>Id</th>\n",
       "      <th></th>\n",
       "      <th></th>\n",
       "      <th></th>\n",
       "      <th></th>\n",
       "      <th></th>\n",
       "      <th></th>\n",
       "      <th></th>\n",
       "      <th></th>\n",
       "      <th></th>\n",
       "      <th></th>\n",
       "      <th></th>\n",
       "      <th></th>\n",
       "      <th></th>\n",
       "      <th></th>\n",
       "      <th></th>\n",
       "      <th></th>\n",
       "      <th></th>\n",
       "      <th></th>\n",
       "      <th></th>\n",
       "      <th></th>\n",
       "      <th></th>\n",
       "    </tr>\n",
       "  </thead>\n",
       "  <tbody>\n",
       "    <tr>\n",
       "      <th>1</th>\n",
       "      <td>65.0</td>\n",
       "      <td>8450</td>\n",
       "      <td>3</td>\n",
       "      <td>4</td>\n",
       "      <td>0</td>\n",
       "      <td>7</td>\n",
       "      <td>5</td>\n",
       "      <td>2003</td>\n",
       "      <td>2003</td>\n",
       "      <td>196.0</td>\n",
       "      <td>...</td>\n",
       "      <td>0</td>\n",
       "      <td>0</td>\n",
       "      <td>0</td>\n",
       "      <td>1</td>\n",
       "      <td>0</td>\n",
       "      <td>0</td>\n",
       "      <td>0</td>\n",
       "      <td>0</td>\n",
       "      <td>1</td>\n",
       "      <td>0</td>\n",
       "    </tr>\n",
       "    <tr>\n",
       "      <th>2</th>\n",
       "      <td>80.0</td>\n",
       "      <td>9600</td>\n",
       "      <td>3</td>\n",
       "      <td>4</td>\n",
       "      <td>0</td>\n",
       "      <td>6</td>\n",
       "      <td>8</td>\n",
       "      <td>1976</td>\n",
       "      <td>1976</td>\n",
       "      <td>0.0</td>\n",
       "      <td>...</td>\n",
       "      <td>0</td>\n",
       "      <td>0</td>\n",
       "      <td>0</td>\n",
       "      <td>1</td>\n",
       "      <td>0</td>\n",
       "      <td>0</td>\n",
       "      <td>0</td>\n",
       "      <td>0</td>\n",
       "      <td>1</td>\n",
       "      <td>0</td>\n",
       "    </tr>\n",
       "    <tr>\n",
       "      <th>3</th>\n",
       "      <td>68.0</td>\n",
       "      <td>11250</td>\n",
       "      <td>2</td>\n",
       "      <td>4</td>\n",
       "      <td>0</td>\n",
       "      <td>7</td>\n",
       "      <td>5</td>\n",
       "      <td>2001</td>\n",
       "      <td>2002</td>\n",
       "      <td>162.0</td>\n",
       "      <td>...</td>\n",
       "      <td>0</td>\n",
       "      <td>0</td>\n",
       "      <td>0</td>\n",
       "      <td>1</td>\n",
       "      <td>0</td>\n",
       "      <td>0</td>\n",
       "      <td>0</td>\n",
       "      <td>0</td>\n",
       "      <td>1</td>\n",
       "      <td>0</td>\n",
       "    </tr>\n",
       "    <tr>\n",
       "      <th>4</th>\n",
       "      <td>60.0</td>\n",
       "      <td>9550</td>\n",
       "      <td>2</td>\n",
       "      <td>4</td>\n",
       "      <td>0</td>\n",
       "      <td>7</td>\n",
       "      <td>5</td>\n",
       "      <td>1915</td>\n",
       "      <td>1970</td>\n",
       "      <td>0.0</td>\n",
       "      <td>...</td>\n",
       "      <td>0</td>\n",
       "      <td>0</td>\n",
       "      <td>0</td>\n",
       "      <td>1</td>\n",
       "      <td>1</td>\n",
       "      <td>0</td>\n",
       "      <td>0</td>\n",
       "      <td>0</td>\n",
       "      <td>0</td>\n",
       "      <td>0</td>\n",
       "    </tr>\n",
       "    <tr>\n",
       "      <th>5</th>\n",
       "      <td>84.0</td>\n",
       "      <td>14260</td>\n",
       "      <td>2</td>\n",
       "      <td>4</td>\n",
       "      <td>0</td>\n",
       "      <td>8</td>\n",
       "      <td>5</td>\n",
       "      <td>2000</td>\n",
       "      <td>2000</td>\n",
       "      <td>350.0</td>\n",
       "      <td>...</td>\n",
       "      <td>0</td>\n",
       "      <td>0</td>\n",
       "      <td>0</td>\n",
       "      <td>1</td>\n",
       "      <td>0</td>\n",
       "      <td>0</td>\n",
       "      <td>0</td>\n",
       "      <td>0</td>\n",
       "      <td>1</td>\n",
       "      <td>0</td>\n",
       "    </tr>\n",
       "    <tr>\n",
       "      <th>...</th>\n",
       "      <td>...</td>\n",
       "      <td>...</td>\n",
       "      <td>...</td>\n",
       "      <td>...</td>\n",
       "      <td>...</td>\n",
       "      <td>...</td>\n",
       "      <td>...</td>\n",
       "      <td>...</td>\n",
       "      <td>...</td>\n",
       "      <td>...</td>\n",
       "      <td>...</td>\n",
       "      <td>...</td>\n",
       "      <td>...</td>\n",
       "      <td>...</td>\n",
       "      <td>...</td>\n",
       "      <td>...</td>\n",
       "      <td>...</td>\n",
       "      <td>...</td>\n",
       "      <td>...</td>\n",
       "      <td>...</td>\n",
       "      <td>...</td>\n",
       "    </tr>\n",
       "    <tr>\n",
       "      <th>2915</th>\n",
       "      <td>21.0</td>\n",
       "      <td>1936</td>\n",
       "      <td>3</td>\n",
       "      <td>4</td>\n",
       "      <td>0</td>\n",
       "      <td>4</td>\n",
       "      <td>7</td>\n",
       "      <td>1970</td>\n",
       "      <td>1970</td>\n",
       "      <td>0.0</td>\n",
       "      <td>...</td>\n",
       "      <td>0</td>\n",
       "      <td>0</td>\n",
       "      <td>0</td>\n",
       "      <td>1</td>\n",
       "      <td>0</td>\n",
       "      <td>0</td>\n",
       "      <td>0</td>\n",
       "      <td>0</td>\n",
       "      <td>1</td>\n",
       "      <td>0</td>\n",
       "    </tr>\n",
       "    <tr>\n",
       "      <th>2916</th>\n",
       "      <td>21.0</td>\n",
       "      <td>1894</td>\n",
       "      <td>3</td>\n",
       "      <td>4</td>\n",
       "      <td>0</td>\n",
       "      <td>4</td>\n",
       "      <td>5</td>\n",
       "      <td>1970</td>\n",
       "      <td>1970</td>\n",
       "      <td>0.0</td>\n",
       "      <td>...</td>\n",
       "      <td>0</td>\n",
       "      <td>0</td>\n",
       "      <td>0</td>\n",
       "      <td>1</td>\n",
       "      <td>1</td>\n",
       "      <td>0</td>\n",
       "      <td>0</td>\n",
       "      <td>0</td>\n",
       "      <td>0</td>\n",
       "      <td>0</td>\n",
       "    </tr>\n",
       "    <tr>\n",
       "      <th>2917</th>\n",
       "      <td>160.0</td>\n",
       "      <td>20000</td>\n",
       "      <td>3</td>\n",
       "      <td>4</td>\n",
       "      <td>0</td>\n",
       "      <td>5</td>\n",
       "      <td>7</td>\n",
       "      <td>1960</td>\n",
       "      <td>1996</td>\n",
       "      <td>0.0</td>\n",
       "      <td>...</td>\n",
       "      <td>0</td>\n",
       "      <td>0</td>\n",
       "      <td>0</td>\n",
       "      <td>1</td>\n",
       "      <td>1</td>\n",
       "      <td>0</td>\n",
       "      <td>0</td>\n",
       "      <td>0</td>\n",
       "      <td>0</td>\n",
       "      <td>0</td>\n",
       "    </tr>\n",
       "    <tr>\n",
       "      <th>2918</th>\n",
       "      <td>62.0</td>\n",
       "      <td>10441</td>\n",
       "      <td>3</td>\n",
       "      <td>4</td>\n",
       "      <td>0</td>\n",
       "      <td>5</td>\n",
       "      <td>5</td>\n",
       "      <td>1992</td>\n",
       "      <td>1992</td>\n",
       "      <td>0.0</td>\n",
       "      <td>...</td>\n",
       "      <td>0</td>\n",
       "      <td>0</td>\n",
       "      <td>0</td>\n",
       "      <td>1</td>\n",
       "      <td>0</td>\n",
       "      <td>0</td>\n",
       "      <td>0</td>\n",
       "      <td>0</td>\n",
       "      <td>1</td>\n",
       "      <td>0</td>\n",
       "    </tr>\n",
       "    <tr>\n",
       "      <th>2919</th>\n",
       "      <td>74.0</td>\n",
       "      <td>9627</td>\n",
       "      <td>3</td>\n",
       "      <td>4</td>\n",
       "      <td>1</td>\n",
       "      <td>7</td>\n",
       "      <td>5</td>\n",
       "      <td>1993</td>\n",
       "      <td>1994</td>\n",
       "      <td>94.0</td>\n",
       "      <td>...</td>\n",
       "      <td>0</td>\n",
       "      <td>0</td>\n",
       "      <td>0</td>\n",
       "      <td>1</td>\n",
       "      <td>0</td>\n",
       "      <td>0</td>\n",
       "      <td>0</td>\n",
       "      <td>0</td>\n",
       "      <td>1</td>\n",
       "      <td>0</td>\n",
       "    </tr>\n",
       "  </tbody>\n",
       "</table>\n",
       "<p>2919 rows × 229 columns</p>\n",
       "</div>"
      ],
      "text/plain": [
       "      LotFrontage  LotArea  LotShape  Utilities  LandSlope  OverallQual  \\\n",
       "Id                                                                        \n",
       "1            65.0     8450         3          4          0            7   \n",
       "2            80.0     9600         3          4          0            6   \n",
       "3            68.0    11250         2          4          0            7   \n",
       "4            60.0     9550         2          4          0            7   \n",
       "5            84.0    14260         2          4          0            8   \n",
       "...           ...      ...       ...        ...        ...          ...   \n",
       "2915         21.0     1936         3          4          0            4   \n",
       "2916         21.0     1894         3          4          0            4   \n",
       "2917        160.0    20000         3          4          0            5   \n",
       "2918         62.0    10441         3          4          0            5   \n",
       "2919         74.0     9627         3          4          1            7   \n",
       "\n",
       "      OverallCond  YearBuilt  YearRemodAdd  MasVnrArea  ...  SaleType_ConLw  \\\n",
       "Id                                                      ...                   \n",
       "1               5       2003          2003       196.0  ...               0   \n",
       "2               8       1976          1976         0.0  ...               0   \n",
       "3               5       2001          2002       162.0  ...               0   \n",
       "4               5       1915          1970         0.0  ...               0   \n",
       "5               5       2000          2000       350.0  ...               0   \n",
       "...           ...        ...           ...         ...  ...             ...   \n",
       "2915            7       1970          1970         0.0  ...               0   \n",
       "2916            5       1970          1970         0.0  ...               0   \n",
       "2917            7       1960          1996         0.0  ...               0   \n",
       "2918            5       1992          1992         0.0  ...               0   \n",
       "2919            5       1993          1994        94.0  ...               0   \n",
       "\n",
       "      SaleType_New  SaleType_Oth  SaleType_WD  SaleCondition_Abnorml  \\\n",
       "Id                                                                     \n",
       "1                0             0            1                      0   \n",
       "2                0             0            1                      0   \n",
       "3                0             0            1                      0   \n",
       "4                0             0            1                      1   \n",
       "5                0             0            1                      0   \n",
       "...            ...           ...          ...                    ...   \n",
       "2915             0             0            1                      0   \n",
       "2916             0             0            1                      1   \n",
       "2917             0             0            1                      1   \n",
       "2918             0             0            1                      0   \n",
       "2919             0             0            1                      0   \n",
       "\n",
       "      SaleCondition_AdjLand  SaleCondition_Alloca  SaleCondition_Family  \\\n",
       "Id                                                                        \n",
       "1                         0                     0                     0   \n",
       "2                         0                     0                     0   \n",
       "3                         0                     0                     0   \n",
       "4                         0                     0                     0   \n",
       "5                         0                     0                     0   \n",
       "...                     ...                   ...                   ...   \n",
       "2915                      0                     0                     0   \n",
       "2916                      0                     0                     0   \n",
       "2917                      0                     0                     0   \n",
       "2918                      0                     0                     0   \n",
       "2919                      0                     0                     0   \n",
       "\n",
       "      SaleCondition_Normal  SaleCondition_Partial  \n",
       "Id                                                 \n",
       "1                        1                      0  \n",
       "2                        1                      0  \n",
       "3                        1                      0  \n",
       "4                        0                      0  \n",
       "5                        1                      0  \n",
       "...                    ...                    ...  \n",
       "2915                     1                      0  \n",
       "2916                     0                      0  \n",
       "2917                     0                      0  \n",
       "2918                     1                      0  \n",
       "2919                     1                      0  \n",
       "\n",
       "[2919 rows x 229 columns]"
      ]
     },
     "execution_count": 95,
     "metadata": {},
     "output_type": "execute_result"
    }
   ],
   "source": [
    "df"
   ]
  },
  {
   "cell_type": "markdown",
   "id": "c9eb9e38",
   "metadata": {},
   "source": [
    "### MinMaxScaler"
   ]
  },
  {
   "cell_type": "code",
   "execution_count": 109,
   "id": "064c5cf3",
   "metadata": {},
   "outputs": [],
   "source": [
    "from sklearn.preprocessing import MinMaxScaler\n",
    "mms = MinMaxScaler()\n",
    "df_scaled = mms.fit_transform(df)"
   ]
  },
  {
   "cell_type": "code",
   "execution_count": 110,
   "id": "3783a5e0",
   "metadata": {
    "scrolled": true
   },
   "outputs": [],
   "source": [
    "dataf = pd.DataFrame(df_scaled, columns = df.columns)"
   ]
  },
  {
   "cell_type": "code",
   "execution_count": 111,
   "id": "bb07dc61",
   "metadata": {},
   "outputs": [],
   "source": [
    "train = dataf.iloc[:1460,:] \n",
    "test = dataf.iloc[1460:,:] \n",
    "\n",
    "\n",
    "train_target = total.loc[:1460,'SalePrice'] #train 세일가격\n",
    "test_target = total.loc[1461:,'SalePrice']  #test 세일가격 =>정답지"
   ]
  },
  {
   "cell_type": "code",
   "execution_count": 112,
   "id": "70424441",
   "metadata": {
    "scrolled": true
   },
   "outputs": [
    {
     "data": {
      "text/plain": [
       "(1460, 229)"
      ]
     },
     "execution_count": 112,
     "metadata": {},
     "output_type": "execute_result"
    }
   ],
   "source": [
    "dataf.iloc[:1460,:].shape"
   ]
  },
  {
   "cell_type": "code",
   "execution_count": 113,
   "id": "6e3e8c40",
   "metadata": {},
   "outputs": [
    {
     "name": "stdout",
     "output_type": "stream",
     "text": [
      "(1460, 229) (1459, 229) (1460,) (1459,)\n"
     ]
    }
   ],
   "source": [
    "print(train.shape, test.shape, train_target.shape, test_target.shape)"
   ]
  },
  {
   "cell_type": "code",
   "execution_count": 114,
   "id": "d244dc79",
   "metadata": {},
   "outputs": [
    {
     "name": "stdout",
     "output_type": "stream",
     "text": [
      "무야호~\n"
     ]
    }
   ],
   "source": [
    "print(\"무야호~\")"
   ]
  },
  {
   "cell_type": "markdown",
   "id": "57fdce39",
   "metadata": {},
   "source": [
    "## 기초 선형 회귀"
   ]
  },
  {
   "cell_type": "code",
   "execution_count": 115,
   "id": "480e32e9",
   "metadata": {},
   "outputs": [
    {
     "name": "stdout",
     "output_type": "stream",
     "text": [
      "(1168, 229) (292, 229)\n"
     ]
    }
   ],
   "source": [
    "from sklearn.linear_model import LinearRegression\n",
    "from sklearn.model_selection import train_test_split as tts\n",
    "\n",
    "X_train, X_test, y_train, y_test = tts(\n",
    "    train, train_target, shuffle=True, random_state=11, test_size=0.2)\n",
    "\n",
    "print(X_train.shape, X_test.shape)"
   ]
  },
  {
   "cell_type": "code",
   "execution_count": 116,
   "id": "6b522dbd",
   "metadata": {},
   "outputs": [
    {
     "data": {
      "text/plain": [
       "LinearRegression()"
      ]
     },
     "execution_count": 116,
     "metadata": {},
     "output_type": "execute_result"
    }
   ],
   "source": [
    "from sklearn.linear_model import LinearRegression\n",
    "lr = LinearRegression()\n",
    "lr.fit(X_train, y_train)"
   ]
  },
  {
   "cell_type": "code",
   "execution_count": 117,
   "id": "f6d59136",
   "metadata": {},
   "outputs": [],
   "source": [
    "y_test_pred = lr.predict(X_test)"
   ]
  },
  {
   "cell_type": "code",
   "execution_count": 118,
   "id": "6bfd03dd",
   "metadata": {},
   "outputs": [
    {
     "data": {
      "text/plain": [
       "0.9262035927044544"
      ]
     },
     "execution_count": 118,
     "metadata": {},
     "output_type": "execute_result"
    }
   ],
   "source": [
    "lr.score(X_train, y_train)"
   ]
  },
  {
   "cell_type": "code",
   "execution_count": 119,
   "id": "9faacbf1",
   "metadata": {
    "scrolled": true
   },
   "outputs": [
    {
     "data": {
      "text/plain": [
       "-5.880291185722761e+19"
      ]
     },
     "execution_count": 119,
     "metadata": {},
     "output_type": "execute_result"
    }
   ],
   "source": [
    "lr.score(X_test, y_test)"
   ]
  },
  {
   "cell_type": "markdown",
   "id": "ddd8c593",
   "metadata": {},
   "source": [
    "## 확률하강법"
   ]
  },
  {
   "cell_type": "code",
   "execution_count": 120,
   "id": "3ce741f0",
   "metadata": {},
   "outputs": [
    {
     "name": "stdout",
     "output_type": "stream",
     "text": [
      "0.8829175198458497\n",
      "0.7990084717450243\n"
     ]
    },
    {
     "name": "stderr",
     "output_type": "stream",
     "text": [
      "C:\\ProgramData\\Anaconda3\\lib\\site-packages\\sklearn\\linear_model\\_stochastic_gradient.py:1220: ConvergenceWarning: Maximum number of iteration reached before convergence. Consider increasing max_iter to improve the fit.\n",
      "  warnings.warn(\"Maximum number of iteration reached before \"\n"
     ]
    }
   ],
   "source": [
    "from sklearn.linear_model import SGDRegressor as SGDR\n",
    "sr = SGDR( max_iter=100, random_state=11)\n",
    "sr.fit(X_train, y_train)\n",
    "print(sr.score(X_train, y_train))\n",
    "print(sr.score(X_test, y_test))"
   ]
  },
  {
   "cell_type": "code",
   "execution_count": 107,
   "id": "73f240dd",
   "metadata": {},
   "outputs": [
    {
     "name": "stderr",
     "output_type": "stream",
     "text": [
      "C:\\ProgramData\\Anaconda3\\lib\\site-packages\\pandas\\core\\frame.py:4462: SettingWithCopyWarning: \n",
      "A value is trying to be set on a copy of a slice from a DataFrame\n",
      "\n",
      "See the caveats in the documentation: https://pandas.pydata.org/pandas-docs/stable/user_guide/indexing.html#returning-a-view-versus-a-copy\n",
      "  return super().fillna(\n"
     ]
    }
   ],
   "source": [
    "#test.fillna(0,inplace=True)"
   ]
  },
  {
   "cell_type": "code",
   "execution_count": 108,
   "id": "c1ba4368",
   "metadata": {
    "scrolled": true
   },
   "outputs": [
    {
     "data": {
      "text/plain": [
       "(1459,)"
      ]
     },
     "execution_count": 108,
     "metadata": {},
     "output_type": "execute_result"
    }
   ],
   "source": [
    "test_id = pd.read_csv(\"house/test.csv\")\n",
    "test_id['Id'].shape"
   ]
  },
  {
   "cell_type": "code",
   "execution_count": 130,
   "id": "6ff6f774",
   "metadata": {},
   "outputs": [
    {
     "name": "stderr",
     "output_type": "stream",
     "text": [
      "C:\\ProgramData\\Anaconda3\\lib\\site-packages\\pandas\\core\\frame.py:4462: SettingWithCopyWarning: \n",
      "A value is trying to be set on a copy of a slice from a DataFrame\n",
      "\n",
      "See the caveats in the documentation: https://pandas.pydata.org/pandas-docs/stable/user_guide/indexing.html#returning-a-view-versus-a-copy\n",
      "  return super().fillna(\n"
     ]
    }
   ],
   "source": [
    "test.fillna(0,inplace=True)"
   ]
  },
  {
   "cell_type": "code",
   "execution_count": 136,
   "id": "84b4e78a",
   "metadata": {
    "scrolled": true
   },
   "outputs": [],
   "source": [
    "test_target = sr.predict(test)"
   ]
  },
  {
   "cell_type": "code",
   "execution_count": 137,
   "id": "2e20b07b",
   "metadata": {},
   "outputs": [],
   "source": [
    "test_sale = pd.DataFrame(test_target, columns=['SalePrice'])"
   ]
  },
  {
   "cell_type": "code",
   "execution_count": 138,
   "id": "b9464e98",
   "metadata": {},
   "outputs": [
    {
     "data": {
      "text/plain": [
       "(1459,)"
      ]
     },
     "execution_count": 138,
     "metadata": {},
     "output_type": "execute_result"
    }
   ],
   "source": [
    "test_target.shape"
   ]
  },
  {
   "cell_type": "code",
   "execution_count": 139,
   "id": "6e64a6dc",
   "metadata": {},
   "outputs": [
    {
     "data": {
      "text/plain": [
       "(1459, 1)"
      ]
     },
     "execution_count": 139,
     "metadata": {},
     "output_type": "execute_result"
    }
   ],
   "source": [
    "test_sale.shape"
   ]
  },
  {
   "cell_type": "code",
   "execution_count": 143,
   "id": "192083fe",
   "metadata": {},
   "outputs": [
    {
     "data": {
      "text/plain": [
       "array([113622.06587301, 159782.8380333 , 171890.6888198 , ...,\n",
       "       153081.79810659, 115240.90408829, 212857.78938236])"
      ]
     },
     "execution_count": 143,
     "metadata": {},
     "output_type": "execute_result"
    }
   ],
   "source": [
    "test_target"
   ]
  },
  {
   "cell_type": "code",
   "execution_count": 144,
   "id": "e0d8ede8",
   "metadata": {
    "scrolled": true
   },
   "outputs": [
    {
     "data": {
      "text/html": [
       "<div>\n",
       "<style scoped>\n",
       "    .dataframe tbody tr th:only-of-type {\n",
       "        vertical-align: middle;\n",
       "    }\n",
       "\n",
       "    .dataframe tbody tr th {\n",
       "        vertical-align: top;\n",
       "    }\n",
       "\n",
       "    .dataframe thead th {\n",
       "        text-align: right;\n",
       "    }\n",
       "</style>\n",
       "<table border=\"1\" class=\"dataframe\">\n",
       "  <thead>\n",
       "    <tr style=\"text-align: right;\">\n",
       "      <th></th>\n",
       "      <th>SalePrice</th>\n",
       "    </tr>\n",
       "  </thead>\n",
       "  <tbody>\n",
       "    <tr>\n",
       "      <th>0</th>\n",
       "      <td>113622.065873</td>\n",
       "    </tr>\n",
       "    <tr>\n",
       "      <th>1</th>\n",
       "      <td>159782.838033</td>\n",
       "    </tr>\n",
       "    <tr>\n",
       "      <th>2</th>\n",
       "      <td>171890.688820</td>\n",
       "    </tr>\n",
       "    <tr>\n",
       "      <th>3</th>\n",
       "      <td>189663.845100</td>\n",
       "    </tr>\n",
       "    <tr>\n",
       "      <th>4</th>\n",
       "      <td>212283.249355</td>\n",
       "    </tr>\n",
       "    <tr>\n",
       "      <th>...</th>\n",
       "      <td>...</td>\n",
       "    </tr>\n",
       "    <tr>\n",
       "      <th>1454</th>\n",
       "      <td>75004.054312</td>\n",
       "    </tr>\n",
       "    <tr>\n",
       "      <th>1455</th>\n",
       "      <td>70822.094430</td>\n",
       "    </tr>\n",
       "    <tr>\n",
       "      <th>1456</th>\n",
       "      <td>153081.798107</td>\n",
       "    </tr>\n",
       "    <tr>\n",
       "      <th>1457</th>\n",
       "      <td>115240.904088</td>\n",
       "    </tr>\n",
       "    <tr>\n",
       "      <th>1458</th>\n",
       "      <td>212857.789382</td>\n",
       "    </tr>\n",
       "  </tbody>\n",
       "</table>\n",
       "<p>1459 rows × 1 columns</p>\n",
       "</div>"
      ],
      "text/plain": [
       "          SalePrice\n",
       "0     113622.065873\n",
       "1     159782.838033\n",
       "2     171890.688820\n",
       "3     189663.845100\n",
       "4     212283.249355\n",
       "...             ...\n",
       "1454   75004.054312\n",
       "1455   70822.094430\n",
       "1456  153081.798107\n",
       "1457  115240.904088\n",
       "1458  212857.789382\n",
       "\n",
       "[1459 rows x 1 columns]"
      ]
     },
     "execution_count": 144,
     "metadata": {},
     "output_type": "execute_result"
    }
   ],
   "source": [
    "test_sale "
   ]
  },
  {
   "cell_type": "code",
   "execution_count": 145,
   "id": "a169c704",
   "metadata": {},
   "outputs": [],
   "source": [
    "submission = pd.read_csv(\"house/sample_submission.csv\")"
   ]
  },
  {
   "cell_type": "code",
   "execution_count": 148,
   "id": "a8d72ed4",
   "metadata": {},
   "outputs": [],
   "source": [
    "sub = submission.drop(['SalePrice'],axis=1)"
   ]
  },
  {
   "cell_type": "code",
   "execution_count": 153,
   "id": "6de3eae9",
   "metadata": {},
   "outputs": [
    {
     "data": {
      "text/html": [
       "<div>\n",
       "<style scoped>\n",
       "    .dataframe tbody tr th:only-of-type {\n",
       "        vertical-align: middle;\n",
       "    }\n",
       "\n",
       "    .dataframe tbody tr th {\n",
       "        vertical-align: top;\n",
       "    }\n",
       "\n",
       "    .dataframe thead th {\n",
       "        text-align: right;\n",
       "    }\n",
       "</style>\n",
       "<table border=\"1\" class=\"dataframe\">\n",
       "  <thead>\n",
       "    <tr style=\"text-align: right;\">\n",
       "      <th></th>\n",
       "      <th>Id</th>\n",
       "    </tr>\n",
       "  </thead>\n",
       "  <tbody>\n",
       "    <tr>\n",
       "      <th>0</th>\n",
       "      <td>1461</td>\n",
       "    </tr>\n",
       "    <tr>\n",
       "      <th>1</th>\n",
       "      <td>1462</td>\n",
       "    </tr>\n",
       "    <tr>\n",
       "      <th>2</th>\n",
       "      <td>1463</td>\n",
       "    </tr>\n",
       "    <tr>\n",
       "      <th>3</th>\n",
       "      <td>1464</td>\n",
       "    </tr>\n",
       "    <tr>\n",
       "      <th>4</th>\n",
       "      <td>1465</td>\n",
       "    </tr>\n",
       "    <tr>\n",
       "      <th>...</th>\n",
       "      <td>...</td>\n",
       "    </tr>\n",
       "    <tr>\n",
       "      <th>1454</th>\n",
       "      <td>2915</td>\n",
       "    </tr>\n",
       "    <tr>\n",
       "      <th>1455</th>\n",
       "      <td>2916</td>\n",
       "    </tr>\n",
       "    <tr>\n",
       "      <th>1456</th>\n",
       "      <td>2917</td>\n",
       "    </tr>\n",
       "    <tr>\n",
       "      <th>1457</th>\n",
       "      <td>2918</td>\n",
       "    </tr>\n",
       "    <tr>\n",
       "      <th>1458</th>\n",
       "      <td>2919</td>\n",
       "    </tr>\n",
       "  </tbody>\n",
       "</table>\n",
       "<p>1459 rows × 1 columns</p>\n",
       "</div>"
      ],
      "text/plain": [
       "        Id\n",
       "0     1461\n",
       "1     1462\n",
       "2     1463\n",
       "3     1464\n",
       "4     1465\n",
       "...    ...\n",
       "1454  2915\n",
       "1455  2916\n",
       "1456  2917\n",
       "1457  2918\n",
       "1458  2919\n",
       "\n",
       "[1459 rows x 1 columns]"
      ]
     },
     "execution_count": 153,
     "metadata": {},
     "output_type": "execute_result"
    }
   ],
   "source": [
    "sub "
   ]
  },
  {
   "cell_type": "code",
   "execution_count": 152,
   "id": "fb55634b",
   "metadata": {},
   "outputs": [
    {
     "data": {
      "text/html": [
       "<div>\n",
       "<style scoped>\n",
       "    .dataframe tbody tr th:only-of-type {\n",
       "        vertical-align: middle;\n",
       "    }\n",
       "\n",
       "    .dataframe tbody tr th {\n",
       "        vertical-align: top;\n",
       "    }\n",
       "\n",
       "    .dataframe thead th {\n",
       "        text-align: right;\n",
       "    }\n",
       "</style>\n",
       "<table border=\"1\" class=\"dataframe\">\n",
       "  <thead>\n",
       "    <tr style=\"text-align: right;\">\n",
       "      <th></th>\n",
       "      <th>SalePrice</th>\n",
       "    </tr>\n",
       "  </thead>\n",
       "  <tbody>\n",
       "    <tr>\n",
       "      <th>0</th>\n",
       "      <td>113622.065873</td>\n",
       "    </tr>\n",
       "    <tr>\n",
       "      <th>1</th>\n",
       "      <td>159782.838033</td>\n",
       "    </tr>\n",
       "    <tr>\n",
       "      <th>2</th>\n",
       "      <td>171890.688820</td>\n",
       "    </tr>\n",
       "    <tr>\n",
       "      <th>3</th>\n",
       "      <td>189663.845100</td>\n",
       "    </tr>\n",
       "    <tr>\n",
       "      <th>4</th>\n",
       "      <td>212283.249355</td>\n",
       "    </tr>\n",
       "    <tr>\n",
       "      <th>...</th>\n",
       "      <td>...</td>\n",
       "    </tr>\n",
       "    <tr>\n",
       "      <th>1454</th>\n",
       "      <td>75004.054312</td>\n",
       "    </tr>\n",
       "    <tr>\n",
       "      <th>1455</th>\n",
       "      <td>70822.094430</td>\n",
       "    </tr>\n",
       "    <tr>\n",
       "      <th>1456</th>\n",
       "      <td>153081.798107</td>\n",
       "    </tr>\n",
       "    <tr>\n",
       "      <th>1457</th>\n",
       "      <td>115240.904088</td>\n",
       "    </tr>\n",
       "    <tr>\n",
       "      <th>1458</th>\n",
       "      <td>212857.789382</td>\n",
       "    </tr>\n",
       "  </tbody>\n",
       "</table>\n",
       "<p>1459 rows × 1 columns</p>\n",
       "</div>"
      ],
      "text/plain": [
       "          SalePrice\n",
       "0     113622.065873\n",
       "1     159782.838033\n",
       "2     171890.688820\n",
       "3     189663.845100\n",
       "4     212283.249355\n",
       "...             ...\n",
       "1454   75004.054312\n",
       "1455   70822.094430\n",
       "1456  153081.798107\n",
       "1457  115240.904088\n",
       "1458  212857.789382\n",
       "\n",
       "[1459 rows x 1 columns]"
      ]
     },
     "execution_count": 152,
     "metadata": {},
     "output_type": "execute_result"
    }
   ],
   "source": [
    "test_sale"
   ]
  },
  {
   "cell_type": "code",
   "execution_count": 161,
   "id": "f63ccaec",
   "metadata": {},
   "outputs": [],
   "source": [
    "subm = pd.merge(sub, test_sale, left_index=True, right_index=True)"
   ]
  },
  {
   "cell_type": "code",
   "execution_count": 165,
   "id": "f4b9e2bd",
   "metadata": {},
   "outputs": [
    {
     "ename": "KeyError",
     "evalue": "\"None of ['Id'] are in the columns\"",
     "output_type": "error",
     "traceback": [
      "\u001b[1;31m---------------------------------------------------------------------------\u001b[0m",
      "\u001b[1;31mKeyError\u001b[0m                                  Traceback (most recent call last)",
      "\u001b[1;32m<ipython-input-165-0d8738a7f447>\u001b[0m in \u001b[0;36m<module>\u001b[1;34m\u001b[0m\n\u001b[1;32m----> 1\u001b[1;33m \u001b[0msubm\u001b[0m\u001b[1;33m.\u001b[0m\u001b[0mset_index\u001b[0m\u001b[1;33m(\u001b[0m\u001b[1;34m\"Id\"\u001b[0m\u001b[1;33m,\u001b[0m \u001b[0minplace\u001b[0m\u001b[1;33m=\u001b[0m\u001b[1;32mTrue\u001b[0m\u001b[1;33m)\u001b[0m\u001b[1;33m.\u001b[0m\u001b[0mto_csv\u001b[0m\u001b[1;33m\u001b[0m\u001b[1;33m\u001b[0m\u001b[0m\n\u001b[0m",
      "\u001b[1;32mC:\\ProgramData\\Anaconda3\\lib\\site-packages\\pandas\\core\\frame.py\u001b[0m in \u001b[0;36mset_index\u001b[1;34m(self, keys, drop, append, inplace, verify_integrity)\u001b[0m\n\u001b[0;32m   4725\u001b[0m \u001b[1;33m\u001b[0m\u001b[0m\n\u001b[0;32m   4726\u001b[0m         \u001b[1;32mif\u001b[0m \u001b[0mmissing\u001b[0m\u001b[1;33m:\u001b[0m\u001b[1;33m\u001b[0m\u001b[1;33m\u001b[0m\u001b[0m\n\u001b[1;32m-> 4727\u001b[1;33m             \u001b[1;32mraise\u001b[0m \u001b[0mKeyError\u001b[0m\u001b[1;33m(\u001b[0m\u001b[1;34mf\"None of {missing} are in the columns\"\u001b[0m\u001b[1;33m)\u001b[0m\u001b[1;33m\u001b[0m\u001b[1;33m\u001b[0m\u001b[0m\n\u001b[0m\u001b[0;32m   4728\u001b[0m \u001b[1;33m\u001b[0m\u001b[0m\n\u001b[0;32m   4729\u001b[0m         \u001b[1;32mif\u001b[0m \u001b[0minplace\u001b[0m\u001b[1;33m:\u001b[0m\u001b[1;33m\u001b[0m\u001b[1;33m\u001b[0m\u001b[0m\n",
      "\u001b[1;31mKeyError\u001b[0m: \"None of ['Id'] are in the columns\""
     ]
    }
   ],
   "source": [
    "subm.set_index(\"Id\", inplace=True).to_csv"
   ]
  },
  {
   "cell_type": "code",
   "execution_count": 167,
   "id": "b9c19e53",
   "metadata": {},
   "outputs": [],
   "source": [
    "subm.to_csv(\"submission.csv\")"
   ]
  },
  {
   "cell_type": "code",
   "execution_count": null,
   "id": "628c0099",
   "metadata": {},
   "outputs": [],
   "source": []
  }
 ],
 "metadata": {
  "kernelspec": {
   "display_name": "Python 3",
   "language": "python",
   "name": "python3"
  },
  "language_info": {
   "codemirror_mode": {
    "name": "ipython",
    "version": 3
   },
   "file_extension": ".py",
   "mimetype": "text/x-python",
   "name": "python",
   "nbconvert_exporter": "python",
   "pygments_lexer": "ipython3",
   "version": "3.8.8"
  }
 },
 "nbformat": 4,
 "nbformat_minor": 5
}
