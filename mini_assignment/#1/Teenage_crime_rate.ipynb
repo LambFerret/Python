{
 "cells": [
  {
   "cell_type": "markdown",
   "id": "46194133",
   "metadata": {},
   "source": [
    "# reading data properly"
   ]
  },
  {
   "cell_type": "code",
   "execution_count": 230,
   "id": "f10c3064",
   "metadata": {},
   "outputs": [],
   "source": [
    "import matplotlib\n",
    "from matplotlib import font_manager, rc\n",
    "font_location = \"c:/Windows/fonts/malgun.ttf\"\n",
    "font_name = font_manager.FontProperties(fname=font_location).get_name()\n",
    "matplotlib.rc('font', family=font_name)"
   ]
  },
  {
   "cell_type": "code",
   "execution_count": 203,
   "id": "27641b7c",
   "metadata": {},
   "outputs": [],
   "source": [
    "import pandas as pd \n",
    "import numpy as np\n",
    "import matplotlib.pyplot as plt\n",
    "import seaborn as sns\n",
    "\n",
    "teen_crime = pd.read_csv(\"data/crime_teenager.csv\", encoding='euc_kr')\n",
    "night = pd.read_csv(\"data/nightlife_crime.csv\", encoding='euc_kr')"
   ]
  },
  {
   "cell_type": "code",
   "execution_count": 204,
   "id": "4c39f5bd",
   "metadata": {},
   "outputs": [
    {
     "data": {
      "text/html": [
       "<div>\n",
       "<style scoped>\n",
       "    .dataframe tbody tr th:only-of-type {\n",
       "        vertical-align: middle;\n",
       "    }\n",
       "\n",
       "    .dataframe tbody tr th {\n",
       "        vertical-align: top;\n",
       "    }\n",
       "\n",
       "    .dataframe thead th {\n",
       "        text-align: right;\n",
       "    }\n",
       "</style>\n",
       "<table border=\"1\" class=\"dataframe\">\n",
       "  <thead>\n",
       "    <tr style=\"text-align: right;\">\n",
       "      <th></th>\n",
       "      <th>region</th>\n",
       "      <th>pub</th>\n",
       "      <th>karaoke</th>\n",
       "      <th>tot_nightlife</th>\n",
       "      <th>murder</th>\n",
       "      <th>robbery</th>\n",
       "      <th>forcible_rape</th>\n",
       "      <th>thef</th>\n",
       "      <th>violence</th>\n",
       "      <th>murder_tot</th>\n",
       "      <th>robbery_Tot</th>\n",
       "      <th>forcible_rape_Tot</th>\n",
       "      <th>thef_tot</th>\n",
       "      <th>violence_Tot</th>\n",
       "    </tr>\n",
       "  </thead>\n",
       "  <tbody>\n",
       "    <tr>\n",
       "      <th>0</th>\n",
       "      <td>강남</td>\n",
       "      <td>283</td>\n",
       "      <td>354</td>\n",
       "      <td>637</td>\n",
       "      <td>0</td>\n",
       "      <td>6</td>\n",
       "      <td>19</td>\n",
       "      <td>140</td>\n",
       "      <td>176</td>\n",
       "      <td>3</td>\n",
       "      <td>21</td>\n",
       "      <td>310</td>\n",
       "      <td>2484</td>\n",
       "      <td>2604</td>\n",
       "    </tr>\n",
       "    <tr>\n",
       "      <th>1</th>\n",
       "      <td>강동</td>\n",
       "      <td>146</td>\n",
       "      <td>106</td>\n",
       "      <td>252</td>\n",
       "      <td>0</td>\n",
       "      <td>3</td>\n",
       "      <td>6</td>\n",
       "      <td>193</td>\n",
       "      <td>158</td>\n",
       "      <td>4</td>\n",
       "      <td>6</td>\n",
       "      <td>156</td>\n",
       "      <td>2366</td>\n",
       "      <td>2712</td>\n",
       "    </tr>\n",
       "    <tr>\n",
       "      <th>2</th>\n",
       "      <td>강북</td>\n",
       "      <td>79</td>\n",
       "      <td>128</td>\n",
       "      <td>207</td>\n",
       "      <td>0</td>\n",
       "      <td>0</td>\n",
       "      <td>9</td>\n",
       "      <td>166</td>\n",
       "      <td>210</td>\n",
       "      <td>7</td>\n",
       "      <td>14</td>\n",
       "      <td>153</td>\n",
       "      <td>1434</td>\n",
       "      <td>2649</td>\n",
       "    </tr>\n",
       "    <tr>\n",
       "      <th>3</th>\n",
       "      <td>강서</td>\n",
       "      <td>113</td>\n",
       "      <td>167</td>\n",
       "      <td>280</td>\n",
       "      <td>0</td>\n",
       "      <td>3</td>\n",
       "      <td>9</td>\n",
       "      <td>273</td>\n",
       "      <td>240</td>\n",
       "      <td>7</td>\n",
       "      <td>13</td>\n",
       "      <td>262</td>\n",
       "      <td>2096</td>\n",
       "      <td>3207</td>\n",
       "    </tr>\n",
       "    <tr>\n",
       "      <th>4</th>\n",
       "      <td>관악</td>\n",
       "      <td>223</td>\n",
       "      <td>99</td>\n",
       "      <td>322</td>\n",
       "      <td>0</td>\n",
       "      <td>2</td>\n",
       "      <td>14</td>\n",
       "      <td>170</td>\n",
       "      <td>209</td>\n",
       "      <td>9</td>\n",
       "      <td>12</td>\n",
       "      <td>320</td>\n",
       "      <td>2706</td>\n",
       "      <td>3298</td>\n",
       "    </tr>\n",
       "  </tbody>\n",
       "</table>\n",
       "</div>"
      ],
      "text/plain": [
       "  region  pub  karaoke  tot_nightlife  murder  robbery  forcible_rape  thef  \\\n",
       "0     강남  283      354            637       0        6             19   140   \n",
       "1     강동  146      106            252       0        3              6   193   \n",
       "2     강북   79      128            207       0        0              9   166   \n",
       "3     강서  113      167            280       0        3              9   273   \n",
       "4     관악  223       99            322       0        2             14   170   \n",
       "\n",
       "   violence  murder_tot  robbery_Tot  forcible_rape_Tot  thef_tot  \\\n",
       "0       176           3           21                310      2484   \n",
       "1       158           4            6                156      2366   \n",
       "2       210           7           14                153      1434   \n",
       "3       240           7           13                262      2096   \n",
       "4       209           9           12                320      2706   \n",
       "\n",
       "   violence_Tot  \n",
       "0          2604  \n",
       "1          2712  \n",
       "2          2649  \n",
       "3          3207  \n",
       "4          3298  "
      ]
     },
     "execution_count": 204,
     "metadata": {},
     "output_type": "execute_result"
    }
   ],
   "source": [
    "teen_crime.head()\n",
    "night.head()"
   ]
  },
  {
   "cell_type": "code",
   "execution_count": 293,
   "id": "c18d097e",
   "metadata": {},
   "outputs": [
    {
     "data": {
      "text/plain": [
       "0"
      ]
     },
     "execution_count": 293,
     "metadata": {},
     "output_type": "execute_result"
    }
   ],
   "source": [
    "night.isnull().sum().sum()"
   ]
  },
  {
   "cell_type": "markdown",
   "id": "26d67d63",
   "metadata": {},
   "source": [
    "# data preprocessing"
   ]
  },
  {
   "cell_type": "code",
   "execution_count": 206,
   "id": "53954ca9",
   "metadata": {},
   "outputs": [],
   "source": [
    "# 살인은 표본이 너무 적기에 삭제 \n",
    "\n",
    "df = night.copy()\n",
    "df = night.drop(df.loc[:,df.columns.str.contains('murder')], axis=1)\n",
    "df = df.drop(['tot_nightlife'], axis =1)"
   ]
  },
  {
   "cell_type": "code",
   "execution_count": 207,
   "id": "5d34829f",
   "metadata": {},
   "outputs": [
    {
     "data": {
      "text/html": [
       "<div>\n",
       "<style scoped>\n",
       "    .dataframe tbody tr th:only-of-type {\n",
       "        vertical-align: middle;\n",
       "    }\n",
       "\n",
       "    .dataframe tbody tr th {\n",
       "        vertical-align: top;\n",
       "    }\n",
       "\n",
       "    .dataframe thead th {\n",
       "        text-align: right;\n",
       "    }\n",
       "</style>\n",
       "<table border=\"1\" class=\"dataframe\">\n",
       "  <thead>\n",
       "    <tr style=\"text-align: right;\">\n",
       "      <th></th>\n",
       "      <th>region</th>\n",
       "      <th>pub</th>\n",
       "      <th>karaoke</th>\n",
       "      <th>robbery</th>\n",
       "      <th>forcible_rape</th>\n",
       "      <th>thef</th>\n",
       "      <th>violence</th>\n",
       "      <th>robbery_Tot</th>\n",
       "      <th>forcible_rape_Tot</th>\n",
       "      <th>thef_tot</th>\n",
       "      <th>violence_Tot</th>\n",
       "    </tr>\n",
       "  </thead>\n",
       "  <tbody>\n",
       "    <tr>\n",
       "      <th>0</th>\n",
       "      <td>강남</td>\n",
       "      <td>283</td>\n",
       "      <td>354</td>\n",
       "      <td>6</td>\n",
       "      <td>19</td>\n",
       "      <td>140</td>\n",
       "      <td>176</td>\n",
       "      <td>21</td>\n",
       "      <td>310</td>\n",
       "      <td>2484</td>\n",
       "      <td>2604</td>\n",
       "    </tr>\n",
       "    <tr>\n",
       "      <th>1</th>\n",
       "      <td>강동</td>\n",
       "      <td>146</td>\n",
       "      <td>106</td>\n",
       "      <td>3</td>\n",
       "      <td>6</td>\n",
       "      <td>193</td>\n",
       "      <td>158</td>\n",
       "      <td>6</td>\n",
       "      <td>156</td>\n",
       "      <td>2366</td>\n",
       "      <td>2712</td>\n",
       "    </tr>\n",
       "    <tr>\n",
       "      <th>2</th>\n",
       "      <td>강북</td>\n",
       "      <td>79</td>\n",
       "      <td>128</td>\n",
       "      <td>0</td>\n",
       "      <td>9</td>\n",
       "      <td>166</td>\n",
       "      <td>210</td>\n",
       "      <td>14</td>\n",
       "      <td>153</td>\n",
       "      <td>1434</td>\n",
       "      <td>2649</td>\n",
       "    </tr>\n",
       "    <tr>\n",
       "      <th>3</th>\n",
       "      <td>강서</td>\n",
       "      <td>113</td>\n",
       "      <td>167</td>\n",
       "      <td>3</td>\n",
       "      <td>9</td>\n",
       "      <td>273</td>\n",
       "      <td>240</td>\n",
       "      <td>13</td>\n",
       "      <td>262</td>\n",
       "      <td>2096</td>\n",
       "      <td>3207</td>\n",
       "    </tr>\n",
       "    <tr>\n",
       "      <th>4</th>\n",
       "      <td>관악</td>\n",
       "      <td>223</td>\n",
       "      <td>99</td>\n",
       "      <td>2</td>\n",
       "      <td>14</td>\n",
       "      <td>170</td>\n",
       "      <td>209</td>\n",
       "      <td>12</td>\n",
       "      <td>320</td>\n",
       "      <td>2706</td>\n",
       "      <td>3298</td>\n",
       "    </tr>\n",
       "  </tbody>\n",
       "</table>\n",
       "</div>"
      ],
      "text/plain": [
       "  region  pub  karaoke  robbery  forcible_rape  thef  violence  robbery_Tot  \\\n",
       "0     강남  283      354        6             19   140       176           21   \n",
       "1     강동  146      106        3              6   193       158            6   \n",
       "2     강북   79      128        0              9   166       210           14   \n",
       "3     강서  113      167        3              9   273       240           13   \n",
       "4     관악  223       99        2             14   170       209           12   \n",
       "\n",
       "   forcible_rape_Tot  thef_tot  violence_Tot  \n",
       "0                310      2484          2604  \n",
       "1                156      2366          2712  \n",
       "2                153      1434          2649  \n",
       "3                262      2096          3207  \n",
       "4                320      2706          3298  "
      ]
     },
     "execution_count": 207,
     "metadata": {},
     "output_type": "execute_result"
    }
   ],
   "source": [
    "df.head()"
   ]
  },
  {
   "cell_type": "code",
   "execution_count": 208,
   "id": "ccfe7b65",
   "metadata": {},
   "outputs": [],
   "source": [
    "#절도와 강도를 강도로 병합, 주점과 노래방을 유흥업소로 병합\n",
    "\n",
    "df['thef'] = df['thef']+ df['robbery']\n",
    "df['thef_tot'] = df['thef_tot']+ df['robbery_Tot']\n",
    "df = df.drop(df.loc[:,df.columns.str.contains('robber')], axis=1)\n",
    "\n",
    "df['pub'] = df['pub'] + df['karaoke']\n",
    "df = df.drop(['karaoke'], axis = 1)"
   ]
  },
  {
   "cell_type": "code",
   "execution_count": 209,
   "id": "4ac1cd38",
   "metadata": {},
   "outputs": [
    {
     "data": {
      "text/html": [
       "<div>\n",
       "<style scoped>\n",
       "    .dataframe tbody tr th:only-of-type {\n",
       "        vertical-align: middle;\n",
       "    }\n",
       "\n",
       "    .dataframe tbody tr th {\n",
       "        vertical-align: top;\n",
       "    }\n",
       "\n",
       "    .dataframe thead th {\n",
       "        text-align: right;\n",
       "    }\n",
       "</style>\n",
       "<table border=\"1\" class=\"dataframe\">\n",
       "  <thead>\n",
       "    <tr style=\"text-align: right;\">\n",
       "      <th></th>\n",
       "      <th>region</th>\n",
       "      <th>pub</th>\n",
       "      <th>forcible_rape</th>\n",
       "      <th>thef</th>\n",
       "      <th>violence</th>\n",
       "      <th>forcible_rape_Tot</th>\n",
       "      <th>thef_tot</th>\n",
       "      <th>violence_Tot</th>\n",
       "    </tr>\n",
       "  </thead>\n",
       "  <tbody>\n",
       "    <tr>\n",
       "      <th>0</th>\n",
       "      <td>강남</td>\n",
       "      <td>637</td>\n",
       "      <td>19</td>\n",
       "      <td>146</td>\n",
       "      <td>176</td>\n",
       "      <td>310</td>\n",
       "      <td>2505</td>\n",
       "      <td>2604</td>\n",
       "    </tr>\n",
       "    <tr>\n",
       "      <th>1</th>\n",
       "      <td>강동</td>\n",
       "      <td>252</td>\n",
       "      <td>6</td>\n",
       "      <td>196</td>\n",
       "      <td>158</td>\n",
       "      <td>156</td>\n",
       "      <td>2372</td>\n",
       "      <td>2712</td>\n",
       "    </tr>\n",
       "    <tr>\n",
       "      <th>2</th>\n",
       "      <td>강북</td>\n",
       "      <td>207</td>\n",
       "      <td>9</td>\n",
       "      <td>166</td>\n",
       "      <td>210</td>\n",
       "      <td>153</td>\n",
       "      <td>1448</td>\n",
       "      <td>2649</td>\n",
       "    </tr>\n",
       "    <tr>\n",
       "      <th>3</th>\n",
       "      <td>강서</td>\n",
       "      <td>280</td>\n",
       "      <td>9</td>\n",
       "      <td>276</td>\n",
       "      <td>240</td>\n",
       "      <td>262</td>\n",
       "      <td>2109</td>\n",
       "      <td>3207</td>\n",
       "    </tr>\n",
       "    <tr>\n",
       "      <th>4</th>\n",
       "      <td>관악</td>\n",
       "      <td>322</td>\n",
       "      <td>14</td>\n",
       "      <td>172</td>\n",
       "      <td>209</td>\n",
       "      <td>320</td>\n",
       "      <td>2718</td>\n",
       "      <td>3298</td>\n",
       "    </tr>\n",
       "  </tbody>\n",
       "</table>\n",
       "</div>"
      ],
      "text/plain": [
       "  region  pub  forcible_rape  thef  violence  forcible_rape_Tot  thef_tot  \\\n",
       "0     강남  637             19   146       176                310      2505   \n",
       "1     강동  252              6   196       158                156      2372   \n",
       "2     강북  207              9   166       210                153      1448   \n",
       "3     강서  280              9   276       240                262      2109   \n",
       "4     관악  322             14   172       209                320      2718   \n",
       "\n",
       "   violence_Tot  \n",
       "0          2604  \n",
       "1          2712  \n",
       "2          2649  \n",
       "3          3207  \n",
       "4          3298  "
      ]
     },
     "execution_count": 209,
     "metadata": {},
     "output_type": "execute_result"
    }
   ],
   "source": [
    "df.head()"
   ]
  },
  {
   "cell_type": "code",
   "execution_count": 210,
   "id": "b79d490b",
   "metadata": {},
   "outputs": [
    {
     "data": {
      "text/html": [
       "<div>\n",
       "<style scoped>\n",
       "    .dataframe tbody tr th:only-of-type {\n",
       "        vertical-align: middle;\n",
       "    }\n",
       "\n",
       "    .dataframe tbody tr th {\n",
       "        vertical-align: top;\n",
       "    }\n",
       "\n",
       "    .dataframe thead th {\n",
       "        text-align: right;\n",
       "    }\n",
       "</style>\n",
       "<table border=\"1\" class=\"dataframe\">\n",
       "  <thead>\n",
       "    <tr style=\"text-align: right;\">\n",
       "      <th></th>\n",
       "      <th>region</th>\n",
       "      <th>pub</th>\n",
       "      <th>forcible_rape</th>\n",
       "      <th>thef</th>\n",
       "      <th>violence</th>\n",
       "      <th>forcible_rape_Tot</th>\n",
       "      <th>thef_tot</th>\n",
       "      <th>violence_Tot</th>\n",
       "    </tr>\n",
       "  </thead>\n",
       "  <tbody>\n",
       "    <tr>\n",
       "      <th>0</th>\n",
       "      <td>강남</td>\n",
       "      <td>637</td>\n",
       "      <td>19</td>\n",
       "      <td>146</td>\n",
       "      <td>176</td>\n",
       "      <td>291</td>\n",
       "      <td>2359</td>\n",
       "      <td>2428</td>\n",
       "    </tr>\n",
       "    <tr>\n",
       "      <th>1</th>\n",
       "      <td>강동</td>\n",
       "      <td>252</td>\n",
       "      <td>6</td>\n",
       "      <td>196</td>\n",
       "      <td>158</td>\n",
       "      <td>150</td>\n",
       "      <td>2176</td>\n",
       "      <td>2554</td>\n",
       "    </tr>\n",
       "    <tr>\n",
       "      <th>2</th>\n",
       "      <td>강북</td>\n",
       "      <td>207</td>\n",
       "      <td>9</td>\n",
       "      <td>166</td>\n",
       "      <td>210</td>\n",
       "      <td>144</td>\n",
       "      <td>1282</td>\n",
       "      <td>2439</td>\n",
       "    </tr>\n",
       "    <tr>\n",
       "      <th>3</th>\n",
       "      <td>강서</td>\n",
       "      <td>280</td>\n",
       "      <td>9</td>\n",
       "      <td>276</td>\n",
       "      <td>240</td>\n",
       "      <td>253</td>\n",
       "      <td>1833</td>\n",
       "      <td>2967</td>\n",
       "    </tr>\n",
       "    <tr>\n",
       "      <th>4</th>\n",
       "      <td>관악</td>\n",
       "      <td>322</td>\n",
       "      <td>14</td>\n",
       "      <td>172</td>\n",
       "      <td>209</td>\n",
       "      <td>306</td>\n",
       "      <td>2546</td>\n",
       "      <td>3089</td>\n",
       "    </tr>\n",
       "  </tbody>\n",
       "</table>\n",
       "</div>"
      ],
      "text/plain": [
       "  region  pub  forcible_rape  thef  violence  forcible_rape_Tot  thef_tot  \\\n",
       "0     강남  637             19   146       176                291      2359   \n",
       "1     강동  252              6   196       158                150      2176   \n",
       "2     강북  207              9   166       210                144      1282   \n",
       "3     강서  280              9   276       240                253      1833   \n",
       "4     관악  322             14   172       209                306      2546   \n",
       "\n",
       "   violence_Tot  \n",
       "0          2428  \n",
       "1          2554  \n",
       "2          2439  \n",
       "3          2967  \n",
       "4          3089  "
      ]
     },
     "execution_count": 210,
     "metadata": {},
     "output_type": "execute_result"
    }
   ],
   "source": [
    "#전체 범죄 발생건수에서 청소년범죄 건수를 빼서 성인 범죄 발생건수만 센다.\n",
    "\n",
    "df['thef_tot'] = df['thef_tot'] - df['thef']\n",
    "df['violence_Tot'] = df['violence_Tot'] - df['violence']\n",
    "df['forcible_rape_Tot'] = df['forcible_rape_Tot'] - df['forcible_rape']\n",
    "df.head()"
   ]
  },
  {
   "cell_type": "markdown",
   "id": "c2deed9e",
   "metadata": {},
   "source": [
    "# data visualization\n",
    "- 전체범죄율과 청소년범죄율의 상관관계 \n",
    "- 유흥업소의 수와 범죄율의 상관관계\n",
    "- 지역별 범죄율"
   ]
  },
  {
   "cell_type": "code",
   "execution_count": 226,
   "id": "d2baeefe",
   "metadata": {},
   "outputs": [
    {
     "data": {
      "text/plain": [
       "<AxesSubplot:>"
      ]
     },
     "execution_count": 226,
     "metadata": {},
     "output_type": "execute_result"
    },
    {
     "data": {
      "image/png": "[encoded data removed]",
      "text/plain": [
       "<Figure size 432x288 with 2 Axes>"
      ]
     },
     "metadata": {},
     "output_type": "display_data"
    }
   ],
   "source": [
    "# 전 특성에 관련한 히트맵\n",
    "\n",
    "sns.set(font_scale=1.25)\n",
    "data = night.corr()\n",
    "cols = data.nlargest(13, 'pub').index # nlargest : Return this many descending sorted values\n",
    "#sns.heatmap(data = nightlife_crime.corr(method = 'pearson'),linewidths=.5,cmap=\"RdGy\")\n",
    "hm = sns.heatmap(data, cbar=True, annot=True, square=True, fmt='.2f', annot_kws={'size': 8}, yticklabels=cols.values, xticklabels=cols.values)\n",
    "hm"
   ]
  },
  {
   "cell_type": "code",
   "execution_count": 211,
   "id": "43e6e957",
   "metadata": {},
   "outputs": [
    {
     "data": {
      "text/plain": [
       "<AxesSubplot:>"
      ]
     },
     "execution_count": 211,
     "metadata": {},
     "output_type": "execute_result"
    },
    {
     "data": {
      "image/png": "[encoded data removed]",
      "text/plain": [
       "<Figure size 432x288 with 2 Axes>"
      ]
     },
     "metadata": {
      "needs_background": "light"
     },
     "output_type": "display_data"
    }
   ],
   "source": [
    "# 전처리 이후에 관련한 히트맵\n",
    "sns.heatmap(graph.corr(), annot=True)"
   ]
  },
  {
   "cell_type": "code",
   "execution_count": 234,
   "id": "cd3ef482",
   "metadata": {},
   "outputs": [
    {
     "data": {
      "text/plain": [
       "[<matplotlib.lines.Line2D at 0x28626941d90>]"
      ]
     },
     "execution_count": 234,
     "metadata": {},
     "output_type": "execute_result"
    },
    {
     "data": {
      "image/png": "[encoded data removed]",
      "text/plain": [
       "<Figure size 1080x288 with 1 Axes>"
      ]
     },
     "metadata": {},
     "output_type": "display_data"
    }
   ],
   "source": [
    "#히트맵 상관계수로 유추한 상관도\n",
    "\n",
    "plt.figure(figsize=(15,4))\n",
    "plt.plot(df['region'],df['thef_tot'])\n",
    "plt.plot(df['region'],df['violence_Tot'])"
   ]
  },
  {
   "cell_type": "code",
   "execution_count": 212,
   "id": "9efe97d1",
   "metadata": {
    "scrolled": true
   },
   "outputs": [
    {
     "data": {
      "text/plain": [
       "<BarContainer object of 25 artists>"
      ]
     },
     "execution_count": 212,
     "metadata": {},
     "output_type": "execute_result"
    },
    {
     "data": {
      "image/png": "[encoded data removed]",
      "text/plain": [
       "<Figure size 1440x576 with 1 Axes>"
      ]
     },
     "metadata": {
      "needs_background": "light"
     },
     "output_type": "display_data"
    }
   ],
   "source": [
    "graph = df.drop(['region','pub'],axis=1)\n",
    "graph_thef = df.sort_values('thef_tot')\n",
    "\n",
    "# 성인 강도발생률과 청소년 강도발생률 비교\n",
    "# 관측의 편의를 위해 청소년 수치에 4를 곱했다. \n",
    "plt.figure(figsize=(20,8))\n",
    "plt.bar(graph_thef['region'], graph_thef['thef_tot'], width=0.5)\n",
    "plt.bar(graph_thef['region'], graph_thef['thef']*4, width=0.5)"
   ]
  },
  {
   "cell_type": "code",
   "execution_count": 237,
   "id": "51ac34cb",
   "metadata": {
    "scrolled": true
   },
   "outputs": [
    {
     "data": {
      "text/plain": [
       "Int64Index([14, 16,  9, 21, 22,  2,  7, 15, 20, 18, 10,  3, 13, 11, 24,  8,  1,\n",
       "             6,  0, 12, 23,  4, 19,  5, 17],\n",
       "           dtype='int64')"
      ]
     },
     "execution_count": 237,
     "metadata": {},
     "output_type": "execute_result"
    }
   ],
   "source": [
    "graph_thef.index"
   ]
  },
  {
   "cell_type": "code",
   "execution_count": null,
   "id": "10b3e4f3",
   "metadata": {},
   "outputs": [],
   "source": []
  },
  {
   "cell_type": "code",
   "execution_count": 238,
   "id": "314f1f82",
   "metadata": {
    "scrolled": true
   },
   "outputs": [
    {
     "ename": "TypeError",
     "evalue": "unhashable type: 'Int64Index'",
     "output_type": "error",
     "traceback": [
      "\u001b[1;31m---------------------------------------------------------------------------\u001b[0m",
      "\u001b[1;31mTypeError\u001b[0m                                 Traceback (most recent call last)",
      "\u001b[1;32m<ipython-input-238-03a78ec08f93>\u001b[0m in \u001b[0;36m<module>\u001b[1;34m\u001b[0m\n\u001b[1;32m----> 1\u001b[1;33m \u001b[0mgraph_per\u001b[0m\u001b[1;33m.\u001b[0m\u001b[0msort_index\u001b[0m\u001b[1;33m(\u001b[0m\u001b[0mgraph_thef\u001b[0m\u001b[1;33m.\u001b[0m\u001b[0mindex\u001b[0m\u001b[1;33m)\u001b[0m\u001b[1;33m\u001b[0m\u001b[1;33m\u001b[0m\u001b[0m\n\u001b[0m",
      "\u001b[1;32mC:\\ProgramData\\Anaconda3\\lib\\site-packages\\pandas\\core\\frame.py\u001b[0m in \u001b[0;36msort_index\u001b[1;34m(self, axis, level, ascending, inplace, kind, na_position, sort_remaining, ignore_index, key)\u001b[0m\n\u001b[0;32m   5580\u001b[0m         \u001b[0md\u001b[0m  \u001b[1;36m4\u001b[0m\u001b[1;33m\u001b[0m\u001b[1;33m\u001b[0m\u001b[0m\n\u001b[0;32m   5581\u001b[0m         \"\"\"\n\u001b[1;32m-> 5582\u001b[1;33m         return super().sort_index(\n\u001b[0m\u001b[0;32m   5583\u001b[0m             \u001b[0maxis\u001b[0m\u001b[1;33m,\u001b[0m\u001b[1;33m\u001b[0m\u001b[1;33m\u001b[0m\u001b[0m\n\u001b[0;32m   5584\u001b[0m             \u001b[0mlevel\u001b[0m\u001b[1;33m,\u001b[0m\u001b[1;33m\u001b[0m\u001b[1;33m\u001b[0m\u001b[0m\n",
      "\u001b[1;32mC:\\ProgramData\\Anaconda3\\lib\\site-packages\\pandas\\core\\generic.py\u001b[0m in \u001b[0;36msort_index\u001b[1;34m(self, axis, level, ascending, inplace, kind, na_position, sort_remaining, ignore_index, key)\u001b[0m\n\u001b[0;32m   4530\u001b[0m \u001b[1;33m\u001b[0m\u001b[0m\n\u001b[0;32m   4531\u001b[0m         \u001b[0minplace\u001b[0m \u001b[1;33m=\u001b[0m \u001b[0mvalidate_bool_kwarg\u001b[0m\u001b[1;33m(\u001b[0m\u001b[0minplace\u001b[0m\u001b[1;33m,\u001b[0m \u001b[1;34m\"inplace\"\u001b[0m\u001b[1;33m)\u001b[0m\u001b[1;33m\u001b[0m\u001b[1;33m\u001b[0m\u001b[0m\n\u001b[1;32m-> 4532\u001b[1;33m         \u001b[0maxis\u001b[0m \u001b[1;33m=\u001b[0m \u001b[0mself\u001b[0m\u001b[1;33m.\u001b[0m\u001b[0m_get_axis_number\u001b[0m\u001b[1;33m(\u001b[0m\u001b[0maxis\u001b[0m\u001b[1;33m)\u001b[0m\u001b[1;33m\u001b[0m\u001b[1;33m\u001b[0m\u001b[0m\n\u001b[0m\u001b[0;32m   4533\u001b[0m         \u001b[0mascending\u001b[0m \u001b[1;33m=\u001b[0m \u001b[0mvalidate_ascending\u001b[0m\u001b[1;33m(\u001b[0m\u001b[0mascending\u001b[0m\u001b[1;33m)\u001b[0m\u001b[1;33m\u001b[0m\u001b[1;33m\u001b[0m\u001b[0m\n\u001b[0;32m   4534\u001b[0m \u001b[1;33m\u001b[0m\u001b[0m\n",
      "\u001b[1;32mC:\\ProgramData\\Anaconda3\\lib\\site-packages\\pandas\\core\\generic.py\u001b[0m in \u001b[0;36m_get_axis_number\u001b[1;34m(cls, axis)\u001b[0m\n\u001b[0;32m    458\u001b[0m     \u001b[1;32mdef\u001b[0m \u001b[0m_get_axis_number\u001b[0m\u001b[1;33m(\u001b[0m\u001b[0mcls\u001b[0m\u001b[1;33m,\u001b[0m \u001b[0maxis\u001b[0m\u001b[1;33m:\u001b[0m \u001b[0mAxis\u001b[0m\u001b[1;33m)\u001b[0m \u001b[1;33m->\u001b[0m \u001b[0mint\u001b[0m\u001b[1;33m:\u001b[0m\u001b[1;33m\u001b[0m\u001b[1;33m\u001b[0m\u001b[0m\n\u001b[0;32m    459\u001b[0m         \u001b[1;32mtry\u001b[0m\u001b[1;33m:\u001b[0m\u001b[1;33m\u001b[0m\u001b[1;33m\u001b[0m\u001b[0m\n\u001b[1;32m--> 460\u001b[1;33m             \u001b[1;32mreturn\u001b[0m \u001b[0mcls\u001b[0m\u001b[1;33m.\u001b[0m\u001b[0m_AXIS_TO_AXIS_NUMBER\u001b[0m\u001b[1;33m[\u001b[0m\u001b[0maxis\u001b[0m\u001b[1;33m]\u001b[0m\u001b[1;33m\u001b[0m\u001b[1;33m\u001b[0m\u001b[0m\n\u001b[0m\u001b[0;32m    461\u001b[0m         \u001b[1;32mexcept\u001b[0m \u001b[0mKeyError\u001b[0m\u001b[1;33m:\u001b[0m\u001b[1;33m\u001b[0m\u001b[1;33m\u001b[0m\u001b[0m\n\u001b[0;32m    462\u001b[0m             \u001b[1;32mraise\u001b[0m \u001b[0mValueError\u001b[0m\u001b[1;33m(\u001b[0m\u001b[1;34mf\"No axis named {axis} for object type {cls.__name__}\"\u001b[0m\u001b[1;33m)\u001b[0m\u001b[1;33m\u001b[0m\u001b[1;33m\u001b[0m\u001b[0m\n",
      "\u001b[1;32mC:\\ProgramData\\Anaconda3\\lib\\site-packages\\pandas\\core\\indexes\\base.py\u001b[0m in \u001b[0;36m__hash__\u001b[1;34m(self)\u001b[0m\n\u001b[0;32m   4271\u001b[0m     \u001b[1;33m@\u001b[0m\u001b[0mfinal\u001b[0m\u001b[1;33m\u001b[0m\u001b[1;33m\u001b[0m\u001b[0m\n\u001b[0;32m   4272\u001b[0m     \u001b[1;32mdef\u001b[0m \u001b[0m__hash__\u001b[0m\u001b[1;33m(\u001b[0m\u001b[0mself\u001b[0m\u001b[1;33m)\u001b[0m\u001b[1;33m:\u001b[0m\u001b[1;33m\u001b[0m\u001b[1;33m\u001b[0m\u001b[0m\n\u001b[1;32m-> 4273\u001b[1;33m         \u001b[1;32mraise\u001b[0m \u001b[0mTypeError\u001b[0m\u001b[1;33m(\u001b[0m\u001b[1;34mf\"unhashable type: {repr(type(self).__name__)}\"\u001b[0m\u001b[1;33m)\u001b[0m\u001b[1;33m\u001b[0m\u001b[1;33m\u001b[0m\u001b[0m\n\u001b[0m\u001b[0;32m   4274\u001b[0m \u001b[1;33m\u001b[0m\u001b[0m\n\u001b[0;32m   4275\u001b[0m     \u001b[1;33m@\u001b[0m\u001b[0mfinal\u001b[0m\u001b[1;33m\u001b[0m\u001b[1;33m\u001b[0m\u001b[0m\n",
      "\u001b[1;31mTypeError\u001b[0m: unhashable type: 'Int64Index'"
     ]
    }
   ],
   "source": [
    "graph_per.sort_index"
   ]
  },
  {
   "cell_type": "code",
   "execution_count": 242,
   "id": "30288950",
   "metadata": {
    "scrolled": true
   },
   "outputs": [
    {
     "data": {
      "text/html": [
       "<div>\n",
       "<style scoped>\n",
       "    .dataframe tbody tr th:only-of-type {\n",
       "        vertical-align: middle;\n",
       "    }\n",
       "\n",
       "    .dataframe tbody tr th {\n",
       "        vertical-align: top;\n",
       "    }\n",
       "\n",
       "    .dataframe thead th {\n",
       "        text-align: right;\n",
       "    }\n",
       "</style>\n",
       "<table border=\"1\" class=\"dataframe\">\n",
       "  <thead>\n",
       "    <tr style=\"text-align: right;\">\n",
       "      <th></th>\n",
       "      <th>forcible_rape</th>\n",
       "      <th>thef</th>\n",
       "      <th>violence</th>\n",
       "      <th>forcible_rape_Tot</th>\n",
       "      <th>thef_tot</th>\n",
       "      <th>violence_Tot</th>\n",
       "    </tr>\n",
       "  </thead>\n",
       "  <tbody>\n",
       "    <tr>\n",
       "      <th>0</th>\n",
       "      <td>0.029827</td>\n",
       "      <td>0.229199</td>\n",
       "      <td>0.276295</td>\n",
       "      <td>0.456829</td>\n",
       "      <td>3.703297</td>\n",
       "      <td>3.811617</td>\n",
       "    </tr>\n",
       "    <tr>\n",
       "      <th>1</th>\n",
       "      <td>0.023810</td>\n",
       "      <td>0.777778</td>\n",
       "      <td>0.626984</td>\n",
       "      <td>0.595238</td>\n",
       "      <td>8.634921</td>\n",
       "      <td>10.134921</td>\n",
       "    </tr>\n",
       "    <tr>\n",
       "      <th>2</th>\n",
       "      <td>0.043478</td>\n",
       "      <td>0.801932</td>\n",
       "      <td>1.014493</td>\n",
       "      <td>0.695652</td>\n",
       "      <td>6.193237</td>\n",
       "      <td>11.782609</td>\n",
       "    </tr>\n",
       "    <tr>\n",
       "      <th>3</th>\n",
       "      <td>0.032143</td>\n",
       "      <td>0.985714</td>\n",
       "      <td>0.857143</td>\n",
       "      <td>0.903571</td>\n",
       "      <td>6.546429</td>\n",
       "      <td>10.596429</td>\n",
       "    </tr>\n",
       "    <tr>\n",
       "      <th>4</th>\n",
       "      <td>0.043478</td>\n",
       "      <td>0.534161</td>\n",
       "      <td>0.649068</td>\n",
       "      <td>0.950311</td>\n",
       "      <td>7.906832</td>\n",
       "      <td>9.593168</td>\n",
       "    </tr>\n",
       "  </tbody>\n",
       "</table>\n",
       "</div>"
      ],
      "text/plain": [
       "   forcible_rape      thef  violence  forcible_rape_Tot  thef_tot  \\\n",
       "0       0.029827  0.229199  0.276295           0.456829  3.703297   \n",
       "1       0.023810  0.777778  0.626984           0.595238  8.634921   \n",
       "2       0.043478  0.801932  1.014493           0.695652  6.193237   \n",
       "3       0.032143  0.985714  0.857143           0.903571  6.546429   \n",
       "4       0.043478  0.534161  0.649068           0.950311  7.906832   \n",
       "\n",
       "   violence_Tot  \n",
       "0      3.811617  \n",
       "1     10.134921  \n",
       "2     11.782609  \n",
       "3     10.596429  \n",
       "4      9.593168  "
      ]
     },
     "execution_count": 242,
     "metadata": {},
     "output_type": "execute_result"
    }
   ],
   "source": [
    "# 유흥업소 하나당 범죄율\n",
    "graph_per = graph.div(df['pub'], axis=0)\n",
    "graph_per.head()\n",
    "\n",
    "\n"
   ]
  },
  {
   "cell_type": "code",
   "execution_count": null,
   "id": "ecf8ca8f",
   "metadata": {},
   "outputs": [],
   "source": []
  },
  {
   "cell_type": "code",
   "execution_count": 251,
   "id": "df0e0145",
   "metadata": {},
   "outputs": [],
   "source": [
    "graph_per = pd.concat([df['region'] ,graph_per], axis=1).sort_values('thef_tot')"
   ]
  },
  {
   "cell_type": "code",
   "execution_count": 292,
   "id": "794f55ac",
   "metadata": {},
   "outputs": [
    {
     "data": {
      "text/plain": [
       "<BarContainer object of 25 artists>"
      ]
     },
     "execution_count": 292,
     "metadata": {},
     "output_type": "execute_result"
    },
    {
     "data": {
      "image/png": "[encoded data removed]",
      "text/plain": [
       "<Figure size 1440x576 with 1 Axes>"
      ]
     },
     "metadata": {},
     "output_type": "display_data"
    }
   ],
   "source": [
    "plt.figure(figsize=(20,8))\n",
    "plt.bar(graph_per['region'], graph_per['thef_tot'], width=0.5)\n",
    "plt.bar(graph_per['region'], graph_per['thef']*4, width=0.5)"
   ]
  },
  {
   "cell_type": "code",
   "execution_count": 223,
   "id": "05450c7b",
   "metadata": {},
   "outputs": [
    {
     "data": {
      "text/html": [
       "<div>\n",
       "<style scoped>\n",
       "    .dataframe tbody tr th:only-of-type {\n",
       "        vertical-align: middle;\n",
       "    }\n",
       "\n",
       "    .dataframe tbody tr th {\n",
       "        vertical-align: top;\n",
       "    }\n",
       "\n",
       "    .dataframe thead th {\n",
       "        text-align: right;\n",
       "    }\n",
       "</style>\n",
       "<table border=\"1\" class=\"dataframe\">\n",
       "  <thead>\n",
       "    <tr style=\"text-align: right;\">\n",
       "      <th></th>\n",
       "      <th>location</th>\n",
       "      <th>murder</th>\n",
       "      <th>robbery</th>\n",
       "      <th>forcible_rape</th>\n",
       "      <th>thief</th>\n",
       "      <th>violence</th>\n",
       "    </tr>\n",
       "  </thead>\n",
       "  <tbody>\n",
       "    <tr>\n",
       "      <th>27</th>\n",
       "      <td>방  배</td>\n",
       "      <td>0</td>\n",
       "      <td>0</td>\n",
       "      <td>0</td>\n",
       "      <td>32</td>\n",
       "      <td>9</td>\n",
       "    </tr>\n",
       "    <tr>\n",
       "      <th>1</th>\n",
       "      <td>종  로</td>\n",
       "      <td>0</td>\n",
       "      <td>3</td>\n",
       "      <td>4</td>\n",
       "      <td>34</td>\n",
       "      <td>57</td>\n",
       "    </tr>\n",
       "    <tr>\n",
       "      <th>4</th>\n",
       "      <td>혜  화</td>\n",
       "      <td>0</td>\n",
       "      <td>2</td>\n",
       "      <td>2</td>\n",
       "      <td>38</td>\n",
       "      <td>29</td>\n",
       "    </tr>\n",
       "    <tr>\n",
       "      <th>23</th>\n",
       "      <td>서  초</td>\n",
       "      <td>0</td>\n",
       "      <td>1</td>\n",
       "      <td>7</td>\n",
       "      <td>39</td>\n",
       "      <td>66</td>\n",
       "    </tr>\n",
       "    <tr>\n",
       "      <th>2</th>\n",
       "      <td>남대문</td>\n",
       "      <td>0</td>\n",
       "      <td>0</td>\n",
       "      <td>0</td>\n",
       "      <td>43</td>\n",
       "      <td>4</td>\n",
       "    </tr>\n",
       "  </tbody>\n",
       "</table>\n",
       "</div>"
      ],
      "text/plain": [
       "   location  murder  robbery  forcible_rape  thief  violence\n",
       "27     방  배       0        0              0     32         9\n",
       "1      종  로       0        3              4     34        57\n",
       "4      혜  화       0        2              2     38        29\n",
       "23     서  초       0        1              7     39        66\n",
       "2       남대문       0        0              0     43         4"
      ]
     },
     "execution_count": 223,
     "metadata": {},
     "output_type": "execute_result"
    }
   ],
   "source": [
    "crime.head()"
   ]
  },
  {
   "cell_type": "code",
   "execution_count": 225,
   "id": "69c6b5f6",
   "metadata": {
    "scrolled": true
   },
   "outputs": [
    {
     "data": {
      "text/plain": [
       "<BarContainer object of 31 artists>"
      ]
     },
     "execution_count": 225,
     "metadata": {},
     "output_type": "execute_result"
    },
    {
     "data": {
      "image/png": "[encoded data removed]",
      "text/plain": [
       "<Figure size 1440x576 with 1 Axes>"
      ]
     },
     "metadata": {
      "needs_background": "light"
     },
     "output_type": "display_data"
    }
   ],
   "source": [
    "plt.figure(figsize=(20,8))\n",
    "plt.bar(crime['location'], crime['thief'])"
   ]
  },
  {
   "cell_type": "code",
   "execution_count": 263,
   "id": "b595c153",
   "metadata": {},
   "outputs": [],
   "source": [
    "temp = pd.concat([graph_per.sort_index()['thef_tot'],graph['thef_tot']], axis=1)"
   ]
  },
  {
   "cell_type": "code",
   "execution_count": 264,
   "id": "e30650ad",
   "metadata": {},
   "outputs": [],
   "source": [
    "from sklearn.preprocessing import MinMaxScaler\n",
    "mms = MinMaxScaler()"
   ]
  },
  {
   "cell_type": "code",
   "execution_count": 274,
   "id": "2b899f16",
   "metadata": {},
   "outputs": [],
   "source": [
    "temp2 = mms.fit_transform(temp)"
   ]
  },
  {
   "cell_type": "code",
   "execution_count": 276,
   "id": "8685814d",
   "metadata": {},
   "outputs": [],
   "source": [
    "temp3 = pd.DataFrame(temp2)"
   ]
  },
  {
   "cell_type": "code",
   "execution_count": 277,
   "id": "1503e25c",
   "metadata": {
    "scrolled": true
   },
   "outputs": [
    {
     "data": {
      "text/html": [
       "<div>\n",
       "<style scoped>\n",
       "    .dataframe tbody tr th:only-of-type {\n",
       "        vertical-align: middle;\n",
       "    }\n",
       "\n",
       "    .dataframe tbody tr th {\n",
       "        vertical-align: top;\n",
       "    }\n",
       "\n",
       "    .dataframe thead th {\n",
       "        text-align: right;\n",
       "    }\n",
       "</style>\n",
       "<table border=\"1\" class=\"dataframe\">\n",
       "  <thead>\n",
       "    <tr style=\"text-align: right;\">\n",
       "      <th></th>\n",
       "      <th>0</th>\n",
       "      <th>1</th>\n",
       "    </tr>\n",
       "  </thead>\n",
       "  <tbody>\n",
       "    <tr>\n",
       "      <th>0</th>\n",
       "      <td>0.037912</td>\n",
       "      <td>0.695461</td>\n",
       "    </tr>\n",
       "    <tr>\n",
       "      <th>1</th>\n",
       "      <td>0.248561</td>\n",
       "      <td>0.614808</td>\n",
       "    </tr>\n",
       "    <tr>\n",
       "      <th>2</th>\n",
       "      <td>0.144267</td>\n",
       "      <td>0.220802</td>\n",
       "    </tr>\n",
       "    <tr>\n",
       "      <th>3</th>\n",
       "      <td>0.159353</td>\n",
       "      <td>0.463640</td>\n",
       "    </tr>\n",
       "    <tr>\n",
       "      <th>4</th>\n",
       "      <td>0.217462</td>\n",
       "      <td>0.777876</td>\n",
       "    </tr>\n",
       "    <tr>\n",
       "      <th>5</th>\n",
       "      <td>1.000000</td>\n",
       "      <td>0.927281</td>\n",
       "    </tr>\n",
       "    <tr>\n",
       "      <th>6</th>\n",
       "      <td>0.512358</td>\n",
       "      <td>0.621860</td>\n",
       "    </tr>\n",
       "    <tr>\n",
       "      <th>7</th>\n",
       "      <td>0.308975</td>\n",
       "      <td>0.284707</td>\n",
       "    </tr>\n",
       "    <tr>\n",
       "      <th>8</th>\n",
       "      <td>0.845458</td>\n",
       "      <td>0.522697</td>\n",
       "    </tr>\n",
       "    <tr>\n",
       "      <th>9</th>\n",
       "      <td>0.408034</td>\n",
       "      <td>0.070075</td>\n",
       "    </tr>\n",
       "    <tr>\n",
       "      <th>10</th>\n",
       "      <td>0.247322</td>\n",
       "      <td>0.425738</td>\n",
       "    </tr>\n",
       "    <tr>\n",
       "      <th>11</th>\n",
       "      <td>0.611303</td>\n",
       "      <td>0.486117</td>\n",
       "    </tr>\n",
       "    <tr>\n",
       "      <th>12</th>\n",
       "      <td>0.468694</td>\n",
       "      <td>0.719260</td>\n",
       "    </tr>\n",
       "    <tr>\n",
       "      <th>13</th>\n",
       "      <td>0.490307</td>\n",
       "      <td>0.468488</td>\n",
       "    </tr>\n",
       "    <tr>\n",
       "      <th>14</th>\n",
       "      <td>0.040112</td>\n",
       "      <td>0.000000</td>\n",
       "    </tr>\n",
       "    <tr>\n",
       "      <th>15</th>\n",
       "      <td>0.751902</td>\n",
       "      <td>0.321728</td>\n",
       "    </tr>\n",
       "    <tr>\n",
       "      <th>16</th>\n",
       "      <td>0.314234</td>\n",
       "      <td>0.045835</td>\n",
       "    </tr>\n",
       "    <tr>\n",
       "      <th>17</th>\n",
       "      <td>0.348354</td>\n",
       "      <td>1.000000</td>\n",
       "    </tr>\n",
       "    <tr>\n",
       "      <th>18</th>\n",
       "      <td>0.717991</td>\n",
       "      <td>0.416924</td>\n",
       "    </tr>\n",
       "    <tr>\n",
       "      <th>19</th>\n",
       "      <td>0.128129</td>\n",
       "      <td>0.919348</td>\n",
       "    </tr>\n",
       "    <tr>\n",
       "      <th>20</th>\n",
       "      <td>0.266201</td>\n",
       "      <td>0.321728</td>\n",
       "    </tr>\n",
       "    <tr>\n",
       "      <th>21</th>\n",
       "      <td>0.064394</td>\n",
       "      <td>0.097840</td>\n",
       "    </tr>\n",
       "    <tr>\n",
       "      <th>22</th>\n",
       "      <td>0.000000</td>\n",
       "      <td>0.113706</td>\n",
       "    </tr>\n",
       "    <tr>\n",
       "      <th>23</th>\n",
       "      <td>0.164450</td>\n",
       "      <td>0.728074</td>\n",
       "    </tr>\n",
       "    <tr>\n",
       "      <th>24</th>\n",
       "      <td>0.516232</td>\n",
       "      <td>0.522697</td>\n",
       "    </tr>\n",
       "  </tbody>\n",
       "</table>\n",
       "</div>"
      ],
      "text/plain": [
       "           0         1\n",
       "0   0.037912  0.695461\n",
       "1   0.248561  0.614808\n",
       "2   0.144267  0.220802\n",
       "3   0.159353  0.463640\n",
       "4   0.217462  0.777876\n",
       "5   1.000000  0.927281\n",
       "6   0.512358  0.621860\n",
       "7   0.308975  0.284707\n",
       "8   0.845458  0.522697\n",
       "9   0.408034  0.070075\n",
       "10  0.247322  0.425738\n",
       "11  0.611303  0.486117\n",
       "12  0.468694  0.719260\n",
       "13  0.490307  0.468488\n",
       "14  0.040112  0.000000\n",
       "15  0.751902  0.321728\n",
       "16  0.314234  0.045835\n",
       "17  0.348354  1.000000\n",
       "18  0.717991  0.416924\n",
       "19  0.128129  0.919348\n",
       "20  0.266201  0.321728\n",
       "21  0.064394  0.097840\n",
       "22  0.000000  0.113706\n",
       "23  0.164450  0.728074\n",
       "24  0.516232  0.522697"
      ]
     },
     "execution_count": 277,
     "metadata": {},
     "output_type": "execute_result"
    }
   ],
   "source": [
    "temp3"
   ]
  },
  {
   "cell_type": "code",
   "execution_count": 282,
   "id": "1bd18702",
   "metadata": {
    "scrolled": true
   },
   "outputs": [
    {
     "data": {
      "text/plain": [
       "<BarContainer object of 25 artists>"
      ]
     },
     "execution_count": 282,
     "metadata": {},
     "output_type": "execute_result"
    },
    {
     "data": {
      "image/png": "[encoded data removed]",
      "text/plain": [
       "<Figure size 1440x576 with 1 Axes>"
      ]
     },
     "metadata": {},
     "output_type": "display_data"
    }
   ],
   "source": [
    "plt.figure(figsize=(20,8))\n",
    "plt.bar(df['region'], temp3[0], width=1)\n",
    "plt.bar(df['region'], temp3[1], width=0.5)\n"
   ]
  },
  {
   "cell_type": "code",
   "execution_count": 279,
   "id": "9be9bf8b",
   "metadata": {},
   "outputs": [
    {
     "data": {
      "text/html": [
       "<div>\n",
       "<style scoped>\n",
       "    .dataframe tbody tr th:only-of-type {\n",
       "        vertical-align: middle;\n",
       "    }\n",
       "\n",
       "    .dataframe tbody tr th {\n",
       "        vertical-align: top;\n",
       "    }\n",
       "\n",
       "    .dataframe thead th {\n",
       "        text-align: right;\n",
       "    }\n",
       "</style>\n",
       "<table border=\"1\" class=\"dataframe\">\n",
       "  <thead>\n",
       "    <tr style=\"text-align: right;\">\n",
       "      <th></th>\n",
       "      <th>forcible_rape</th>\n",
       "      <th>thef</th>\n",
       "      <th>violence</th>\n",
       "      <th>forcible_rape_Tot</th>\n",
       "      <th>thef_tot</th>\n",
       "      <th>violence_Tot</th>\n",
       "    </tr>\n",
       "  </thead>\n",
       "  <tbody>\n",
       "    <tr>\n",
       "      <th>0</th>\n",
       "      <td>19</td>\n",
       "      <td>146</td>\n",
       "      <td>176</td>\n",
       "      <td>291</td>\n",
       "      <td>2359</td>\n",
       "      <td>2428</td>\n",
       "    </tr>\n",
       "    <tr>\n",
       "      <th>1</th>\n",
       "      <td>6</td>\n",
       "      <td>196</td>\n",
       "      <td>158</td>\n",
       "      <td>150</td>\n",
       "      <td>2176</td>\n",
       "      <td>2554</td>\n",
       "    </tr>\n",
       "    <tr>\n",
       "      <th>2</th>\n",
       "      <td>9</td>\n",
       "      <td>166</td>\n",
       "      <td>210</td>\n",
       "      <td>144</td>\n",
       "      <td>1282</td>\n",
       "      <td>2439</td>\n",
       "    </tr>\n",
       "    <tr>\n",
       "      <th>3</th>\n",
       "      <td>9</td>\n",
       "      <td>276</td>\n",
       "      <td>240</td>\n",
       "      <td>253</td>\n",
       "      <td>1833</td>\n",
       "      <td>2967</td>\n",
       "    </tr>\n",
       "    <tr>\n",
       "      <th>4</th>\n",
       "      <td>14</td>\n",
       "      <td>172</td>\n",
       "      <td>209</td>\n",
       "      <td>306</td>\n",
       "      <td>2546</td>\n",
       "      <td>3089</td>\n",
       "    </tr>\n",
       "    <tr>\n",
       "      <th>5</th>\n",
       "      <td>29</td>\n",
       "      <td>155</td>\n",
       "      <td>153</td>\n",
       "      <td>211</td>\n",
       "      <td>2885</td>\n",
       "      <td>2472</td>\n",
       "    </tr>\n",
       "    <tr>\n",
       "      <th>6</th>\n",
       "      <td>3</td>\n",
       "      <td>158</td>\n",
       "      <td>194</td>\n",
       "      <td>278</td>\n",
       "      <td>2192</td>\n",
       "      <td>2813</td>\n",
       "    </tr>\n",
       "    <tr>\n",
       "      <th>7</th>\n",
       "      <td>7</td>\n",
       "      <td>146</td>\n",
       "      <td>66</td>\n",
       "      <td>144</td>\n",
       "      <td>1427</td>\n",
       "      <td>1988</td>\n",
       "    </tr>\n",
       "    <tr>\n",
       "      <th>8</th>\n",
       "      <td>14</td>\n",
       "      <td>233</td>\n",
       "      <td>337</td>\n",
       "      <td>183</td>\n",
       "      <td>1967</td>\n",
       "      <td>2386</td>\n",
       "    </tr>\n",
       "    <tr>\n",
       "      <th>9</th>\n",
       "      <td>21</td>\n",
       "      <td>132</td>\n",
       "      <td>107</td>\n",
       "      <td>81</td>\n",
       "      <td>940</td>\n",
       "      <td>1380</td>\n",
       "    </tr>\n",
       "    <tr>\n",
       "      <th>10</th>\n",
       "      <td>5</td>\n",
       "      <td>127</td>\n",
       "      <td>76</td>\n",
       "      <td>280</td>\n",
       "      <td>1747</td>\n",
       "      <td>1834</td>\n",
       "    </tr>\n",
       "    <tr>\n",
       "      <th>11</th>\n",
       "      <td>6</td>\n",
       "      <td>110</td>\n",
       "      <td>65</td>\n",
       "      <td>167</td>\n",
       "      <td>1884</td>\n",
       "      <td>2483</td>\n",
       "    </tr>\n",
       "    <tr>\n",
       "      <th>12</th>\n",
       "      <td>13</td>\n",
       "      <td>156</td>\n",
       "      <td>164</td>\n",
       "      <td>281</td>\n",
       "      <td>2413</td>\n",
       "      <td>2819</td>\n",
       "    </tr>\n",
       "    <tr>\n",
       "      <th>13</th>\n",
       "      <td>5</td>\n",
       "      <td>146</td>\n",
       "      <td>103</td>\n",
       "      <td>329</td>\n",
       "      <td>1844</td>\n",
       "      <td>1749</td>\n",
       "    </tr>\n",
       "    <tr>\n",
       "      <th>14</th>\n",
       "      <td>7</td>\n",
       "      <td>72</td>\n",
       "      <td>75</td>\n",
       "      <td>63</td>\n",
       "      <td>781</td>\n",
       "      <td>1126</td>\n",
       "    </tr>\n",
       "    <tr>\n",
       "      <th>15</th>\n",
       "      <td>11</td>\n",
       "      <td>105</td>\n",
       "      <td>73</td>\n",
       "      <td>115</td>\n",
       "      <td>1511</td>\n",
       "      <td>1539</td>\n",
       "    </tr>\n",
       "    <tr>\n",
       "      <th>16</th>\n",
       "      <td>11</td>\n",
       "      <td>134</td>\n",
       "      <td>139</td>\n",
       "      <td>81</td>\n",
       "      <td>885</td>\n",
       "      <td>1095</td>\n",
       "    </tr>\n",
       "    <tr>\n",
       "      <th>17</th>\n",
       "      <td>8</td>\n",
       "      <td>202</td>\n",
       "      <td>165</td>\n",
       "      <td>212</td>\n",
       "      <td>3050</td>\n",
       "      <td>3130</td>\n",
       "    </tr>\n",
       "    <tr>\n",
       "      <th>18</th>\n",
       "      <td>8</td>\n",
       "      <td>169</td>\n",
       "      <td>144</td>\n",
       "      <td>112</td>\n",
       "      <td>1727</td>\n",
       "      <td>2365</td>\n",
       "    </tr>\n",
       "    <tr>\n",
       "      <th>19</th>\n",
       "      <td>6</td>\n",
       "      <td>119</td>\n",
       "      <td>118</td>\n",
       "      <td>289</td>\n",
       "      <td>2867</td>\n",
       "      <td>3454</td>\n",
       "    </tr>\n",
       "    <tr>\n",
       "      <th>20</th>\n",
       "      <td>4</td>\n",
       "      <td>60</td>\n",
       "      <td>70</td>\n",
       "      <td>190</td>\n",
       "      <td>1511</td>\n",
       "      <td>1980</td>\n",
       "    </tr>\n",
       "    <tr>\n",
       "      <th>21</th>\n",
       "      <td>12</td>\n",
       "      <td>219</td>\n",
       "      <td>252</td>\n",
       "      <td>88</td>\n",
       "      <td>1003</td>\n",
       "      <td>1340</td>\n",
       "    </tr>\n",
       "    <tr>\n",
       "      <th>22</th>\n",
       "      <td>6</td>\n",
       "      <td>77</td>\n",
       "      <td>86</td>\n",
       "      <td>111</td>\n",
       "      <td>1039</td>\n",
       "      <td>1221</td>\n",
       "    </tr>\n",
       "    <tr>\n",
       "      <th>23</th>\n",
       "      <td>3</td>\n",
       "      <td>84</td>\n",
       "      <td>71</td>\n",
       "      <td>198</td>\n",
       "      <td>2433</td>\n",
       "      <td>2299</td>\n",
       "    </tr>\n",
       "    <tr>\n",
       "      <th>24</th>\n",
       "      <td>9</td>\n",
       "      <td>179</td>\n",
       "      <td>193</td>\n",
       "      <td>178</td>\n",
       "      <td>1967</td>\n",
       "      <td>2654</td>\n",
       "    </tr>\n",
       "  </tbody>\n",
       "</table>\n",
       "</div>"
      ],
      "text/plain": [
       "    forcible_rape  thef  violence  forcible_rape_Tot  thef_tot  violence_Tot\n",
       "0              19   146       176                291      2359          2428\n",
       "1               6   196       158                150      2176          2554\n",
       "2               9   166       210                144      1282          2439\n",
       "3               9   276       240                253      1833          2967\n",
       "4              14   172       209                306      2546          3089\n",
       "5              29   155       153                211      2885          2472\n",
       "6               3   158       194                278      2192          2813\n",
       "7               7   146        66                144      1427          1988\n",
       "8              14   233       337                183      1967          2386\n",
       "9              21   132       107                 81       940          1380\n",
       "10              5   127        76                280      1747          1834\n",
       "11              6   110        65                167      1884          2483\n",
       "12             13   156       164                281      2413          2819\n",
       "13              5   146       103                329      1844          1749\n",
       "14              7    72        75                 63       781          1126\n",
       "15             11   105        73                115      1511          1539\n",
       "16             11   134       139                 81       885          1095\n",
       "17              8   202       165                212      3050          3130\n",
       "18              8   169       144                112      1727          2365\n",
       "19              6   119       118                289      2867          3454\n",
       "20              4    60        70                190      1511          1980\n",
       "21             12   219       252                 88      1003          1340\n",
       "22              6    77        86                111      1039          1221\n",
       "23              3    84        71                198      2433          2299\n",
       "24              9   179       193                178      1967          2654"
      ]
     },
     "execution_count": 279,
     "metadata": {},
     "output_type": "execute_result"
    }
   ],
   "source": [
    "graph"
   ]
  },
  {
   "cell_type": "code",
   "execution_count": null,
   "id": "0c4b6f14",
   "metadata": {},
   "outputs": [],
   "source": []
  }
 ],
 "metadata": {
  "kernelspec": {
   "display_name": "Python 3",
   "language": "python",
   "name": "python3"
  },
  "language_info": {
   "codemirror_mode": {
    "name": "ipython",
    "version": 3
   },
   "file_extension": ".py",
   "mimetype": "text/x-python",
   "name": "python",
   "nbconvert_exporter": "python",
   "pygments_lexer": "ipython3",
   "version": "3.8.8"
  }
 },
 "nbformat": 4,
 "nbformat_minor": 5
}
