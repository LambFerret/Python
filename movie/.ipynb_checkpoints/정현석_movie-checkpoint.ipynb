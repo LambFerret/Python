{
 "cells": [
  {
   "cell_type": "code",
   "execution_count": 2,
   "id": "b53fe65c",
   "metadata": {},
   "outputs": [
    {
     "data": {
      "text/html": [
       "<div>\n",
       "<style scoped>\n",
       "    .dataframe tbody tr th:only-of-type {\n",
       "        vertical-align: middle;\n",
       "    }\n",
       "\n",
       "    .dataframe tbody tr th {\n",
       "        vertical-align: top;\n",
       "    }\n",
       "\n",
       "    .dataframe thead th {\n",
       "        text-align: right;\n",
       "    }\n",
       "</style>\n",
       "<table border=\"1\" class=\"dataframe\">\n",
       "  <thead>\n",
       "    <tr style=\"text-align: right;\">\n",
       "      <th></th>\n",
       "      <th>title</th>\n",
       "      <th>year</th>\n",
       "    </tr>\n",
       "  </thead>\n",
       "  <tbody>\n",
       "    <tr>\n",
       "      <th>0</th>\n",
       "      <td>The Rising Son</td>\n",
       "      <td>1990</td>\n",
       "    </tr>\n",
       "    <tr>\n",
       "      <th>1</th>\n",
       "      <td>Ashes of Kukulcan</td>\n",
       "      <td>2016</td>\n",
       "    </tr>\n",
       "    <tr>\n",
       "      <th>2</th>\n",
       "      <td>The Thousand Plane Raid</td>\n",
       "      <td>1969</td>\n",
       "    </tr>\n",
       "    <tr>\n",
       "      <th>3</th>\n",
       "      <td>Crucea de piatra</td>\n",
       "      <td>1993</td>\n",
       "    </tr>\n",
       "    <tr>\n",
       "      <th>4</th>\n",
       "      <td>The 86</td>\n",
       "      <td>2015</td>\n",
       "    </tr>\n",
       "  </tbody>\n",
       "</table>\n",
       "</div>"
      ],
      "text/plain": [
       "                     title  year\n",
       "0           The Rising Son  1990\n",
       "1        Ashes of Kukulcan  2016\n",
       "2  The Thousand Plane Raid  1969\n",
       "3         Crucea de piatra  1993\n",
       "4                   The 86  2015"
      ]
     },
     "execution_count": 2,
     "metadata": {},
     "output_type": "execute_result"
    }
   ],
   "source": [
    "import numpy as np \n",
    "import pandas as pd\n",
    "\n",
    "movie = pd.read_csv('movies_title.csv')\n",
    "movie.head()"
   ]
  },
  {
   "cell_type": "markdown",
   "id": "9e2e7701",
   "metadata": {},
   "source": [
    "\n",
    "  - 1. 데이터셋  영화 타이틀 데이터 셋. \n",
    "      -. moves_title.csv \n",
    "  - 2. titles의 Data Frame을 만든다. \n",
    "  - 3. df 필수 명령 8가지 실행 \n",
    "  - 4. 전체 영화는 몇개인가? \n",
    "  - 5. 가장 빠른 시기에 제작된 영화 2개를 찾아라. \n",
    "  - 6. 제목이 \"Hamlet\"인 영화는 몇개인가? \n",
    "  - 7. 제목이 \"Treasure Island\"는 몇개인가? 제작년도 오름차순으로 나열\n",
    "  - 8. 1950년에서 1959년사이에 만들어진 영화는 몇개인가? \n"
   ]
  },
  {
   "cell_type": "code",
   "execution_count": null,
   "id": "60abd1be",
   "metadata": {},
   "outputs": [],
   "source": [
    "#1"
   ]
  },
  {
   "cell_type": "code",
   "execution_count": null,
   "id": "043940d1",
   "metadata": {},
   "outputs": [],
   "source": [
    "#2"
   ]
  },
  {
   "cell_type": "code",
   "execution_count": null,
   "id": "3cbf9b7e",
   "metadata": {},
   "outputs": [],
   "source": [
    "#3\n",
    "movie.head()\n",
    "movie.tail()\n",
    "movie.describe()\n",
    "movie.info()\n",
    "movie.loc[5,'title']\n",
    "movie.isnull().sum()\n",
    "movie['title'].value_counts()\n",
    "movie.columns\n",
    "#set_index(),index, columns, value_counts(), astype"
   ]
  },
  {
   "cell_type": "code",
   "execution_count": 33,
   "id": "239ea891",
   "metadata": {},
   "outputs": [
    {
     "data": {
      "text/plain": [
       "215981"
      ]
     },
     "execution_count": 33,
     "metadata": {},
     "output_type": "execute_result"
    }
   ],
   "source": [
    "#4\n",
    "movie.shape[0]"
   ]
  },
  {
   "cell_type": "code",
   "execution_count": 47,
   "id": "b0af565a",
   "metadata": {},
   "outputs": [
    {
     "data": {
      "text/html": [
       "<div>\n",
       "<style scoped>\n",
       "    .dataframe tbody tr th:only-of-type {\n",
       "        vertical-align: middle;\n",
       "    }\n",
       "\n",
       "    .dataframe tbody tr th {\n",
       "        vertical-align: top;\n",
       "    }\n",
       "\n",
       "    .dataframe thead th {\n",
       "        text-align: right;\n",
       "    }\n",
       "</style>\n",
       "<table border=\"1\" class=\"dataframe\">\n",
       "  <thead>\n",
       "    <tr style=\"text-align: right;\">\n",
       "      <th></th>\n",
       "      <th>title</th>\n",
       "      <th>year</th>\n",
       "    </tr>\n",
       "  </thead>\n",
       "  <tbody>\n",
       "    <tr>\n",
       "      <th>165182</th>\n",
       "      <td>Miss Jerry</td>\n",
       "      <td>1894</td>\n",
       "    </tr>\n",
       "    <tr>\n",
       "      <th>85708</th>\n",
       "      <td>Reproduction of the Corbett and Fitzsimmons Fight</td>\n",
       "      <td>1897</td>\n",
       "    </tr>\n",
       "  </tbody>\n",
       "</table>\n",
       "</div>"
      ],
      "text/plain": [
       "                                                    title  year\n",
       "165182                                         Miss Jerry  1894\n",
       "85708   Reproduction of the Corbett and Fitzsimmons Fight  1897"
      ]
     },
     "execution_count": 47,
     "metadata": {},
     "output_type": "execute_result"
    }
   ],
   "source": [
    "#5\n",
    "movie.sort_values('year').head(2)"
   ]
  },
  {
   "cell_type": "code",
   "execution_count": 32,
   "id": "fe78fe86",
   "metadata": {},
   "outputs": [
    {
     "data": {
      "text/plain": [
       "54"
      ]
     },
     "execution_count": 32,
     "metadata": {},
     "output_type": "execute_result"
    }
   ],
   "source": [
    "#6\n",
    "movie[movie['title'].str.contains('Hamlet')].shape[0]"
   ]
  },
  {
   "cell_type": "code",
   "execution_count": 30,
   "id": "789798ab",
   "metadata": {},
   "outputs": [
    {
     "data": {
      "text/html": [
       "<div>\n",
       "<style scoped>\n",
       "    .dataframe tbody tr th:only-of-type {\n",
       "        vertical-align: middle;\n",
       "    }\n",
       "\n",
       "    .dataframe tbody tr th {\n",
       "        vertical-align: top;\n",
       "    }\n",
       "\n",
       "    .dataframe thead th {\n",
       "        text-align: right;\n",
       "    }\n",
       "</style>\n",
       "<table border=\"1\" class=\"dataframe\">\n",
       "  <thead>\n",
       "    <tr style=\"text-align: right;\">\n",
       "      <th></th>\n",
       "      <th>title</th>\n",
       "      <th>year</th>\n",
       "    </tr>\n",
       "  </thead>\n",
       "  <tbody>\n",
       "    <tr>\n",
       "      <th>191379</th>\n",
       "      <td>Treasure Island</td>\n",
       "      <td>1918</td>\n",
       "    </tr>\n",
       "    <tr>\n",
       "      <th>47769</th>\n",
       "      <td>Treasure Island</td>\n",
       "      <td>1920</td>\n",
       "    </tr>\n",
       "    <tr>\n",
       "      <th>192917</th>\n",
       "      <td>Treasure Island</td>\n",
       "      <td>1934</td>\n",
       "    </tr>\n",
       "    <tr>\n",
       "      <th>134298</th>\n",
       "      <td>The Secret of Treasure Island</td>\n",
       "      <td>1938</td>\n",
       "    </tr>\n",
       "    <tr>\n",
       "      <th>55661</th>\n",
       "      <td>Charlie Chan at Treasure Island</td>\n",
       "      <td>1939</td>\n",
       "    </tr>\n",
       "    <tr>\n",
       "      <th>90175</th>\n",
       "      <td>Treasure Island</td>\n",
       "      <td>1950</td>\n",
       "    </tr>\n",
       "    <tr>\n",
       "      <th>174084</th>\n",
       "      <td>Return to Treasure Island</td>\n",
       "      <td>1954</td>\n",
       "    </tr>\n",
       "    <tr>\n",
       "      <th>153356</th>\n",
       "      <td>Five on a Treasure Island</td>\n",
       "      <td>1957</td>\n",
       "    </tr>\n",
       "    <tr>\n",
       "      <th>104714</th>\n",
       "      <td>Treasure Island</td>\n",
       "      <td>1972</td>\n",
       "    </tr>\n",
       "    <tr>\n",
       "      <th>103646</th>\n",
       "      <td>Treasure Island</td>\n",
       "      <td>1973</td>\n",
       "    </tr>\n",
       "    <tr>\n",
       "      <th>190792</th>\n",
       "      <td>Treasure Island</td>\n",
       "      <td>1985</td>\n",
       "    </tr>\n",
       "    <tr>\n",
       "      <th>121716</th>\n",
       "      <td>Muppet Treasure Island</td>\n",
       "      <td>1996</td>\n",
       "    </tr>\n",
       "    <tr>\n",
       "      <th>95292</th>\n",
       "      <td>Treasure Island (II)</td>\n",
       "      <td>1999</td>\n",
       "    </tr>\n",
       "    <tr>\n",
       "      <th>166675</th>\n",
       "      <td>Treasure Island</td>\n",
       "      <td>1999</td>\n",
       "    </tr>\n",
       "    <tr>\n",
       "      <th>26182</th>\n",
       "      <td>Pirates of Treasure Island</td>\n",
       "      <td>2006</td>\n",
       "    </tr>\n",
       "    <tr>\n",
       "      <th>167715</th>\n",
       "      <td>Treasure Island Kids: The Mystery of Treasure ...</td>\n",
       "      <td>2006</td>\n",
       "    </tr>\n",
       "    <tr>\n",
       "      <th>185460</th>\n",
       "      <td>Treasure Island Kids: The Battle of Treasure I...</td>\n",
       "      <td>2006</td>\n",
       "    </tr>\n",
       "    <tr>\n",
       "      <th>207832</th>\n",
       "      <td>Treasure Island Kids: The Monster of Treasure ...</td>\n",
       "      <td>2006</td>\n",
       "    </tr>\n",
       "    <tr>\n",
       "      <th>178074</th>\n",
       "      <td>National Theatre Live: Treasure Island</td>\n",
       "      <td>2015</td>\n",
       "    </tr>\n",
       "  </tbody>\n",
       "</table>\n",
       "</div>"
      ],
      "text/plain": [
       "                                                    title  year\n",
       "191379                                    Treasure Island  1918\n",
       "47769                                     Treasure Island  1920\n",
       "192917                                    Treasure Island  1934\n",
       "134298                      The Secret of Treasure Island  1938\n",
       "55661                     Charlie Chan at Treasure Island  1939\n",
       "90175                                     Treasure Island  1950\n",
       "174084                          Return to Treasure Island  1954\n",
       "153356                          Five on a Treasure Island  1957\n",
       "104714                                    Treasure Island  1972\n",
       "103646                                    Treasure Island  1973\n",
       "190792                                    Treasure Island  1985\n",
       "121716                             Muppet Treasure Island  1996\n",
       "95292                                Treasure Island (II)  1999\n",
       "166675                                    Treasure Island  1999\n",
       "26182                          Pirates of Treasure Island  2006\n",
       "167715  Treasure Island Kids: The Mystery of Treasure ...  2006\n",
       "185460  Treasure Island Kids: The Battle of Treasure I...  2006\n",
       "207832  Treasure Island Kids: The Monster of Treasure ...  2006\n",
       "178074             National Theatre Live: Treasure Island  2015"
      ]
     },
     "execution_count": 30,
     "metadata": {},
     "output_type": "execute_result"
    }
   ],
   "source": [
    "#7\n",
    "movie[movie['title'].str.contains('Treasure Island')].sort_values('year')"
   ]
  },
  {
   "cell_type": "code",
   "execution_count": 31,
   "id": "b3a118e3",
   "metadata": {},
   "outputs": [
    {
     "data": {
      "text/plain": [
       "12120"
      ]
     },
     "execution_count": 31,
     "metadata": {},
     "output_type": "execute_result"
    }
   ],
   "source": [
    "#8\n",
    "movie[(movie['year']>=1950) & (movie['year']<=1959)].shape[0]"
   ]
  }
 ],
 "metadata": {
  "kernelspec": {
   "display_name": "Python 3",
   "language": "python",
   "name": "python3"
  },
  "language_info": {
   "codemirror_mode": {
    "name": "ipython",
    "version": 3
   },
   "file_extension": ".py",
   "mimetype": "text/x-python",
   "name": "python",
   "nbconvert_exporter": "python",
   "pygments_lexer": "ipython3",
   "version": "3.8.8"
  }
 },
 "nbformat": 4,
 "nbformat_minor": 5
}
