{
 "cells": [
  {
   "cell_type": "code",
   "execution_count": 3,
   "id": "1b75f0ed",
   "metadata": {},
   "outputs": [
    {
     "data": {
      "image/png": "[encoded data removed]",
      "text/plain": [
       "<Figure size 576x144 with 8 Axes>"
      ]
     },
     "metadata": {
      "needs_background": "light"
     },
     "output_type": "display_data"
    }
   ],
   "source": [
    "from sklearn.datasets import load_digits\n",
    "import matplotlib.pyplot as plt\n",
    "digits = load_digits()\n",
    "samples = [0,1,10,11,20,21,30,31]\n",
    "d = []\n",
    "for i in range(8):\n",
    "    d.append(digits.images[samples[i]])\n",
    "\n",
    "plt.figure(figsize=(8,2))\n",
    "for i in range(8):\n",
    "    plt.subplot(1,8,i+1)\n",
    "    plt.imshow(d[i], interpolation = 'nearest',cmap=plt.cm.bone_r)\n",
    "    \n",
    "plt.show()"
   ]
  },
  {
   "cell_type": "code",
   "execution_count": 5,
   "id": "bf1d9e31",
   "metadata": {},
   "outputs": [
    {
     "data": {
      "image/png": "[encoded data removed]",
      "text/plain": [
       "<Figure size 576x144 with 8 Axes>"
      ]
     },
     "metadata": {
      "needs_background": "light"
     },
     "output_type": "display_data"
    }
   ],
   "source": [
    "v = []\n",
    "for i in range(8):\n",
    "    v.append(d[i].reshape(64,1))\n",
    "    \n",
    "plt.figure(figsize=(8,2))\n",
    "for i in range(8):\n",
    "    plt.subplot(1,8,i+1)\n",
    "    plt.imshow(v[i], interpolation = 'nearest',cmap=plt.cm.bone_r, aspect=0.4)\n",
    "    \n",
    "plt.show()"
   ]
  },
  {
   "cell_type": "code",
   "execution_count": 8,
   "id": "fb8e510b",
   "metadata": {},
   "outputs": [],
   "source": [
    "from sklearn.datasets import load_iris"
   ]
  },
  {
   "cell_type": "code",
   "execution_count": 14,
   "id": "2ef5ed45",
   "metadata": {},
   "outputs": [
    {
     "name": "stdout",
     "output_type": "stream",
     "text": [
      ".. _iris_dataset:\n",
      "\n",
      "Iris plants dataset\n",
      "--------------------\n",
      "\n",
      "**Data Set Characteristics:**\n",
      "\n",
      "    :Number of Instances: 150 (50 in each of three classes)\n",
      "    :Number of Attributes: 4 numeric, predictive attributes and the class\n",
      "    :Attribute Information:\n",
      "        - sepal length in cm\n",
      "        - sepal width in cm\n",
      "        - petal length in cm\n",
      "        - petal width in cm\n",
      "        - class:\n",
      "                - Iris-Setosa\n",
      "                - Iris-Versicolour\n",
      "                - Iris-Virginica\n",
      "                \n",
      "    :Summary Statistics:\n",
      "\n",
      "    ============== ==== ==== ======= ===== ====================\n",
      "                    Min  Max   Mean    SD   Class Correlation\n",
      "    ============== ==== ==== ======= ===== ====================\n",
      "    sepal length:   4.3  7.9   5.84   0.83    0.7826\n",
      "    sepal width:    2.0  4.4   3.05   0.43   -0.4194\n",
      "    petal length:   1.0  6.9   3.76   1.76    0.9490  (high!)\n",
      "    petal width:    0.1  2.5   1.20   0.76    0.9565  (high!)\n",
      "    ============== ==== ==== ======= ===== ====================\n",
      "\n",
      "    :Missing Attribute Values: None\n",
      "    :Class Distribution: 33.3% for each of 3 classes.\n",
      "    :Creator: R.A. Fisher\n",
      "    :Donor: Michael Marshall (MARSHALL%PLU@io.arc.nasa.gov)\n",
      "    :Date: July, 1988\n",
      "\n",
      "The famous Iris database, first used by Sir R.A. Fisher. The dataset is taken\n",
      "from Fisher's paper. Note that it's the same as in R, but not as in the UCI\n",
      "Machine Learning Repository, which has two wrong data points.\n",
      "\n",
      "This is perhaps the best known database to be found in the\n",
      "pattern recognition literature.  Fisher's paper is a classic in the field and\n",
      "is referenced frequently to this day.  (See Duda & Hart, for example.)  The\n",
      "data set contains 3 classes of 50 instances each, where each class refers to a\n",
      "type of iris plant.  One class is linearly separable from the other 2; the\n",
      "latter are NOT linearly separable from each other.\n",
      "\n",
      ".. topic:: References\n",
      "\n",
      "   - Fisher, R.A. \"The use of multiple measurements in taxonomic problems\"\n",
      "     Annual Eugenics, 7, Part II, 179-188 (1936); also in \"Contributions to\n",
      "     Mathematical Statistics\" (John Wiley, NY, 1950).\n",
      "   - Duda, R.O., & Hart, P.E. (1973) Pattern Classification and Scene Analysis.\n",
      "     (Q327.D83) John Wiley & Sons.  ISBN 0-471-22361-1.  See page 218.\n",
      "   - Dasarathy, B.V. (1980) \"Nosing Around the Neighborhood: A New System\n",
      "     Structure and Classification Rule for Recognition in Partially Exposed\n",
      "     Environments\".  IEEE Transactions on Pattern Analysis and Machine\n",
      "     Intelligence, Vol. PAMI-2, No. 1, 67-71.\n",
      "   - Gates, G.W. (1972) \"The Reduced Nearest Neighbor Rule\".  IEEE Transactions\n",
      "     on Information Theory, May 1972, 431-433.\n",
      "   - See also: 1988 MLC Proceedings, 54-64.  Cheeseman et al\"s AUTOCLASS II\n",
      "     conceptual clustering system finds 3 classes in the data.\n",
      "   - Many, many more ...\n"
     ]
    }
   ],
   "source": [
    "iris = load_iris()\n",
    "print(iris.DESCR)"
   ]
  },
  {
   "cell_type": "code",
   "execution_count": 18,
   "id": "3c13e629",
   "metadata": {},
   "outputs": [],
   "source": [
    "import pandas as pd\n",
    "\n",
    "df = pd.DataFrame(iris['data'], columns=iris['feature_names'])"
   ]
  },
  {
   "cell_type": "code",
   "execution_count": 19,
   "id": "f076043f",
   "metadata": {},
   "outputs": [
    {
     "data": {
      "text/html": [
       "<div>\n",
       "<style scoped>\n",
       "    .dataframe tbody tr th:only-of-type {\n",
       "        vertical-align: middle;\n",
       "    }\n",
       "\n",
       "    .dataframe tbody tr th {\n",
       "        vertical-align: top;\n",
       "    }\n",
       "\n",
       "    .dataframe thead th {\n",
       "        text-align: right;\n",
       "    }\n",
       "</style>\n",
       "<table border=\"1\" class=\"dataframe\">\n",
       "  <thead>\n",
       "    <tr style=\"text-align: right;\">\n",
       "      <th></th>\n",
       "      <th>sepal length (cm)</th>\n",
       "      <th>sepal width (cm)</th>\n",
       "      <th>petal length (cm)</th>\n",
       "      <th>petal width (cm)</th>\n",
       "    </tr>\n",
       "  </thead>\n",
       "  <tbody>\n",
       "    <tr>\n",
       "      <th>0</th>\n",
       "      <td>5.1</td>\n",
       "      <td>3.5</td>\n",
       "      <td>1.4</td>\n",
       "      <td>0.2</td>\n",
       "    </tr>\n",
       "    <tr>\n",
       "      <th>1</th>\n",
       "      <td>4.9</td>\n",
       "      <td>3.0</td>\n",
       "      <td>1.4</td>\n",
       "      <td>0.2</td>\n",
       "    </tr>\n",
       "    <tr>\n",
       "      <th>2</th>\n",
       "      <td>4.7</td>\n",
       "      <td>3.2</td>\n",
       "      <td>1.3</td>\n",
       "      <td>0.2</td>\n",
       "    </tr>\n",
       "    <tr>\n",
       "      <th>3</th>\n",
       "      <td>4.6</td>\n",
       "      <td>3.1</td>\n",
       "      <td>1.5</td>\n",
       "      <td>0.2</td>\n",
       "    </tr>\n",
       "    <tr>\n",
       "      <th>4</th>\n",
       "      <td>5.0</td>\n",
       "      <td>3.6</td>\n",
       "      <td>1.4</td>\n",
       "      <td>0.2</td>\n",
       "    </tr>\n",
       "  </tbody>\n",
       "</table>\n",
       "</div>"
      ],
      "text/plain": [
       "   sepal length (cm)  sepal width (cm)  petal length (cm)  petal width (cm)\n",
       "0                5.1               3.5                1.4               0.2\n",
       "1                4.9               3.0                1.4               0.2\n",
       "2                4.7               3.2                1.3               0.2\n",
       "3                4.6               3.1                1.5               0.2\n",
       "4                5.0               3.6                1.4               0.2"
      ]
     },
     "execution_count": 19,
     "metadata": {},
     "output_type": "execute_result"
    }
   ],
   "source": [
    "df.head()"
   ]
  },
  {
   "cell_type": "code",
   "execution_count": 20,
   "id": "a7e44ba6",
   "metadata": {},
   "outputs": [
    {
     "data": {
      "text/plain": [
       "array(['setosa', 'versicolor', 'virginica'], dtype='<U10')"
      ]
     },
     "execution_count": 20,
     "metadata": {},
     "output_type": "execute_result"
    }
   ],
   "source": [
    "target_names = iris['target_names']\n",
    "target_names"
   ]
  },
  {
   "cell_type": "code",
   "execution_count": 21,
   "id": "b51adf7c",
   "metadata": {},
   "outputs": [
    {
     "data": {
      "text/plain": [
       "array(['setosa', 'versicolor', 'virginica'], dtype='<U10')"
      ]
     },
     "execution_count": 21,
     "metadata": {},
     "output_type": "execute_result"
    }
   ],
   "source": [
    "iris.target_names"
   ]
  },
  {
   "cell_type": "code",
   "execution_count": 22,
   "id": "86c95e14",
   "metadata": {},
   "outputs": [
    {
     "data": {
      "text/plain": [
       "'c:\\\\users\\\\lambferret\\\\appdata\\\\local\\\\programs\\\\python\\\\python39\\\\lib\\\\site-packages\\\\sklearn\\\\datasets\\\\data\\\\iris.csv'"
      ]
     },
     "execution_count": 22,
     "metadata": {},
     "output_type": "execute_result"
    }
   ],
   "source": [
    "iris.filename\n"
   ]
  },
  {
   "cell_type": "code",
   "execution_count": 28,
   "id": "8523aa82",
   "metadata": {},
   "outputs": [
    {
     "data": {
      "text/plain": [
       "870"
      ]
     },
     "execution_count": 28,
     "metadata": {},
     "output_type": "execute_result"
    }
   ],
   "source": [
    "import numpy as np\n",
    "a = np.array([100,80,50])\n",
    "b = np.array([3,4,5])\n",
    "np.dot(a,b)\n"
   ]
  },
  {
   "cell_type": "code",
   "execution_count": 30,
   "id": "68f31690",
   "metadata": {},
   "outputs": [],
   "source": [
    "q = a -a.mean()"
   ]
  },
  {
   "cell_type": "code",
   "execution_count": 31,
   "id": "b5b773e3",
   "metadata": {},
   "outputs": [
    {
     "data": {
      "text/plain": [
       "array([ 23.33333333,   3.33333333, -26.66666667])"
      ]
     },
     "execution_count": 31,
     "metadata": {},
     "output_type": "execute_result"
    }
   ],
   "source": [
    "q\n"
   ]
  },
  {
   "cell_type": "code",
   "execution_count": 32,
   "id": "14ffb764",
   "metadata": {},
   "outputs": [],
   "source": [
    "import matplotlib.gridspec as gridspec\n",
    "\n",
    "digits = load_digits()\n",
    "d1 = digits.images[0]\n",
    "d2 = digits.images[10]\n",
    "d3 = digits.images[1]\n",
    "d4 = digits.images[11]\n",
    "v1 = d1.reshape(64, 1)\n",
    "v2 = d2.reshape(64, 1)\n",
    "v3 = d3.reshape(64, 1)\n",
    "v4 = d4.reshape(64, 1)"
   ]
  },
  {
   "cell_type": "code",
   "execution_count": 33,
   "id": "288f76d2",
   "metadata": {},
   "outputs": [
    {
     "data": {
      "text/plain": [
       "array([[ 0.,  0.,  5., 13.,  9.,  1.,  0.,  0.],\n",
       "       [ 0.,  0., 13., 15., 10., 15.,  5.,  0.],\n",
       "       [ 0.,  3., 15.,  2.,  0., 11.,  8.,  0.],\n",
       "       [ 0.,  4., 12.,  0.,  0.,  8.,  8.,  0.],\n",
       "       [ 0.,  5.,  8.,  0.,  0.,  9.,  8.,  0.],\n",
       "       [ 0.,  4., 11.,  0.,  1., 12.,  7.,  0.],\n",
       "       [ 0.,  2., 14.,  5., 10., 12.,  0.,  0.],\n",
       "       [ 0.,  0.,  6., 13., 10.,  0.,  0.,  0.]])"
      ]
     },
     "execution_count": 33,
     "metadata": {},
     "output_type": "execute_result"
    }
   ],
   "source": [
    "d1"
   ]
  },
  {
   "cell_type": "code",
   "execution_count": 40,
   "id": "e628f366",
   "metadata": {},
   "outputs": [
    {
     "data": {
      "text/plain": [
       "array([[3064.]])"
      ]
     },
     "execution_count": 40,
     "metadata": {},
     "output_type": "execute_result"
    }
   ],
   "source": [
    "(v1.T@v2)\n"
   ]
  },
  {
   "cell_type": "code",
   "execution_count": 41,
   "id": "8e0e0275",
   "metadata": {},
   "outputs": [
    {
     "name": "stdout",
     "output_type": "stream",
     "text": [
      ".. _linnerrud_dataset:\n",
      "\n",
      "Linnerrud dataset\n",
      "-----------------\n",
      "\n",
      "**Data Set Characteristics:**\n",
      "\n",
      "    :Number of Instances: 20\n",
      "    :Number of Attributes: 3\n",
      "    :Missing Attribute Values: None\n",
      "\n",
      "The Linnerud dataset is a multi-output regression dataset. It consists of three\n",
      "excercise (data) and three physiological (target) variables collected from\n",
      "twenty middle-aged men in a fitness club:\n",
      "\n",
      "- *physiological* - CSV containing 20 observations on 3 physiological variables:\n",
      "   Weight, Waist and Pulse.\n",
      "- *exercise* - CSV containing 20 observations on 3 exercise variables:\n",
      "   Chins, Situps and Jumps.\n",
      "\n",
      ".. topic:: References\n",
      "\n",
      "  * Tenenhaus, M. (1998). La regression PLS: theorie et pratique. Paris:\n",
      "    Editions Technic.\n",
      "\n"
     ]
    }
   ],
   "source": [
    "# 여기에 코드를 작성해주세요.\n",
    "\n",
    "from sklearn.datasets import load_linnerud\n",
    "from sklearn.decomposition import PCA\n",
    "import numpy as np\n",
    "import pandas as pd\n",
    "\n",
    "ll = load_linnerud()\n",
    "\n",
    "\n",
    "\n",
    "### ------------ 위는 수정하지 마세요---------- ###\n",
    "# 문제의 조건에 맞게 아래 빈 코드를 완성해주세요 #\n",
    "\n",
    "# 요구사항1.\n",
    "print(ll.DESCR)"
   ]
  },
  {
   "cell_type": "code",
   "execution_count": 43,
   "id": "fcc66199",
   "metadata": {},
   "outputs": [
    {
     "data": {
      "text/plain": [
       "dict_keys(['data', 'feature_names', 'target', 'target_names', 'frame', 'DESCR', 'data_filename', 'target_filename'])"
      ]
     },
     "execution_count": 43,
     "metadata": {},
     "output_type": "execute_result"
    }
   ],
   "source": [
    "ll.keys()\n"
   ]
  },
  {
   "cell_type": "code",
   "execution_count": null,
   "id": "5e466dbd",
   "metadata": {},
   "outputs": [],
   "source": [
    "# 요구사항2\n",
    "\n",
    "\n",
    "\n",
    "total = \n",
    "print(total)"
   ]
  },
  {
   "cell_type": "code",
   "execution_count": 60,
   "id": "e4ce7640",
   "metadata": {},
   "outputs": [
    {
     "name": "stdout",
     "output_type": "stream",
     "text": [
      "[[  5. 162.  60. 191.  36.  50.]\n",
      " [  2. 110.  60. 189.  37.  52.]\n",
      " [ 12. 101. 101. 193.  38.  58.]\n",
      " [ 12. 105.  37. 162.  35.  62.]\n",
      " [ 13. 155.  58. 189.  35.  46.]\n",
      " [  4. 101.  42. 182.  36.  56.]\n",
      " [  8. 101.  38. 211.  38.  56.]\n",
      " [  6. 125.  40. 167.  34.  60.]\n",
      " [ 15. 200.  40. 176.  31.  74.]\n",
      " [ 17. 251. 250. 154.  33.  56.]\n",
      " [ 17. 120.  38. 169.  34.  50.]\n",
      " [ 13. 210. 115. 166.  33.  52.]\n",
      " [ 14. 215. 105. 154.  34.  64.]\n",
      " [  1.  50.  50. 247.  46.  50.]\n",
      " [  6.  70.  31. 193.  36.  46.]\n",
      " [ 12. 210. 120. 202.  37.  62.]\n",
      " [  4.  60.  25. 176.  37.  54.]\n",
      " [ 11. 230.  80. 157.  32.  52.]\n",
      " [ 15. 225.  73. 156.  33.  54.]\n",
      " [  2. 110.  43. 138.  33.  68.]]\n"
     ]
    }
   ],
   "source": [
    "data = pd.DataFrame(ll['data'], columns=ll['feature_names'])\n",
    "target = pd.DataFrame(ll['target'], columns=ll['target_names'])\n",
    "\n",
    "\n",
    "\n",
    "\n",
    "total = np.hstack((data,target))\n",
    "print(total)"
   ]
  },
  {
   "cell_type": "code",
   "execution_count": 62,
   "id": "95b4ac57",
   "metadata": {},
   "outputs": [
    {
     "name": "stdout",
     "output_type": "stream",
     "text": [
      "[[  4.84819239]\n",
      " [-36.37337868]\n",
      " [-19.71530279]\n",
      " [-48.87880057]\n",
      " [ -1.24439301]\n",
      " [-52.7513643 ]\n",
      " [-59.41274725]\n",
      " [-32.28039126]\n",
      " [ 26.78843143]\n",
      " [192.82401404]\n",
      " [-37.38376798]\n",
      " [ 79.442903  ]\n",
      " [ 79.6880306 ]\n",
      " [-99.21237644]\n",
      " [-85.61627864]\n",
      " [ 76.83255115]\n",
      " [-94.42592828]\n",
      " [ 76.29783425]\n",
      " [ 68.59828074]\n",
      " [-38.02550839]]\n"
     ]
    }
   ],
   "source": [
    "from sklearn.decomposition import PCA\n",
    "pca = PCA(n_components = 1)\n",
    "body_index = pca.fit_transform(total)\n",
    "\n",
    "print(body_index)"
   ]
  },
  {
   "cell_type": "code",
   "execution_count": 65,
   "id": "2e4a832a",
   "metadata": {},
   "outputs": [
    {
     "name": "stdout",
     "output_type": "stream",
     "text": [
      "[[  5. 162.  60. 191.  36.  50.]\n",
      " [  2. 110.  60. 189.  37.  52.]\n",
      " [ 12. 101. 101. 193.  38.  58.]\n",
      " [ 12. 105.  37. 162.  35.  62.]\n",
      " [ 13. 155.  58. 189.  35.  46.]\n",
      " [  4. 101.  42. 182.  36.  56.]\n",
      " [  8. 101.  38. 211.  38.  56.]\n",
      " [  6. 125.  40. 167.  34.  60.]\n",
      " [ 15. 200.  40. 176.  31.  74.]\n",
      " [ 17. 251. 250. 154.  33.  56.]\n",
      " [ 17. 120.  38. 169.  34.  50.]\n",
      " [ 13. 210. 115. 166.  33.  52.]\n",
      " [ 14. 215. 105. 154.  34.  64.]\n",
      " [  1.  50.  50. 247.  46.  50.]\n",
      " [  6.  70.  31. 193.  36.  46.]\n",
      " [ 12. 210. 120. 202.  37.  62.]\n",
      " [  4.  60.  25. 176.  37.  54.]\n",
      " [ 11. 230.  80. 157.  32.  52.]\n",
      " [ 15. 225.  73. 156.  33.  54.]\n",
      " [  2. 110.  43. 138.  33.  68.]]\n",
      "[[  9.68240123 149.40974964  73.12363867 177.85161938  35.28616082\n",
      "   56.1855779 ]\n",
      " [  7.70641862 116.59237538  49.11575846 184.21469709  36.2540741\n",
      "   55.45795509]\n",
      " [  8.50493424 129.85422583  58.81759854 181.64330962  35.86293004\n",
      "   55.75199522]\n",
      " [  7.10696316 106.63654159  41.83246811 186.1450692   36.54771075\n",
      "   55.23721556]\n",
      " [  9.39034922 144.55931212  69.57525231 178.79208801  35.42921928\n",
      "   56.07803459]\n",
      " [  6.92132931 103.55351078  39.57704592 186.74284904  36.63864144\n",
      "   55.16885898]\n",
      " [  6.60201163  98.25024137  35.69738584 187.77111885  36.79505568\n",
      "   55.05127554]\n",
      " [  7.90261862 119.8508902   51.49955775 183.58289203  36.1579677\n",
      "   55.53020248]\n",
      " [ 10.73412075 166.87684314  85.9018666  174.46486234  34.77098762\n",
      "   56.57285616]\n",
      " [ 18.69314353 299.06132114 182.60275097 148.83514259  30.87234812\n",
      "   59.50363423]\n",
      " [  7.65798496 115.78798285  48.52729701 184.37066362  36.2777988\n",
      "   55.4401202 ]\n",
      " [ 13.25814681 208.79619397 116.56838932 166.33696994  33.5346213\n",
      "   57.50228687]\n",
      " [ 13.26989716 208.9913453  116.71115423 166.29913135  33.52886552\n",
      "   57.50661375]\n",
      " [  4.69419072  66.56490544  12.51765966 193.91470161  37.7295807\n",
      "   54.34875215]\n",
      " [  5.34592844  77.38904966  20.43617123 191.8159697   37.41033417\n",
      "   54.58874375]\n",
      " [ 13.13301791 206.71803705 115.04809272 166.7399112   33.59591431\n",
      "   57.45621023]\n",
      " [  4.9236322   70.37549919  15.30533784 193.175852    37.61719133\n",
      "   54.43324017]\n",
      " [ 13.10738592 206.29233749 114.73666792 166.8224516   33.60846986\n",
      "   57.44677168]\n",
      " [ 12.73830285 200.16255828 110.25236629 168.01097635  33.78926113\n",
      "   57.31086296]\n",
      " [  7.62722272 115.27707959  48.15354059 184.46972448  36.29286734\n",
      "   55.42879251]]\n"
     ]
    }
   ],
   "source": [
    "\n",
    "recovered_data =  pca.inverse_transform(body_index)\n",
    "print(total)\n",
    "print(recovered_data)"
   ]
  },
  {
   "cell_type": "code",
   "execution_count": 75,
   "id": "210e24a4",
   "metadata": {},
   "outputs": [
    {
     "name": "stdout",
     "output_type": "stream",
     "text": [
      "0.78\n"
     ]
    }
   ],
   "source": [
    "explained_variance = pca.explained_variance_ratio_\n",
    "print(round(explained_variance[0],2))"
   ]
  },
  {
   "cell_type": "code",
   "execution_count": 81,
   "id": "5dfd1394",
   "metadata": {},
   "outputs": [
    {
     "data": {
      "image/png": "[encoded data removed]",
      "text/plain": [
       "<Figure size 432x288 with 3 Axes>"
      ]
     },
     "metadata": {},
     "output_type": "display_data"
    }
   ],
   "source": [
    "from sklearn.datasets import fetch_olivetti_faces\n",
    "faces = fetch_olivetti_faces()\n",
    "f, ax = plt.subplots(1, 3)\n",
    "ax[0].imshow(faces.images[6], cmap=plt.cm.bone)\n",
    "ax[0].grid(False)\n",
    "ax[0].set_xticks([])\n",
    "ax[0].set_yticks([])\n",
    "ax[0].set_title(\"image 1: $x_1$\")\n",
    "ax[1].imshow(faces.images[10], cmap=plt.cm.bone)\n",
    "ax[1].grid(False)\n",
    "ax[1].set_xticks([])\n",
    "ax[1].set_yticks([])\n",
    "ax[1].set_title(\"image 2: $x_2$\")\n",
    "new_face = 0.3* faces.images[6] + 0.7 * faces.images[10]\n",
    "ax[2].imshow(new_face, cmap=plt.cm.bone)\n",
    "ax[2].grid(False)\n",
    "ax[2].set_xticks([])\n",
    "ax[2].set_yticks([])\n",
    "ax[2].set_title(\"image 3: $0.7x_1 + 0.3x_2$\")\n",
    "plt.show()"
   ]
  },
  {
   "cell_type": "code",
   "execution_count": null,
   "id": "efce449e",
   "metadata": {},
   "outputs": [],
   "source": []
  }
 ],
 "metadata": {
  "kernelspec": {
   "display_name": "Python 3",
   "language": "python",
   "name": "python3"
  },
  "language_info": {
   "codemirror_mode": {
    "name": "ipython",
    "version": 3
   },
   "file_extension": ".py",
   "mimetype": "text/x-python",
   "name": "python",
   "nbconvert_exporter": "python",
   "pygments_lexer": "ipython3",
   "version": "3.9.5"
  }
 },
 "nbformat": 4,
 "nbformat_minor": 5
}
