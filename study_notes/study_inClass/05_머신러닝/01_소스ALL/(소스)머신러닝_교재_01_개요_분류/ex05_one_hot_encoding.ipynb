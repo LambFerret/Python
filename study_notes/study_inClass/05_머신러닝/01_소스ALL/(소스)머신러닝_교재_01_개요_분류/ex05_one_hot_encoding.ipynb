{
 "cells": [
  {
   "cell_type": "code",
   "execution_count": 1,
   "metadata": {},
   "outputs": [
    {
     "name": "stdout",
     "output_type": "stream",
     "text": [
      "[[1. 0. 0.]\n",
      " [0. 1. 0.]\n",
      " [0. 0. 1.]\n",
      " [1. 0. 0.]\n",
      " [0. 0. 1.]]\n"
     ]
    },
    {
     "name": "stderr",
     "output_type": "stream",
     "text": [
      "A:\\Python\\Anaconda3_201903\\lib\\site-packages\\sklearn\\preprocessing\\_encoders.py:371: FutureWarning: The handling of integer data will change in version 0.22. Currently, the categories are determined based on the range [0, max(values)], while in the future they will be determined based on the unique values.\n",
      "If you want the future behaviour and silence this warning, you can specify \"categories='auto'\".\n",
      "In case you used a LabelEncoder before this OneHotEncoder to convert the categories to integers, then you can now use the OneHotEncoder directly.\n",
      "  warnings.warn(msg, FutureWarning)\n"
     ]
    }
   ],
   "source": [
    "from sklearn.preprocessing  import OneHotEncoder \n",
    "\n",
    "def main():\n",
    "    enc = OneHotEncoder ()\n",
    "    sourcedata = [\n",
    "        [65],\n",
    "        [66],\n",
    "        [67]\n",
    "    ]\n",
    "    enc.fit (sourcedata)\n",
    "\n",
    "    data =[\n",
    "        [65],\n",
    "        [66],\n",
    "        [67],\n",
    "        [65],\n",
    "        [67]\n",
    "    ]\n",
    "    print(enc.transform (data).toarray())\n",
    "\n",
    "if __name__ == '__main__':\n",
    "    main()"
   ]
  },
  {
   "cell_type": "code",
   "execution_count": 2,
   "metadata": {},
   "outputs": [
    {
     "name": "stdout",
     "output_type": "stream",
     "text": [
      "[[1. 0. 0.]\n",
      " [1. 0. 0.]\n",
      " [0. 1. 0.]\n",
      " [0. 1. 0.]\n",
      " [0. 0. 1.]]\n"
     ]
    }
   ],
   "source": [
    "from sklearn.preprocessing  import OneHotEncoder \n",
    "\n",
    "def main():\n",
    "    enc = OneHotEncoder ()\n",
    "    sourcedata = [\n",
    "        ['A'],\n",
    "        ['B'],\n",
    "        ['C']\n",
    "    ]\n",
    "    enc.fit (sourcedata)\n",
    "\n",
    "    data =[\n",
    "        ['A'],\n",
    "        ['A'],\n",
    "        ['B'],\n",
    "        ['B'],\n",
    "        ['C']\n",
    "    ]\n",
    "    print(enc.transform (data).toarray())\n",
    "\n",
    "if __name__ == '__main__':     \n",
    "    main()"
   ]
  },
  {
   "cell_type": "code",
   "execution_count": null,
   "metadata": {},
   "outputs": [],
   "source": []
  }
 ],
 "metadata": {
  "kernelspec": {
   "display_name": "Python 3",
   "language": "python",
   "name": "python3"
  },
  "language_info": {
   "codemirror_mode": {
    "name": "ipython",
    "version": 3
   },
   "file_extension": ".py",
   "mimetype": "text/x-python",
   "name": "python",
   "nbconvert_exporter": "python",
   "pygments_lexer": "ipython3",
   "version": "3.6.7"
  }
 },
 "nbformat": 4,
 "nbformat_minor": 2
}
