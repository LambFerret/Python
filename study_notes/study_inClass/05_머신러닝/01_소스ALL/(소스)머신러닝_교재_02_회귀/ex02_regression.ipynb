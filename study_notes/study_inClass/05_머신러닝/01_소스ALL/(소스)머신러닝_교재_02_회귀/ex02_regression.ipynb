{
 "cells": [
  {
   "cell_type": "markdown",
   "metadata": {},
   "source": [
    "####    #TODO를 찾아서 코드를 완성하세요"
   ]
  },
  {
   "cell_type": "code",
   "execution_count": 2,
   "metadata": {},
   "outputs": [
    {
     "name": "stdout",
     "output_type": "stream",
     "text": [
      "[[65.]]\n"
     ]
    }
   ],
   "source": [
    "from sklearn.linear_model import LinearRegression\n",
    "\n",
    "x = [[10,3],[5,2],[9,3],[7,3]]      #공부시간,학년: 10시간,3   5시간,2, 9시간,3, 7시간,3\n",
    "y = [[100],[50],[90],[77]]          #시험점수:      100점      50점,    90점      77점\n",
    "\n",
    "model = LinearRegression()\n",
    "\n",
    "model = model.fit(x, y)\n",
    "result =model.predict([[7,2]])   #7시간공부,  2학년\n",
    "\n",
    "print(result)\n",
    "\n"
   ]
  }
 ],
 "metadata": {
  "kernelspec": {
   "display_name": "Python 3",
   "language": "python",
   "name": "python3"
  },
  "language_info": {
   "codemirror_mode": {
    "name": "ipython",
    "version": 3
   },
   "file_extension": ".py",
   "mimetype": "text/x-python",
   "name": "python",
   "nbconvert_exporter": "python",
   "pygments_lexer": "ipython3",
   "version": "3.7.3"
  }
 },
 "nbformat": 4,
 "nbformat_minor": 2
}
