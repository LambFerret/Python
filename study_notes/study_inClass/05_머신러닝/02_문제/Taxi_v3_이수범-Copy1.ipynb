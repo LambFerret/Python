{
 "cells": [
  {
   "cell_type": "code",
   "execution_count": 18,
   "id": "c2bbe3f9",
   "metadata": {},
   "outputs": [],
   "source": [
    "import gym\n",
    "import numpy as np\n",
    "import random\n",
    "from gym.envs.registration import register\n",
    "import matplotlib.pyplot as plt\n",
    "\n",
    "env = gym.make(\"Taxi-v3\")\n",
    "#print(env.observation_space.n)\n",
    "#print(env.action_space.n)\n",
    "\n",
    "def rargmax(vector):\n",
    "    m = np.max(vector)\n",
    "    indices = np.nonzero(vector == m)[0]\n",
    "    return random.choice(indices)\n",
    "\n",
    "Q = np.zeros([env.observation_space.n, env.action_space.n])\n",
    "num_episodes = 10000\n",
    "num_test_episodes = 100"
   ]
  },
  {
   "cell_type": "code",
   "execution_count": 19,
   "id": "fd4ea12e",
   "metadata": {},
   "outputs": [
    {
     "name": "stderr",
     "output_type": "stream",
     "text": [
      "<ipython-input-19-10662ce010ad>:12: RuntimeWarning: divide by zero encountered in true_divide\n",
      "  action = np.argmax(Q[observation,:] + np.random.randn(1,env.action_space.n)/ i + 1)\n"
     ]
    }
   ],
   "source": [
    "#학습하기\n",
    "# 전체 리워드 포함한 리스트 만들기\n",
    "rList = []\n",
    "learning_rate = 0.85\n",
    "dis = .99\n",
    "for i in range(num_episodes): # 여러번 반복해서 학습\n",
    "    observation = env.reset() # 환경을 리세하고, 첫번재 상태로 복귀\n",
    "    rAll = 0\n",
    "    done = False\n",
    "    # Q-Table 학습시키기\n",
    "    while not done:\n",
    "        action = np.argmax(Q[observation,:] + np.random.randn(1,env.action_space.n)/ i + 1)                     \n",
    "                                 \n",
    "        #새로운 Observation 이랑 Reward\n",
    "        new_observation, reward, done, info = env.step(action)\n",
    "            \n",
    "        Q[observation, action] = (1-learning_rate) * Q[observation, action] + learning_rate*(reward + dis * np.max(Q[new_observation, :]))\n",
    "        \n",
    "        rAll += reward\n",
    "        observation = new_observation\n",
    "    rList.append(rAll)"
   ]
  },
  {
   "cell_type": "code",
   "execution_count": 20,
   "id": "67faec46",
   "metadata": {},
   "outputs": [
    {
     "name": "stdout",
     "output_type": "stream",
     "text": [
      "Success rate: 4.972\n",
      "점수 : 6\n",
      "[[ 0.          0.          0.          0.          0.          0.        ]\n",
      " [-6.53909483 -5.80040626 -5.78192327 -5.80040626  9.6220697  -8.5       ]\n",
      " [-4.77889112 -4.17836152 -4.81948209 -4.17836152 14.11880599 -8.5       ]\n",
      " ...\n",
      " [-2.52838641 -2.63763444 -2.52838641 -2.5444801  -8.5        -8.5       ]\n",
      " [-4.99284545 -4.98922541 -4.99284545 -4.38345569 -8.5        -8.5       ]\n",
      " [-0.85       -0.85        0.         18.62294749 -8.5        -8.5       ]]\n"
     ]
    },
    {
     "data": {
      "image/png": "[encoded data removed]",
      "text/plain": [
       "<Figure size 432x288 with 1 Axes>"
      ]
     },
     "metadata": {
      "needs_background": "light"
     },
     "output_type": "display_data"
    }
   ],
   "source": [
    "# 학습 데이터 확인\n",
    "print(\"Success rate: \" + str(sum(rList) / num_episodes))\n",
    "print(\"점수 : \" + str(rList[-1]))\n",
    "print(Q)\n",
    "\n",
    "plt.bar(range(len(rList)), rList, color=\"b\", alpha=0.4)\n",
    "plt.show()"
   ]
  },
  {
   "cell_type": "code",
   "execution_count": 21,
   "id": "9d9260d7",
   "metadata": {},
   "outputs": [
    {
     "name": "stdout",
     "output_type": "stream",
     "text": [
      "Success rate: 1.73\n",
      "점수 : 13\n"
     ]
    }
   ],
   "source": [
    "#이게 맞나...\n",
    "\n",
    "env.reset()\n",
    "rList = []\n",
    "for episode in range(num_test_episodes):\n",
    "    observation = env.reset()\n",
    "    rAll = 0\n",
    "    done = False\n",
    "    for i in range(10):\n",
    "        action = np.argmax(Q[observation,:])\n",
    "        new_observation, reward, done, info = env.step(action)\n",
    "        rAll += reward\n",
    "        \n",
    "        if done:\n",
    "            rList.append(rAll)\n",
    "            break\n",
    "        observation = new_observation\n",
    "env.close()\n",
    "print(\"Success rate: \" + str(sum(rList) / num_test_episodes))\n",
    "print(\"점수 : \" + str(rList[-1]))"
   ]
  },
  {
   "cell_type": "code",
   "execution_count": null,
   "id": "b09356ac",
   "metadata": {},
   "outputs": [],
   "source": []
  },
  {
   "cell_type": "code",
   "execution_count": null,
   "id": "dd7c03e9",
   "metadata": {},
   "outputs": [],
   "source": []
  },
  {
   "cell_type": "code",
   "execution_count": null,
   "id": "6210ac6d",
   "metadata": {},
   "outputs": [],
   "source": []
  }
 ],
 "metadata": {
  "kernelspec": {
   "display_name": "Python 3",
   "language": "python",
   "name": "python3"
  },
  "language_info": {
   "codemirror_mode": {
    "name": "ipython",
    "version": 3
   },
   "file_extension": ".py",
   "mimetype": "text/x-python",
   "name": "python",
   "nbconvert_exporter": "python",
   "pygments_lexer": "ipython3",
   "version": "3.8.8"
  }
 },
 "nbformat": 4,
 "nbformat_minor": 5
}
